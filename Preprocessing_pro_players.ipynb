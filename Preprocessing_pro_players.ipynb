{
 "cells": [
  {
   "cell_type": "code",
   "execution_count": 2,
   "metadata": {
    "id": "XSS8rREDs_1D"
   },
   "outputs": [],
   "source": [
    "import numpy as np\n",
    "import pandas as pd\n",
    "import re\n",
    "import networkx as nx\n",
    "from matplotlib import pyplot as plt"
   ]
  },
  {
   "cell_type": "markdown",
   "metadata": {
    "id": "n8SfjL0S765z"
   },
   "source": [
    "# Data"
   ]
  },
  {
   "cell_type": "markdown",
   "metadata": {
    "id": "fS53dZQVkgFG"
   },
   "source": [
    "## Matches"
   ]
  },
  {
   "cell_type": "code",
   "execution_count": 4,
   "metadata": {
    "executionInfo": {
     "elapsed": 889,
     "status": "ok",
     "timestamp": 1652282617582,
     "user": {
      "displayName": "Alicia B",
      "userId": "06999555192288788568"
     },
     "user_tz": -120
    },
    "id": "OD6E6t2fGlV_"
   },
   "outputs": [],
   "source": [
    "# matches\n",
    "matches = pd.read_csv('./data/match_playerPUUIDs_timestamp_ProPlayers.csv', header= None)\n",
    "matches.columns = ['match_id','player1', 'player2', 'player3', 'player4', 'player5', 'player6', 'player7', 'player8', 'player9', 'player10', 'timestamp']"
   ]
  },
  {
   "cell_type": "code",
   "execution_count": 5,
   "metadata": {
    "colab": {
     "base_uri": "https://localhost:8080/"
    },
    "executionInfo": {
     "elapsed": 969,
     "status": "ok",
     "timestamp": 1652282619599,
     "user": {
      "displayName": "Alicia B",
      "userId": "06999555192288788568"
     },
     "user_tz": -120
    },
    "id": "eioBv7f05I1D",
    "outputId": "96d887bd-f1d9-4a50-eb36-30a74b42d5d2"
   },
   "outputs": [
    {
     "name": "stderr",
     "output_type": "stream",
     "text": [
      "<ipython-input-5-aea0e0f1d700>:3: FutureWarning: The default value of regex will change from True to False in a future version.\n",
      "  matches[col] = matches[col].astype(str).str.replace(\"[\\]\\{\\}\\'\\(\\)\\ \\[]\",\"\")\n"
     ]
    }
   ],
   "source": [
    "# get rid of brackets \n",
    "for col in matches:\n",
    "    matches[col] = matches[col].astype(str).str.replace(\"[\\]\\{\\}\\'\\(\\)\\ \\[]\",\"\")\n",
    "#matches.head()"
   ]
  },
  {
   "cell_type": "code",
   "execution_count": 6,
   "metadata": {
    "executionInfo": {
     "elapsed": 282,
     "status": "ok",
     "timestamp": 1652282620749,
     "user": {
      "displayName": "Alicia B",
      "userId": "06999555192288788568"
     },
     "user_tz": -120
    },
    "id": "ONm-VzMeqaFn"
   },
   "outputs": [],
   "source": [
    "# replace nan strings with nan values\n",
    "matches.replace('nan', np.nan, inplace=True)"
   ]
  },
  {
   "cell_type": "code",
   "execution_count": 7,
   "metadata": {
    "colab": {
     "base_uri": "https://localhost:8080/"
    },
    "executionInfo": {
     "elapsed": 7,
     "status": "ok",
     "timestamp": 1652282622029,
     "user": {
      "displayName": "Alicia B",
      "userId": "06999555192288788568"
     },
     "user_tz": -120
    },
    "id": "lSYLWc94NMix",
    "outputId": "1cadd30c-206d-4e1f-9be3-394b906aef86"
   },
   "outputs": [
    {
     "name": "stdout",
     "output_type": "stream",
     "text": [
      "match_id       0\n",
      "player1        0\n",
      "player2        0\n",
      "player3       70\n",
      "player4      142\n",
      "player5      146\n",
      "player6      155\n",
      "player7      157\n",
      "player8      166\n",
      "player9      166\n",
      "player10     173\n",
      "timestamp    173\n",
      "dtype: int64\n"
     ]
    }
   ],
   "source": [
    "# check for na values\n",
    "print(matches.isna().sum())\n",
    "#len(matches)"
   ]
  },
  {
   "cell_type": "code",
   "execution_count": 8,
   "metadata": {
    "colab": {
     "base_uri": "https://localhost:8080/"
    },
    "executionInfo": {
     "elapsed": 228,
     "status": "ok",
     "timestamp": 1652282624047,
     "user": {
      "displayName": "Alicia B",
      "userId": "06999555192288788568"
     },
     "user_tz": -120
    },
    "id": "yU--3cYezVtU",
    "outputId": "dc2aa4c2-30ba-4e67-efd0-cad8fa1837ef"
   },
   "outputs": [
    {
     "name": "stderr",
     "output_type": "stream",
     "text": [
      "/Users/aliciabohret/opt/anaconda3/lib/python3.8/site-packages/pandas/core/indexing.py:1637: SettingWithCopyWarning: \n",
      "A value is trying to be set on a copy of a slice from a DataFrame\n",
      "\n",
      "See the caveats in the documentation: https://pandas.pydata.org/pandas-docs/stable/user_guide/indexing.html#returning-a-view-versus-a-copy\n",
      "  self._setitem_single_block(indexer, value, name)\n",
      "/Users/aliciabohret/opt/anaconda3/lib/python3.8/site-packages/pandas/core/indexing.py:692: SettingWithCopyWarning: \n",
      "A value is trying to be set on a copy of a slice from a DataFrame\n",
      "\n",
      "See the caveats in the documentation: https://pandas.pydata.org/pandas-docs/stable/user_guide/indexing.html#returning-a-view-versus-a-copy\n",
      "  iloc._setitem_with_indexer(indexer, value, self.name)\n"
     ]
    }
   ],
   "source": [
    "# timestamps that are null\n",
    "correct = matches[matches['timestamp'].isnull()]\n",
    "mask = correct[correct['timestamp'].isnull()].player10.isnull()\n",
    "correct.loc[mask,['timestamp','player9']] = correct.loc[mask,['player9','timestamp']].values\n",
    "\n",
    "correct2 = correct[correct['timestamp'].isnull()]\n",
    "correct = correct[correct['timestamp'].notnull()]\n",
    "\n",
    "correct2[correct2['timestamp'].isnull()].player8.isnull()\n",
    "mask = correct2[correct2['timestamp'].isnull()].player8.isnull()\n",
    "correct2.loc[mask,['timestamp','player7']] = correct2.loc[mask,['player7','timestamp']].values\n",
    "\n",
    "correct3 = correct2[correct2['timestamp'].isnull()]\n",
    "correct2 = correct2[correct2['timestamp'].notnull()]\n",
    "\n",
    "correct3[correct3['timestamp'].isnull()].player7.isnull()\n",
    "mask = correct3[correct3['timestamp'].isnull()].player7.isnull()\n",
    "correct3.loc[mask,['timestamp','player6']] = correct3.loc[mask,['player6','timestamp']].values\n",
    "\n",
    "correct4 = correct3[correct3['timestamp'].isnull()]\n",
    "correct3 = correct3[correct3['timestamp'].notnull()]\n",
    "\n",
    "correct4[correct4['timestamp'].isnull()].player6.isnull()\n",
    "mask = correct4[correct4['timestamp'].isnull()].player6.isnull()\n",
    "correct4.loc[mask,['timestamp','player5']] = correct4.loc[mask,['player5','timestamp']].values\n",
    "\n",
    "correct5 = correct4[correct4['timestamp'].isnull()]\n",
    "correct4 = correct4[correct4['timestamp'].notnull()]\n",
    "\n",
    "correct5[correct5['timestamp'].isnull()].player5.isnull()\n",
    "mask = correct5[correct5['timestamp'].isnull()].player5.isnull()\n",
    "correct5.loc[mask,['timestamp','player4']] = correct5.loc[mask,['player4','timestamp']].values\n",
    "\n",
    "correct6 = correct5[correct5['timestamp'].isnull()]\n",
    "correct5 = correct5[correct5['timestamp'].notnull()]\n",
    "\n",
    "correct6[correct6['timestamp'].isnull()].player4.isnull()\n",
    "mask = correct6[correct6['timestamp'].isnull()].player4.isnull()\n",
    "correct6.loc[mask,['timestamp','player3']] = correct6.loc[mask,['player3','timestamp']].values\n",
    "\n",
    "correct7 = correct6[correct6['timestamp'].isnull()]\n",
    "correct6 = correct6[correct6['timestamp'].notnull()]\n",
    "\n",
    "correct7[correct7['timestamp'].isnull()].player3.isnull()\n",
    "mask = correct7[correct7['timestamp'].isnull()].player3.isnull()\n",
    "correct7.loc[mask,['timestamp','player2']] = correct7.loc[mask,['player2','timestamp']].values\n",
    "correct7 = correct7[correct7['timestamp'].notnull()]"
   ]
  },
  {
   "cell_type": "code",
   "execution_count": 9,
   "metadata": {
    "executionInfo": {
     "elapsed": 496,
     "status": "ok",
     "timestamp": 1652282628087,
     "user": {
      "displayName": "Alicia B",
      "userId": "06999555192288788568"
     },
     "user_tz": -120
    },
    "id": "LlVp_hZc2VHC"
   },
   "outputs": [],
   "source": [
    "# check if all rows catched\n",
    "#len(correct) + len(correct2) + len(correct3) + len(correct4) + len(correct5) + len(correct6) + len(correct7)"
   ]
  },
  {
   "cell_type": "code",
   "execution_count": 10,
   "metadata": {
    "executionInfo": {
     "elapsed": 4,
     "status": "ok",
     "timestamp": 1652282628985,
     "user": {
      "displayName": "Alicia B",
      "userId": "06999555192288788568"
     },
     "user_tz": -120
    },
    "id": "3cgFxZ8j6MNc"
   },
   "outputs": [],
   "source": [
    "corrects = pd.concat([ correct, correct2, correct3, correct4, correct5, correct6, correct7])\n",
    "corrects[\"timestamp\"]= pd.to_datetime(corrects[\"timestamp\"], format=\"%Y-%m-%dT%H:%M:%S\")"
   ]
  },
  {
   "cell_type": "code",
   "execution_count": 11,
   "metadata": {
    "executionInfo": {
     "elapsed": 436,
     "status": "ok",
     "timestamp": 1652282630349,
     "user": {
      "displayName": "Alicia B",
      "userId": "06999555192288788568"
     },
     "user_tz": -120
    },
    "id": "SVPdolkj4Zr-"
   },
   "outputs": [],
   "source": [
    "# combine to one dataframe\n",
    "matches[\"timestamp\"]= pd.to_datetime(matches[\"timestamp\"], format=\"%Y-%m-%dT%H:%M:%S\")\n",
    "new_matches = matches[matches['timestamp'].notna()]\n",
    "new_matches = pd.concat([new_matches, correct, correct2, correct3, correct4, correct5, correct6, correct7])"
   ]
  },
  {
   "cell_type": "code",
   "execution_count": 12,
   "metadata": {
    "executionInfo": {
     "elapsed": 5,
     "status": "ok",
     "timestamp": 1652282631096,
     "user": {
      "displayName": "Alicia B",
      "userId": "06999555192288788568"
     },
     "user_tz": -120
    },
    "id": "5RKZpxjS78gM"
   },
   "outputs": [],
   "source": [
    "# check \n",
    "#new_matches.head()\n",
    "#matches[matches['match_id']=='5777687631']\n",
    "#new_matches[new_matches['match_id']=='5838219052']"
   ]
  },
  {
   "cell_type": "markdown",
   "metadata": {
    "id": "N1Zi_AwI8OvG"
   },
   "source": [
    "## Melted"
   ]
  },
  {
   "cell_type": "code",
   "execution_count": 14,
   "metadata": {
    "executionInfo": {
     "elapsed": 504,
     "status": "ok",
     "timestamp": 1652282633283,
     "user": {
      "displayName": "Alicia B",
      "userId": "06999555192288788568"
     },
     "user_tz": -120
    },
    "id": "ewA2qBNhHN22"
   },
   "outputs": [],
   "source": [
    "# melt matches\n",
    "matches_melted = (new_matches.melt(['match_id', 'timestamp'], \n",
    "                       var_name='player_number',\n",
    "                       value_name='player_puuid'))\n",
    "#len(matches_melted)"
   ]
  },
  {
   "cell_type": "code",
   "execution_count": 15,
   "metadata": {
    "executionInfo": {
     "elapsed": 226,
     "status": "ok",
     "timestamp": 1652282634590,
     "user": {
      "displayName": "Alicia B",
      "userId": "06999555192288788568"
     },
     "user_tz": -120
    },
    "id": "RtOJHZRpfA4_"
   },
   "outputs": [],
   "source": [
    "#remove empty cells (empty puuids, empty matches in general)\n",
    "matches_melted['player_puuid'].replace(' ', np.nan, inplace=True)\n",
    "matches_melted['player_puuid'].isna().sum()\n",
    "matches_melted = matches_melted[matches_melted['player_puuid'].notna()]"
   ]
  },
  {
   "cell_type": "code",
   "execution_count": 16,
   "metadata": {
    "colab": {
     "base_uri": "https://localhost:8080/",
     "height": 204
    },
    "executionInfo": {
     "elapsed": 5,
     "status": "ok",
     "timestamp": 1652282635965,
     "user": {
      "displayName": "Alicia B",
      "userId": "06999555192288788568"
     },
     "user_tz": -120
    },
    "id": "n5MCYu3Xd9-g",
    "outputId": "f46d4311-c886-4b35-961a-fffad6c4093c"
   },
   "outputs": [
    {
     "data": {
      "text/html": [
       "<div>\n",
       "<style scoped>\n",
       "    .dataframe tbody tr th:only-of-type {\n",
       "        vertical-align: middle;\n",
       "    }\n",
       "\n",
       "    .dataframe tbody tr th {\n",
       "        vertical-align: top;\n",
       "    }\n",
       "\n",
       "    .dataframe thead th {\n",
       "        text-align: right;\n",
       "    }\n",
       "</style>\n",
       "<table border=\"1\" class=\"dataframe\">\n",
       "  <thead>\n",
       "    <tr style=\"text-align: right;\">\n",
       "      <th></th>\n",
       "      <th>match_id</th>\n",
       "      <th>timestamp</th>\n",
       "      <th>player_number</th>\n",
       "      <th>player_puuid</th>\n",
       "    </tr>\n",
       "  </thead>\n",
       "  <tbody>\n",
       "    <tr>\n",
       "      <th>0</th>\n",
       "      <td>5860242034</td>\n",
       "      <td>2022-05-07 13:30:38+00:00</td>\n",
       "      <td>player1</td>\n",
       "      <td>Enn_3VvikuDftsgroni-2b7bOtX7dNNG5PcRxXSMJFXZLP...</td>\n",
       "    </tr>\n",
       "    <tr>\n",
       "      <th>1</th>\n",
       "      <td>5860157180</td>\n",
       "      <td>2022-05-07 12:53:17+00:00</td>\n",
       "      <td>player1</td>\n",
       "      <td>0dzqDyAd3j7-v5dm7uqQTYMYPUXIshFVnc7w5p9QGWxnU5...</td>\n",
       "    </tr>\n",
       "    <tr>\n",
       "      <th>2</th>\n",
       "      <td>5860193059</td>\n",
       "      <td>2022-05-07 12:28:32+00:00</td>\n",
       "      <td>player1</td>\n",
       "      <td>HHIn3MsOsdbqZpxwkhOPUk9JNJu6_GBPoTLkFuZTgIuBhs...</td>\n",
       "    </tr>\n",
       "    <tr>\n",
       "      <th>3</th>\n",
       "      <td>5860101282</td>\n",
       "      <td>2022-05-07 11:56:54+00:00</td>\n",
       "      <td>player1</td>\n",
       "      <td>NtaeqFFIGCpibRu4nrmXmih6yJ2hBGkNyF6sf7QBBtTXlf...</td>\n",
       "    </tr>\n",
       "    <tr>\n",
       "      <th>4</th>\n",
       "      <td>5857587216</td>\n",
       "      <td>2022-05-05 18:52:11+00:00</td>\n",
       "      <td>player1</td>\n",
       "      <td>Kmtv1nNQhRKyXV-FqDIBEIO1WhPA5LPOjAvsnRldYlQcXv...</td>\n",
       "    </tr>\n",
       "  </tbody>\n",
       "</table>\n",
       "</div>"
      ],
      "text/plain": [
       "     match_id                  timestamp player_number  \\\n",
       "0  5860242034  2022-05-07 13:30:38+00:00       player1   \n",
       "1  5860157180  2022-05-07 12:53:17+00:00       player1   \n",
       "2  5860193059  2022-05-07 12:28:32+00:00       player1   \n",
       "3  5860101282  2022-05-07 11:56:54+00:00       player1   \n",
       "4  5857587216  2022-05-05 18:52:11+00:00       player1   \n",
       "\n",
       "                                        player_puuid  \n",
       "0  Enn_3VvikuDftsgroni-2b7bOtX7dNNG5PcRxXSMJFXZLP...  \n",
       "1  0dzqDyAd3j7-v5dm7uqQTYMYPUXIshFVnc7w5p9QGWxnU5...  \n",
       "2  HHIn3MsOsdbqZpxwkhOPUk9JNJu6_GBPoTLkFuZTgIuBhs...  \n",
       "3  NtaeqFFIGCpibRu4nrmXmih6yJ2hBGkNyF6sf7QBBtTXlf...  \n",
       "4  Kmtv1nNQhRKyXV-FqDIBEIO1WhPA5LPOjAvsnRldYlQcXv...  "
      ]
     },
     "execution_count": 16,
     "metadata": {},
     "output_type": "execute_result"
    }
   ],
   "source": [
    "#get rid of BOTs\n",
    "#bots = matches_melted[matches_melted['player_puuid'].str.len()<5]\n",
    "#len(bots)\n",
    "matches_melted = matches_melted[matches_melted['player_puuid'].str.len()>5]\n",
    "matches_melted.head()"
   ]
  },
  {
   "cell_type": "code",
   "execution_count": 17,
   "metadata": {
    "colab": {
     "base_uri": "https://localhost:8080/",
     "height": 173
    },
    "executionInfo": {
     "elapsed": 660,
     "status": "ok",
     "timestamp": 1652282638134,
     "user": {
      "displayName": "Alicia B",
      "userId": "06999555192288788568"
     },
     "user_tz": -120
    },
    "id": "62b48GPykkyL",
    "outputId": "e46001fe-d18f-4abc-8dc4-155db64d8f41"
   },
   "outputs": [
    {
     "data": {
      "text/html": [
       "<div>\n",
       "<style scoped>\n",
       "    .dataframe tbody tr th:only-of-type {\n",
       "        vertical-align: middle;\n",
       "    }\n",
       "\n",
       "    .dataframe tbody tr th {\n",
       "        vertical-align: top;\n",
       "    }\n",
       "\n",
       "    .dataframe thead th {\n",
       "        text-align: right;\n",
       "    }\n",
       "</style>\n",
       "<table border=\"1\" class=\"dataframe\">\n",
       "  <thead>\n",
       "    <tr style=\"text-align: right;\">\n",
       "      <th></th>\n",
       "      <th>match_id</th>\n",
       "      <th>timestamp</th>\n",
       "      <th>player_number</th>\n",
       "      <th>player_puuid</th>\n",
       "    </tr>\n",
       "  </thead>\n",
       "  <tbody>\n",
       "    <tr>\n",
       "      <th>count</th>\n",
       "      <td>489076</td>\n",
       "      <td>489076</td>\n",
       "      <td>489076</td>\n",
       "      <td>489076</td>\n",
       "    </tr>\n",
       "    <tr>\n",
       "      <th>unique</th>\n",
       "      <td>38066</td>\n",
       "      <td>36796</td>\n",
       "      <td>10</td>\n",
       "      <td>106539</td>\n",
       "    </tr>\n",
       "    <tr>\n",
       "      <th>top</th>\n",
       "      <td>5858195676</td>\n",
       "      <td>2022-05-04 11:06:20+00:00</td>\n",
       "      <td>player1</td>\n",
       "      <td>OlfQQY21G1tZpUE9h3gCHFkTb3EaveilTZ-n84Zqpqr1dK...</td>\n",
       "    </tr>\n",
       "    <tr>\n",
       "      <th>freq</th>\n",
       "      <td>20</td>\n",
       "      <td>60</td>\n",
       "      <td>49009</td>\n",
       "      <td>176</td>\n",
       "    </tr>\n",
       "  </tbody>\n",
       "</table>\n",
       "</div>"
      ],
      "text/plain": [
       "          match_id                  timestamp player_number  \\\n",
       "count       489076                     489076        489076   \n",
       "unique       38066                      36796            10   \n",
       "top     5858195676  2022-05-04 11:06:20+00:00       player1   \n",
       "freq            20                         60         49009   \n",
       "\n",
       "                                             player_puuid  \n",
       "count                                              489076  \n",
       "unique                                             106539  \n",
       "top     OlfQQY21G1tZpUE9h3gCHFkTb3EaveilTZ-n84Zqpqr1dK...  \n",
       "freq                                                  176  "
      ]
     },
     "execution_count": 17,
     "metadata": {},
     "output_type": "execute_result"
    }
   ],
   "source": [
    "matches_melted.describe()"
   ]
  },
  {
   "cell_type": "code",
   "execution_count": 21,
   "metadata": {
    "colab": {
     "base_uri": "https://localhost:8080/"
    },
    "executionInfo": {
     "elapsed": 1646,
     "status": "ok",
     "timestamp": 1652282640627,
     "user": {
      "displayName": "Alicia B",
      "userId": "06999555192288788568"
     },
     "user_tz": -120
    },
    "id": "ZdyV8ZCjqO59",
    "outputId": "c4c9b9f0-ecc5-48c2-9211-63c429cbd4d6"
   },
   "outputs": [
    {
     "data": {
      "text/html": [
       "<div>\n",
       "<style scoped>\n",
       "    .dataframe tbody tr th:only-of-type {\n",
       "        vertical-align: middle;\n",
       "    }\n",
       "\n",
       "    .dataframe tbody tr th {\n",
       "        vertical-align: top;\n",
       "    }\n",
       "\n",
       "    .dataframe thead th {\n",
       "        text-align: right;\n",
       "    }\n",
       "</style>\n",
       "<table border=\"1\" class=\"dataframe\">\n",
       "  <thead>\n",
       "    <tr style=\"text-align: right;\">\n",
       "      <th></th>\n",
       "      <th>match_id</th>\n",
       "      <th>timestamp</th>\n",
       "      <th>player_number</th>\n",
       "      <th>player_puuid</th>\n",
       "      <th>0</th>\n",
       "    </tr>\n",
       "  </thead>\n",
       "  <tbody>\n",
       "    <tr>\n",
       "      <th>0</th>\n",
       "      <td>5859934604</td>\n",
       "      <td>2022-05-07 09:17:36+00:00</td>\n",
       "      <td>player3</td>\n",
       "      <td>XOwVkFMyxHTAGpRZWQiPY5QBYog1-F4JWe22PzlWSyXRum...</td>\n",
       "      <td>2</td>\n",
       "    </tr>\n",
       "    <tr>\n",
       "      <th>1</th>\n",
       "      <td>5858233696</td>\n",
       "      <td>2022-05-06 07:44:05+00:00</td>\n",
       "      <td>player9</td>\n",
       "      <td>oRNqUl1ldmfd6Ntp8LJX6hUitRU233KM1U7GGuR2SuMVzS...</td>\n",
       "      <td>2</td>\n",
       "    </tr>\n",
       "    <tr>\n",
       "      <th>2</th>\n",
       "      <td>5851600992</td>\n",
       "      <td>2022-05-01 18:30:59+00:00</td>\n",
       "      <td>player3</td>\n",
       "      <td>QXotLMsrB6NcWvtT43iaDGKuFfAQkH7BwsWAGGvQwwOrio...</td>\n",
       "      <td>2</td>\n",
       "    </tr>\n",
       "    <tr>\n",
       "      <th>3</th>\n",
       "      <td>5851600992</td>\n",
       "      <td>2022-05-01 18:30:59+00:00</td>\n",
       "      <td>player2</td>\n",
       "      <td>_kwOtewmZV2QBDta9A1sjkXgPXzMkjjWP8jYa2JH5fWROn...</td>\n",
       "      <td>2</td>\n",
       "    </tr>\n",
       "    <tr>\n",
       "      <th>4</th>\n",
       "      <td>5851600992</td>\n",
       "      <td>2022-05-01 18:30:59+00:00</td>\n",
       "      <td>player10</td>\n",
       "      <td>59ZfUqIv7R9nXDbFi3Tk2j99Q5VKsmJArwOoCPy-VhOXVe...</td>\n",
       "      <td>2</td>\n",
       "    </tr>\n",
       "    <tr>\n",
       "      <th>...</th>\n",
       "      <td>...</td>\n",
       "      <td>...</td>\n",
       "      <td>...</td>\n",
       "      <td>...</td>\n",
       "      <td>...</td>\n",
       "    </tr>\n",
       "    <tr>\n",
       "      <th>352518</th>\n",
       "      <td>5854583022</td>\n",
       "      <td>2022-05-03 17:59:49+00:00</td>\n",
       "      <td>player2</td>\n",
       "      <td>TcX3_zqIpuM2BdHlpjMPl8QstYVT0B_tQEqGVAWBSBG9md...</td>\n",
       "      <td>1</td>\n",
       "    </tr>\n",
       "    <tr>\n",
       "      <th>352519</th>\n",
       "      <td>5854583022</td>\n",
       "      <td>2022-05-03 17:59:49+00:00</td>\n",
       "      <td>player10</td>\n",
       "      <td>XXUA9uh2_7vFOwtbJBfO5eJjU_vSkX0PCBB3h5zx9bil3z...</td>\n",
       "      <td>1</td>\n",
       "    </tr>\n",
       "    <tr>\n",
       "      <th>352520</th>\n",
       "      <td>5854583015</td>\n",
       "      <td>2022-05-03 17:59:45+00:00</td>\n",
       "      <td>player9</td>\n",
       "      <td>PpCpc_2pv5cthlAmW1aCpa_Hx3qduBd5myDm-RgymGdxEI...</td>\n",
       "      <td>1</td>\n",
       "    </tr>\n",
       "    <tr>\n",
       "      <th>352521</th>\n",
       "      <td>5854583015</td>\n",
       "      <td>2022-05-03 17:59:45+00:00</td>\n",
       "      <td>player8</td>\n",
       "      <td>nlUxzFeMv_GTl47cNDW2Oz_AxSEyXbe1Xr2C1HbnqL7YgG...</td>\n",
       "      <td>1</td>\n",
       "    </tr>\n",
       "    <tr>\n",
       "      <th>352522</th>\n",
       "      <td>5861230888</td>\n",
       "      <td>2022-05-08 05:21:39+00:00</td>\n",
       "      <td>player9</td>\n",
       "      <td>SQFsdwVRaT7akpVRhRoiBb9iyuM9t4vC_08lEGdycsz7DS...</td>\n",
       "      <td>1</td>\n",
       "    </tr>\n",
       "  </tbody>\n",
       "</table>\n",
       "<p>352523 rows × 5 columns</p>\n",
       "</div>"
      ],
      "text/plain": [
       "          match_id                  timestamp player_number  \\\n",
       "0       5859934604  2022-05-07 09:17:36+00:00       player3   \n",
       "1       5858233696  2022-05-06 07:44:05+00:00       player9   \n",
       "2       5851600992  2022-05-01 18:30:59+00:00       player3   \n",
       "3       5851600992  2022-05-01 18:30:59+00:00       player2   \n",
       "4       5851600992  2022-05-01 18:30:59+00:00      player10   \n",
       "...            ...                        ...           ...   \n",
       "352518  5854583022  2022-05-03 17:59:49+00:00       player2   \n",
       "352519  5854583022  2022-05-03 17:59:49+00:00      player10   \n",
       "352520  5854583015  2022-05-03 17:59:45+00:00       player9   \n",
       "352521  5854583015  2022-05-03 17:59:45+00:00       player8   \n",
       "352522  5861230888  2022-05-08 05:21:39+00:00       player9   \n",
       "\n",
       "                                             player_puuid  0  \n",
       "0       XOwVkFMyxHTAGpRZWQiPY5QBYog1-F4JWe22PzlWSyXRum...  2  \n",
       "1       oRNqUl1ldmfd6Ntp8LJX6hUitRU233KM1U7GGuR2SuMVzS...  2  \n",
       "2       QXotLMsrB6NcWvtT43iaDGKuFfAQkH7BwsWAGGvQwwOrio...  2  \n",
       "3       _kwOtewmZV2QBDta9A1sjkXgPXzMkjjWP8jYa2JH5fWROn...  2  \n",
       "4       59ZfUqIv7R9nXDbFi3Tk2j99Q5VKsmJArwOoCPy-VhOXVe...  2  \n",
       "...                                                   ... ..  \n",
       "352518  TcX3_zqIpuM2BdHlpjMPl8QstYVT0B_tQEqGVAWBSBG9md...  1  \n",
       "352519  XXUA9uh2_7vFOwtbJBfO5eJjU_vSkX0PCBB3h5zx9bil3z...  1  \n",
       "352520  PpCpc_2pv5cthlAmW1aCpa_Hx3qduBd5myDm-RgymGdxEI...  1  \n",
       "352521  nlUxzFeMv_GTl47cNDW2Oz_AxSEyXbe1Xr2C1HbnqL7YgG...  1  \n",
       "352522  SQFsdwVRaT7akpVRhRoiBb9iyuM9t4vC_08lEGdycsz7DS...  1  \n",
       "\n",
       "[352523 rows x 5 columns]"
      ]
     },
     "execution_count": 21,
     "metadata": {},
     "output_type": "execute_result"
    }
   ],
   "source": [
    "# check for duplicates\n",
    "matches_melted[matches_melted.duplicated(subset=['match_id','timestamp'])].value_counts().reset_index()"
   ]
  },
  {
   "cell_type": "code",
   "execution_count": 22,
   "metadata": {
    "colab": {
     "base_uri": "https://localhost:8080/",
     "height": 173
    },
    "executionInfo": {
     "elapsed": 986,
     "status": "ok",
     "timestamp": 1652282641829,
     "user": {
      "displayName": "Alicia B",
      "userId": "06999555192288788568"
     },
     "user_tz": -120
    },
    "id": "3jF-r8B1q825",
    "outputId": "35fcb6e5-2af5-429b-c3ab-1f74fc60c5ed"
   },
   "outputs": [
    {
     "data": {
      "text/html": [
       "<div>\n",
       "<style scoped>\n",
       "    .dataframe tbody tr th:only-of-type {\n",
       "        vertical-align: middle;\n",
       "    }\n",
       "\n",
       "    .dataframe tbody tr th {\n",
       "        vertical-align: top;\n",
       "    }\n",
       "\n",
       "    .dataframe thead th {\n",
       "        text-align: right;\n",
       "    }\n",
       "</style>\n",
       "<table border=\"1\" class=\"dataframe\">\n",
       "  <thead>\n",
       "    <tr style=\"text-align: right;\">\n",
       "      <th></th>\n",
       "      <th>match_id</th>\n",
       "      <th>timestamp</th>\n",
       "      <th>player_number</th>\n",
       "      <th>player_puuid</th>\n",
       "    </tr>\n",
       "  </thead>\n",
       "  <tbody>\n",
       "    <tr>\n",
       "      <th>count</th>\n",
       "      <td>379646</td>\n",
       "      <td>379646</td>\n",
       "      <td>379646</td>\n",
       "      <td>379646</td>\n",
       "    </tr>\n",
       "    <tr>\n",
       "      <th>unique</th>\n",
       "      <td>38066</td>\n",
       "      <td>36796</td>\n",
       "      <td>10</td>\n",
       "      <td>106539</td>\n",
       "    </tr>\n",
       "    <tr>\n",
       "      <th>top</th>\n",
       "      <td>5849567314</td>\n",
       "      <td>2022-05-05 20:25:42+00:00</td>\n",
       "      <td>player1</td>\n",
       "      <td>OlfQQY21G1tZpUE9h3gCHFkTb3EaveilTZ-n84Zqpqr1dK...</td>\n",
       "    </tr>\n",
       "    <tr>\n",
       "      <th>freq</th>\n",
       "      <td>10</td>\n",
       "      <td>40</td>\n",
       "      <td>38066</td>\n",
       "      <td>109</td>\n",
       "    </tr>\n",
       "  </tbody>\n",
       "</table>\n",
       "</div>"
      ],
      "text/plain": [
       "          match_id                  timestamp player_number  \\\n",
       "count       379646                     379646        379646   \n",
       "unique       38066                      36796            10   \n",
       "top     5849567314  2022-05-05 20:25:42+00:00       player1   \n",
       "freq            10                         40         38066   \n",
       "\n",
       "                                             player_puuid  \n",
       "count                                              379646  \n",
       "unique                                             106539  \n",
       "top     OlfQQY21G1tZpUE9h3gCHFkTb3EaveilTZ-n84Zqpqr1dK...  \n",
       "freq                                                  109  "
      ]
     },
     "execution_count": 22,
     "metadata": {},
     "output_type": "execute_result"
    }
   ],
   "source": [
    "# get rid of duplicates\n",
    "pro_matches = matches_melted.drop_duplicates(subset=[\"match_id\", \"timestamp\", \"player_number\"])\n",
    "pro_matches.describe()"
   ]
  },
  {
   "cell_type": "markdown",
   "metadata": {
    "id": "rqa5doa4kjfk"
   },
   "source": [
    "## Ranks"
   ]
  },
  {
   "cell_type": "code",
   "execution_count": 23,
   "metadata": {
    "executionInfo": {
     "elapsed": 3,
     "status": "ok",
     "timestamp": 1652282643404,
     "user": {
      "displayName": "Alicia B",
      "userId": "06999555192288788568"
     },
     "user_tz": -120
    },
    "id": "JbB6PfGI79kb"
   },
   "outputs": [],
   "source": [
    "# ranks\n",
    "ranks = pd.read_csv('./data/fullyMinedSumonerPUUID_ProPlayers_Rank.csv', header= None)\n",
    "ranks.columns = ['player_puuid','rank']"
   ]
  },
  {
   "cell_type": "code",
   "execution_count": 24,
   "metadata": {
    "colab": {
     "base_uri": "https://localhost:8080/"
    },
    "executionInfo": {
     "elapsed": 263,
     "status": "ok",
     "timestamp": 1652282645541,
     "user": {
      "displayName": "Alicia B",
      "userId": "06999555192288788568"
     },
     "user_tz": -120
    },
    "id": "XF-GgZGtNqc_",
    "outputId": "46792996-9648-4f3e-b220-2cb94df6ae3a"
   },
   "outputs": [
    {
     "name": "stdout",
     "output_type": "stream",
     "text": [
      "player_puuid    0\n",
      "rank            0\n",
      "dtype: int64\n",
      "player_puuid    0\n",
      "rank            0\n",
      "dtype: int64\n"
     ]
    }
   ],
   "source": [
    "# check for na and null values\n",
    "print(ranks.isna().sum())\n",
    "print(ranks.isnull().sum())"
   ]
  },
  {
   "cell_type": "code",
   "execution_count": 25,
   "metadata": {
    "colab": {
     "base_uri": "https://localhost:8080/",
     "height": 258
    },
    "executionInfo": {
     "elapsed": 244,
     "status": "ok",
     "timestamp": 1652282647606,
     "user": {
      "displayName": "Alicia B",
      "userId": "06999555192288788568"
     },
     "user_tz": -120
    },
    "id": "0RQ-5bI9HxqQ",
    "outputId": "45039827-1690-443a-d7f6-7a26bbfd4a64"
   },
   "outputs": [
    {
     "name": "stderr",
     "output_type": "stream",
     "text": [
      "<ipython-input-25-ba0f77db072f>:3: FutureWarning: The default value of regex will change from True to False in a future version.\n",
      "  ranks[col] = ranks[col].astype(str).str.replace(\"[\\]\\{\\}\\'\\(\\)\\[]\",\"\")\n"
     ]
    },
    {
     "data": {
      "text/html": [
       "<div>\n",
       "<style scoped>\n",
       "    .dataframe tbody tr th:only-of-type {\n",
       "        vertical-align: middle;\n",
       "    }\n",
       "\n",
       "    .dataframe tbody tr th {\n",
       "        vertical-align: top;\n",
       "    }\n",
       "\n",
       "    .dataframe thead th {\n",
       "        text-align: right;\n",
       "    }\n",
       "</style>\n",
       "<table border=\"1\" class=\"dataframe\">\n",
       "  <thead>\n",
       "    <tr style=\"text-align: right;\">\n",
       "      <th></th>\n",
       "      <th>player_puuid</th>\n",
       "      <th>rank</th>\n",
       "    </tr>\n",
       "  </thead>\n",
       "  <tbody>\n",
       "    <tr>\n",
       "      <th>0</th>\n",
       "      <td>LKeh_TBiEFYyjz-B7uHdaS7O2jVtD_qtYvPTY9SqZKc5Cy...</td>\n",
       "      <td>Diamond</td>\n",
       "    </tr>\n",
       "    <tr>\n",
       "      <th>1</th>\n",
       "      <td>Enn_3VvikuDftsgroni-2b7bOtX7dNNG5PcRxXSMJFXZLP...</td>\n",
       "      <td>Master</td>\n",
       "    </tr>\n",
       "    <tr>\n",
       "      <th>2</th>\n",
       "      <td>izRO8r7lCyv37_5RE1RAs3yMQWcbWPPN0ByYPO78gq5Fnv...</td>\n",
       "      <td>Unknown</td>\n",
       "    </tr>\n",
       "    <tr>\n",
       "      <th>3</th>\n",
       "      <td>9JE9uBmsUmrXVR3-wq8IAiR_4n-7vdrBoSAvA_t_Ih4K9m...</td>\n",
       "      <td>Master</td>\n",
       "    </tr>\n",
       "    <tr>\n",
       "      <th>4</th>\n",
       "      <td>_fsin6Phz882tazkAKJ1ubSQbsw8OfuCzyr9HmVPckGGPH...</td>\n",
       "      <td>Master</td>\n",
       "    </tr>\n",
       "  </tbody>\n",
       "</table>\n",
       "</div>"
      ],
      "text/plain": [
       "                                        player_puuid     rank\n",
       "0  LKeh_TBiEFYyjz-B7uHdaS7O2jVtD_qtYvPTY9SqZKc5Cy...  Diamond\n",
       "1  Enn_3VvikuDftsgroni-2b7bOtX7dNNG5PcRxXSMJFXZLP...   Master\n",
       "2  izRO8r7lCyv37_5RE1RAs3yMQWcbWPPN0ByYPO78gq5Fnv...  Unknown\n",
       "3  9JE9uBmsUmrXVR3-wq8IAiR_4n-7vdrBoSAvA_t_Ih4K9m...   Master\n",
       "4  _fsin6Phz882tazkAKJ1ubSQbsw8OfuCzyr9HmVPckGGPH...   Master"
      ]
     },
     "execution_count": 25,
     "metadata": {},
     "output_type": "execute_result"
    }
   ],
   "source": [
    "# get rid of brackets \n",
    "for col in ranks:\n",
    "    ranks[col] = ranks[col].astype(str).str.replace(\"[\\]\\{\\}\\'\\(\\)\\[]\",\"\")\n",
    "ranks.head()"
   ]
  },
  {
   "cell_type": "code",
   "execution_count": 26,
   "metadata": {
    "executionInfo": {
     "elapsed": 4,
     "status": "ok",
     "timestamp": 1652282649567,
     "user": {
      "displayName": "Alicia B",
      "userId": "06999555192288788568"
     },
     "user_tz": -120
    },
    "id": "8V5YdD59sIAX"
   },
   "outputs": [],
   "source": [
    "# check for duplicates\n",
    "ranks.describe()\n",
    "ranks = ranks.drop_duplicates()"
   ]
  },
  {
   "cell_type": "markdown",
   "metadata": {
    "id": "Q7oIQIXLklwv"
   },
   "source": [
    "## Full dataset"
   ]
  },
  {
   "cell_type": "code",
   "execution_count": 27,
   "metadata": {
    "colab": {
     "base_uri": "https://localhost:8080/",
     "height": 204
    },
    "executionInfo": {
     "elapsed": 553,
     "status": "ok",
     "timestamp": 1652282696161,
     "user": {
      "displayName": "Alicia B",
      "userId": "06999555192288788568"
     },
     "user_tz": -120
    },
    "id": "XLy1cqECDV9_",
    "outputId": "b4c53f51-0776-45b4-d23f-a212a5342fff"
   },
   "outputs": [
    {
     "data": {
      "text/html": [
       "<div>\n",
       "<style scoped>\n",
       "    .dataframe tbody tr th:only-of-type {\n",
       "        vertical-align: middle;\n",
       "    }\n",
       "\n",
       "    .dataframe tbody tr th {\n",
       "        vertical-align: top;\n",
       "    }\n",
       "\n",
       "    .dataframe thead th {\n",
       "        text-align: right;\n",
       "    }\n",
       "</style>\n",
       "<table border=\"1\" class=\"dataframe\">\n",
       "  <thead>\n",
       "    <tr style=\"text-align: right;\">\n",
       "      <th></th>\n",
       "      <th>match_id</th>\n",
       "      <th>timestamp</th>\n",
       "      <th>player_number</th>\n",
       "      <th>player_puuid</th>\n",
       "      <th>rank</th>\n",
       "    </tr>\n",
       "  </thead>\n",
       "  <tbody>\n",
       "    <tr>\n",
       "      <th>0</th>\n",
       "      <td>5860242034</td>\n",
       "      <td>2022-05-07 13:30:38+00:00</td>\n",
       "      <td>player1</td>\n",
       "      <td>Enn_3VvikuDftsgroni-2b7bOtX7dNNG5PcRxXSMJFXZLP...</td>\n",
       "      <td>Master</td>\n",
       "    </tr>\n",
       "    <tr>\n",
       "      <th>1</th>\n",
       "      <td>5860157180</td>\n",
       "      <td>2022-05-07 12:53:17+00:00</td>\n",
       "      <td>player1</td>\n",
       "      <td>0dzqDyAd3j7-v5dm7uqQTYMYPUXIshFVnc7w5p9QGWxnU5...</td>\n",
       "      <td>Diamond</td>\n",
       "    </tr>\n",
       "    <tr>\n",
       "      <th>2</th>\n",
       "      <td>5860193059</td>\n",
       "      <td>2022-05-07 12:28:32+00:00</td>\n",
       "      <td>player1</td>\n",
       "      <td>HHIn3MsOsdbqZpxwkhOPUk9JNJu6_GBPoTLkFuZTgIuBhs...</td>\n",
       "      <td>Unknown</td>\n",
       "    </tr>\n",
       "    <tr>\n",
       "      <th>3</th>\n",
       "      <td>5860101282</td>\n",
       "      <td>2022-05-07 11:56:54+00:00</td>\n",
       "      <td>player1</td>\n",
       "      <td>NtaeqFFIGCpibRu4nrmXmih6yJ2hBGkNyF6sf7QBBtTXlf...</td>\n",
       "      <td>Master</td>\n",
       "    </tr>\n",
       "    <tr>\n",
       "      <th>4</th>\n",
       "      <td>5857587216</td>\n",
       "      <td>2022-05-05 18:52:11+00:00</td>\n",
       "      <td>player1</td>\n",
       "      <td>Kmtv1nNQhRKyXV-FqDIBEIO1WhPA5LPOjAvsnRldYlQcXv...</td>\n",
       "      <td>Unknown</td>\n",
       "    </tr>\n",
       "  </tbody>\n",
       "</table>\n",
       "</div>"
      ],
      "text/plain": [
       "     match_id                  timestamp player_number  \\\n",
       "0  5860242034  2022-05-07 13:30:38+00:00       player1   \n",
       "1  5860157180  2022-05-07 12:53:17+00:00       player1   \n",
       "2  5860193059  2022-05-07 12:28:32+00:00       player1   \n",
       "3  5860101282  2022-05-07 11:56:54+00:00       player1   \n",
       "4  5857587216  2022-05-05 18:52:11+00:00       player1   \n",
       "\n",
       "                                        player_puuid     rank  \n",
       "0  Enn_3VvikuDftsgroni-2b7bOtX7dNNG5PcRxXSMJFXZLP...   Master  \n",
       "1  0dzqDyAd3j7-v5dm7uqQTYMYPUXIshFVnc7w5p9QGWxnU5...  Diamond  \n",
       "2  HHIn3MsOsdbqZpxwkhOPUk9JNJu6_GBPoTLkFuZTgIuBhs...  Unknown  \n",
       "3  NtaeqFFIGCpibRu4nrmXmih6yJ2hBGkNyF6sf7QBBtTXlf...   Master  \n",
       "4  Kmtv1nNQhRKyXV-FqDIBEIO1WhPA5LPOjAvsnRldYlQcXv...  Unknown  "
      ]
     },
     "execution_count": 27,
     "metadata": {},
     "output_type": "execute_result"
    }
   ],
   "source": [
    "# merge matches_melted and ranks\n",
    "df_full = pro_matches.merge(ranks, on= 'player_puuid', how='left')\n",
    "df_full.head()"
   ]
  },
  {
   "cell_type": "code",
   "execution_count": 28,
   "metadata": {
    "colab": {
     "base_uri": "https://localhost:8080/"
    },
    "executionInfo": {
     "elapsed": 232,
     "status": "ok",
     "timestamp": 1652282660420,
     "user": {
      "displayName": "Alicia B",
      "userId": "06999555192288788568"
     },
     "user_tz": -120
    },
    "id": "B2Bek40_kG37",
    "outputId": "65358428-85a1-441b-c0e7-27c91de1ba85"
   },
   "outputs": [
    {
     "data": {
      "text/plain": [
       "379646"
      ]
     },
     "execution_count": 28,
     "metadata": {},
     "output_type": "execute_result"
    }
   ],
   "source": [
    "len(df_full)"
   ]
  },
  {
   "cell_type": "code",
   "execution_count": 29,
   "metadata": {
    "colab": {
     "base_uri": "https://localhost:8080/"
    },
    "executionInfo": {
     "elapsed": 6,
     "status": "ok",
     "timestamp": 1652282671444,
     "user": {
      "displayName": "Alicia B",
      "userId": "06999555192288788568"
     },
     "user_tz": -120
    },
    "id": "b93q8xZWuJ3k",
    "outputId": "6885bbb9-386c-4b3b-fc50-5e28e3103ca8"
   },
   "outputs": [
    {
     "data": {
      "text/plain": [
       "379646"
      ]
     },
     "execution_count": 29,
     "metadata": {},
     "output_type": "execute_result"
    }
   ],
   "source": [
    "len(pro_matches)"
   ]
  },
  {
   "cell_type": "markdown",
   "metadata": {},
   "source": [
    "## Fully mined players with rank "
   ]
  },
  {
   "cell_type": "code",
   "execution_count": 30,
   "metadata": {},
   "outputs": [
    {
     "name": "stdout",
     "output_type": "stream",
     "text": [
      "match_id              0\n",
      "timestamp             0\n",
      "player_number         0\n",
      "player_puuid          0\n",
      "rank             287114\n",
      "dtype: int64\n",
      "8247\n"
     ]
    }
   ],
   "source": [
    "print(df_full.isnull().sum())\n",
    "print(len(df_full[df_full['rank'] =='Unknown']))"
   ]
  },
  {
   "cell_type": "markdown",
   "metadata": {},
   "source": [
    "Not available ranks (either unknown or not in ranks data set):\n",
    "**295.361**\n",
    "\n",
    "Matched ranks:\n",
    "**84.285**"
   ]
  },
  {
   "cell_type": "code",
   "execution_count": 31,
   "metadata": {},
   "outputs": [
    {
     "data": {
      "text/html": [
       "<div>\n",
       "<style scoped>\n",
       "    .dataframe tbody tr th:only-of-type {\n",
       "        vertical-align: middle;\n",
       "    }\n",
       "\n",
       "    .dataframe tbody tr th {\n",
       "        vertical-align: top;\n",
       "    }\n",
       "\n",
       "    .dataframe thead th {\n",
       "        text-align: right;\n",
       "    }\n",
       "</style>\n",
       "<table border=\"1\" class=\"dataframe\">\n",
       "  <thead>\n",
       "    <tr style=\"text-align: right;\">\n",
       "      <th></th>\n",
       "      <th>match_id</th>\n",
       "      <th>timestamp</th>\n",
       "      <th>player_number</th>\n",
       "      <th>player_puuid</th>\n",
       "      <th>rank</th>\n",
       "    </tr>\n",
       "  </thead>\n",
       "  <tbody>\n",
       "    <tr>\n",
       "      <th>0</th>\n",
       "      <td>5860242034</td>\n",
       "      <td>2022-05-07 13:30:38+00:00</td>\n",
       "      <td>player1</td>\n",
       "      <td>Enn_3VvikuDftsgroni-2b7bOtX7dNNG5PcRxXSMJFXZLP...</td>\n",
       "      <td>Master</td>\n",
       "    </tr>\n",
       "    <tr>\n",
       "      <th>1</th>\n",
       "      <td>5860157180</td>\n",
       "      <td>2022-05-07 12:53:17+00:00</td>\n",
       "      <td>player1</td>\n",
       "      <td>0dzqDyAd3j7-v5dm7uqQTYMYPUXIshFVnc7w5p9QGWxnU5...</td>\n",
       "      <td>Diamond</td>\n",
       "    </tr>\n",
       "    <tr>\n",
       "      <th>2</th>\n",
       "      <td>5860193059</td>\n",
       "      <td>2022-05-07 12:28:32+00:00</td>\n",
       "      <td>player1</td>\n",
       "      <td>HHIn3MsOsdbqZpxwkhOPUk9JNJu6_GBPoTLkFuZTgIuBhs...</td>\n",
       "      <td>Unknown</td>\n",
       "    </tr>\n",
       "    <tr>\n",
       "      <th>3</th>\n",
       "      <td>5860101282</td>\n",
       "      <td>2022-05-07 11:56:54+00:00</td>\n",
       "      <td>player1</td>\n",
       "      <td>NtaeqFFIGCpibRu4nrmXmih6yJ2hBGkNyF6sf7QBBtTXlf...</td>\n",
       "      <td>Master</td>\n",
       "    </tr>\n",
       "    <tr>\n",
       "      <th>4</th>\n",
       "      <td>5857587216</td>\n",
       "      <td>2022-05-05 18:52:11+00:00</td>\n",
       "      <td>player1</td>\n",
       "      <td>Kmtv1nNQhRKyXV-FqDIBEIO1WhPA5LPOjAvsnRldYlQcXv...</td>\n",
       "      <td>Unknown</td>\n",
       "    </tr>\n",
       "  </tbody>\n",
       "</table>\n",
       "</div>"
      ],
      "text/plain": [
       "     match_id                  timestamp player_number  \\\n",
       "0  5860242034  2022-05-07 13:30:38+00:00       player1   \n",
       "1  5860157180  2022-05-07 12:53:17+00:00       player1   \n",
       "2  5860193059  2022-05-07 12:28:32+00:00       player1   \n",
       "3  5860101282  2022-05-07 11:56:54+00:00       player1   \n",
       "4  5857587216  2022-05-05 18:52:11+00:00       player1   \n",
       "\n",
       "                                        player_puuid     rank  \n",
       "0  Enn_3VvikuDftsgroni-2b7bOtX7dNNG5PcRxXSMJFXZLP...   Master  \n",
       "1  0dzqDyAd3j7-v5dm7uqQTYMYPUXIshFVnc7w5p9QGWxnU5...  Diamond  \n",
       "2  HHIn3MsOsdbqZpxwkhOPUk9JNJu6_GBPoTLkFuZTgIuBhs...  Unknown  \n",
       "3  NtaeqFFIGCpibRu4nrmXmih6yJ2hBGkNyF6sf7QBBtTXlf...   Master  \n",
       "4  Kmtv1nNQhRKyXV-FqDIBEIO1WhPA5LPOjAvsnRldYlQcXv...  Unknown  "
      ]
     },
     "execution_count": 31,
     "metadata": {},
     "output_type": "execute_result"
    }
   ],
   "source": [
    "df=df_full[df_full['rank'].notnull()]\n",
    "df.head()"
   ]
  },
  {
   "cell_type": "code",
   "execution_count": 32,
   "metadata": {},
   "outputs": [
    {
     "data": {
      "text/plain": [
       "92532"
      ]
     },
     "execution_count": 32,
     "metadata": {},
     "output_type": "execute_result"
    }
   ],
   "source": [
    "len(df)"
   ]
  },
  {
   "cell_type": "code",
   "execution_count": null,
   "metadata": {},
   "outputs": [],
   "source": [
    "df.to_csv('data/df_melted_fullymined_pro.csv', sep='|')"
   ]
  },
  {
   "cell_type": "markdown",
   "metadata": {
    "id": "eHttm6Yqx6XV"
   },
   "source": [
    "Questions to answer in Network Analysis:\n",
    "\n",
    "- Why are they popular?\n",
    "- Why has this node high degree centrality?\n",
    "- Why this node has high proximity prestige?"
   ]
  }
 ],
 "metadata": {
  "colab": {
   "authorship_tag": "ABX9TyPJAuCE+ZR62sZIL/ZaN702",
   "collapsed_sections": [],
   "name": "Preprocessing_new_data.ipynb",
   "provenance": []
  },
  "kernelspec": {
   "display_name": "Python 3 (ipykernel)",
   "language": "python",
   "name": "python3"
  },
  "language_info": {
   "codemirror_mode": {
    "name": "ipython",
    "version": 3
   },
   "file_extension": ".py",
   "mimetype": "text/x-python",
   "name": "python",
   "nbconvert_exporter": "python",
   "pygments_lexer": "ipython3",
   "version": "3.10.4"
  }
 },
 "nbformat": 4,
 "nbformat_minor": 1
}
