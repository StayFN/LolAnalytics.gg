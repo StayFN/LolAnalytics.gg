{
 "cells": [
  {
   "cell_type": "markdown",
   "metadata": {
    "id": "kdPz9oXnyNzz"
   },
   "source": [
    "# Import"
   ]
  },
  {
   "cell_type": "code",
   "execution_count": 27,
   "metadata": {
    "colab": {
     "base_uri": "https://localhost:8080/"
    },
    "executionInfo": {
     "elapsed": 2006,
     "status": "ok",
     "timestamp": 1652872568910,
     "user": {
      "displayName": "Alicia B",
      "userId": "06999555192288788568"
     },
     "user_tz": -120
    },
    "id": "_Lbhi71-tCYK",
    "outputId": "6ab201c1-a280-46a7-bf90-66ed8b54f2bb"
   },
   "outputs": [
    {
     "name": "stdout",
     "output_type": "stream",
     "text": [
      "Drive already mounted at /content/drive; to attempt to forcibly remount, call drive.mount(\"/content/drive\", force_remount=True).\n",
      "data\t\t\t      graph_sampled.png\n",
      "Data_analysis.ipynb\t      graph_test.ipynb\n",
      "df_melted_fullymined_pro.csv  Preprocessing_avg_players.ipynb\n",
      "dict_clear.txt\t\t      Preprocessing_pro_players.ipynb\n",
      "dict.txt\t\t      RiotMining.ipynb\n",
      "/content/drive/My Drive/Web Mining Tut/Project\n"
     ]
    }
   ],
   "source": [
    "from google.colab import drive\n",
    "drive.mount('/content/drive')\n",
    "!ls \"/content/drive/My Drive/Web Mining Tut/Project/\"\n",
    "%cd /content/drive/My\\ Drive/Web Mining Tut/Project"
   ]
  },
  {
   "cell_type": "code",
   "execution_count": 28,
   "metadata": {
    "executionInfo": {
     "elapsed": 7,
     "status": "ok",
     "timestamp": 1652872568911,
     "user": {
      "displayName": "Alicia B",
      "userId": "06999555192288788568"
     },
     "user_tz": -120
    },
    "id": "XSS8rREDs_1D"
   },
   "outputs": [],
   "source": [
    "import numpy as np\n",
    "import pandas as pd\n",
    "import re\n",
    "import networkx as nx\n",
    "from matplotlib import pyplot as plt"
   ]
  },
  {
   "cell_type": "markdown",
   "metadata": {
    "id": "n8SfjL0S765z"
   },
   "source": [
    "# Data"
   ]
  },
  {
   "cell_type": "markdown",
   "metadata": {
    "id": "fS53dZQVkgFG"
   },
   "source": [
    "## Matches"
   ]
  },
  {
   "cell_type": "code",
   "execution_count": 29,
   "metadata": {
    "executionInfo": {
     "elapsed": 953,
     "status": "ok",
     "timestamp": 1652872571637,
     "user": {
      "displayName": "Alicia B",
      "userId": "06999555192288788568"
     },
     "user_tz": -120
    },
    "id": "OD6E6t2fGlV_"
   },
   "outputs": [],
   "source": [
    "# matches\n",
    "matches = pd.read_csv('./data/match_playerPUUIDs_timestampAvgPlayers.csv', header= None)\n",
    "matches.columns = ['match_id','player1', 'player2', 'player3', 'player4', 'player5', 'player6', 'player7', 'player8', 'player9', 'player10', 'timestamp']"
   ]
  },
  {
   "cell_type": "code",
   "execution_count": 30,
   "metadata": {
    "colab": {
     "base_uri": "https://localhost:8080/"
    },
    "executionInfo": {
     "elapsed": 902,
     "status": "ok",
     "timestamp": 1652872572534,
     "user": {
      "displayName": "Alicia B",
      "userId": "06999555192288788568"
     },
     "user_tz": -120
    },
    "id": "eioBv7f05I1D",
    "outputId": "ac1e7706-a825-499a-b320-7e424e69dcaf"
   },
   "outputs": [
    {
     "name": "stderr",
     "output_type": "stream",
     "text": [
      "/usr/local/lib/python3.7/dist-packages/ipykernel_launcher.py:3: FutureWarning: The default value of regex will change from True to False in a future version.\n",
      "  This is separate from the ipykernel package so we can avoid doing imports until\n"
     ]
    }
   ],
   "source": [
    "# get rid of brackets \n",
    "for col in matches:\n",
    "    matches[col] = matches[col].astype(str).str.replace(\"[\\]\\{\\}\\'\\(\\)\\ \\[]\",\"\")\n",
    "#matches.head()"
   ]
  },
  {
   "cell_type": "code",
   "execution_count": 31,
   "metadata": {
    "executionInfo": {
     "elapsed": 8,
     "status": "ok",
     "timestamp": 1652872572535,
     "user": {
      "displayName": "Alicia B",
      "userId": "06999555192288788568"
     },
     "user_tz": -120
    },
    "id": "ONm-VzMeqaFn"
   },
   "outputs": [],
   "source": [
    "# replace nan strings with nan values\n",
    "matches.replace('nan', np.nan, inplace=True)"
   ]
  },
  {
   "cell_type": "code",
   "execution_count": 32,
   "metadata": {
    "colab": {
     "base_uri": "https://localhost:8080/"
    },
    "executionInfo": {
     "elapsed": 7,
     "status": "ok",
     "timestamp": 1652872572536,
     "user": {
      "displayName": "Alicia B",
      "userId": "06999555192288788568"
     },
     "user_tz": -120
    },
    "id": "lSYLWc94NMix",
    "outputId": "029d2069-8ccb-45f9-93af-499dcdaa3489"
   },
   "outputs": [
    {
     "name": "stdout",
     "output_type": "stream",
     "text": [
      "match_id      0\n",
      "player1       0\n",
      "player2       0\n",
      "player3      21\n",
      "player4      41\n",
      "player5      41\n",
      "player6      51\n",
      "player7      51\n",
      "player8      55\n",
      "player9      55\n",
      "player10     56\n",
      "timestamp    56\n",
      "dtype: int64\n"
     ]
    }
   ],
   "source": [
    "# check for na values\n",
    "print(matches.isna().sum())\n",
    "#len(matches)"
   ]
  },
  {
   "cell_type": "code",
   "execution_count": 33,
   "metadata": {
    "colab": {
     "base_uri": "https://localhost:8080/"
    },
    "executionInfo": {
     "elapsed": 259,
     "status": "ok",
     "timestamp": 1652872572790,
     "user": {
      "displayName": "Alicia B",
      "userId": "06999555192288788568"
     },
     "user_tz": -120
    },
    "id": "yU--3cYezVtU",
    "outputId": "0f00a038-5377-4a78-9a67-3a1ebcc88504"
   },
   "outputs": [
    {
     "name": "stderr",
     "output_type": "stream",
     "text": [
      "/usr/local/lib/python3.7/dist-packages/pandas/core/indexing.py:1732: SettingWithCopyWarning: \n",
      "A value is trying to be set on a copy of a slice from a DataFrame\n",
      "\n",
      "See the caveats in the documentation: https://pandas.pydata.org/pandas-docs/stable/user_guide/indexing.html#returning-a-view-versus-a-copy\n",
      "  self._setitem_single_block(indexer, value, name)\n",
      "/usr/local/lib/python3.7/dist-packages/pandas/core/indexing.py:723: SettingWithCopyWarning: \n",
      "A value is trying to be set on a copy of a slice from a DataFrame\n",
      "\n",
      "See the caveats in the documentation: https://pandas.pydata.org/pandas-docs/stable/user_guide/indexing.html#returning-a-view-versus-a-copy\n",
      "  iloc._setitem_with_indexer(indexer, value, self.name)\n"
     ]
    }
   ],
   "source": [
    "# timestamps that are null\n",
    "correct = matches[matches['timestamp'].isnull()]\n",
    "mask = correct[correct['timestamp'].isnull()].player10.isnull()\n",
    "correct.loc[mask,['timestamp','player9']] = correct.loc[mask,['player9','timestamp']].values\n",
    "\n",
    "correct2 = correct[correct['timestamp'].isnull()]\n",
    "correct = correct[correct['timestamp'].notnull()]\n",
    "\n",
    "correct2[correct2['timestamp'].isnull()].player8.isnull()\n",
    "mask = correct2[correct2['timestamp'].isnull()].player8.isnull()\n",
    "correct2.loc[mask,['timestamp','player7']] = correct2.loc[mask,['player7','timestamp']].values\n",
    "\n",
    "correct3 = correct2[correct2['timestamp'].isnull()]\n",
    "correct2 = correct2[correct2['timestamp'].notnull()]\n",
    "\n",
    "correct3[correct3['timestamp'].isnull()].player7.isnull()\n",
    "mask = correct3[correct3['timestamp'].isnull()].player7.isnull()\n",
    "correct3.loc[mask,['timestamp','player6']] = correct3.loc[mask,['player6','timestamp']].values\n",
    "\n",
    "correct4 = correct3[correct3['timestamp'].isnull()]\n",
    "correct3 = correct3[correct3['timestamp'].notnull()]\n",
    "\n",
    "correct4[correct4['timestamp'].isnull()].player6.isnull()\n",
    "mask = correct4[correct4['timestamp'].isnull()].player6.isnull()\n",
    "correct4.loc[mask,['timestamp','player5']] = correct4.loc[mask,['player5','timestamp']].values\n",
    "\n",
    "correct5 = correct4[correct4['timestamp'].isnull()]\n",
    "correct4 = correct4[correct4['timestamp'].notnull()]\n",
    "\n",
    "correct5[correct5['timestamp'].isnull()].player5.isnull()\n",
    "mask = correct5[correct5['timestamp'].isnull()].player5.isnull()\n",
    "correct5.loc[mask,['timestamp','player4']] = correct5.loc[mask,['player4','timestamp']].values\n",
    "\n",
    "correct6 = correct5[correct5['timestamp'].isnull()]\n",
    "correct5 = correct5[correct5['timestamp'].notnull()]\n",
    "\n",
    "correct6[correct6['timestamp'].isnull()].player4.isnull()\n",
    "mask = correct6[correct6['timestamp'].isnull()].player4.isnull()\n",
    "correct6.loc[mask,['timestamp','player3']] = correct6.loc[mask,['player3','timestamp']].values\n",
    "\n",
    "correct7 = correct6[correct6['timestamp'].isnull()]\n",
    "correct6 = correct6[correct6['timestamp'].notnull()]\n",
    "\n",
    "correct7[correct7['timestamp'].isnull()].player3.isnull()\n",
    "mask = correct7[correct7['timestamp'].isnull()].player3.isnull()\n",
    "correct7.loc[mask,['timestamp','player2']] = correct7.loc[mask,['player2','timestamp']].values\n",
    "correct7 = correct7[correct7['timestamp'].notnull()]"
   ]
  },
  {
   "cell_type": "code",
   "execution_count": 34,
   "metadata": {
    "executionInfo": {
     "elapsed": 7,
     "status": "ok",
     "timestamp": 1652872572791,
     "user": {
      "displayName": "Alicia B",
      "userId": "06999555192288788568"
     },
     "user_tz": -120
    },
    "id": "LlVp_hZc2VHC"
   },
   "outputs": [],
   "source": [
    "# check if all rows catched\n",
    "#len(correct) + len(correct2) + len(correct3) + len(correct4) + len(correct5) + len(correct6) + len(correct7)"
   ]
  },
  {
   "cell_type": "code",
   "execution_count": 35,
   "metadata": {
    "executionInfo": {
     "elapsed": 7,
     "status": "ok",
     "timestamp": 1652872572792,
     "user": {
      "displayName": "Alicia B",
      "userId": "06999555192288788568"
     },
     "user_tz": -120
    },
    "id": "3cgFxZ8j6MNc"
   },
   "outputs": [],
   "source": [
    "corrects = pd.concat([ correct, correct2, correct3, correct4, correct5, correct6, correct7])\n",
    "corrects[\"timestamp\"]= pd.to_datetime(corrects[\"timestamp\"], format=\"%Y-%m-%dT%H:%M:%S\")"
   ]
  },
  {
   "cell_type": "code",
   "execution_count": 36,
   "metadata": {
    "executionInfo": {
     "elapsed": 326,
     "status": "ok",
     "timestamp": 1652872573113,
     "user": {
      "displayName": "Alicia B",
      "userId": "06999555192288788568"
     },
     "user_tz": -120
    },
    "id": "SVPdolkj4Zr-"
   },
   "outputs": [],
   "source": [
    "# combine to one dataframe\n",
    "matches[\"timestamp\"]= pd.to_datetime(matches[\"timestamp\"], format=\"%Y-%m-%dT%H:%M:%S\")\n",
    "new_matches = matches[matches['timestamp'].notna()]\n",
    "new_matches = pd.concat([new_matches, correct, correct2, correct3, correct4, correct5, correct6, correct7])"
   ]
  },
  {
   "cell_type": "code",
   "execution_count": 37,
   "metadata": {
    "executionInfo": {
     "elapsed": 7,
     "status": "ok",
     "timestamp": 1652872573114,
     "user": {
      "displayName": "Alicia B",
      "userId": "06999555192288788568"
     },
     "user_tz": -120
    },
    "id": "5RKZpxjS78gM"
   },
   "outputs": [],
   "source": [
    "# check \n",
    "#new_matches.head()\n",
    "#matches[matches['match_id']=='5777687631']\n",
    "#new_matches[new_matches['match_id']=='5838219052']"
   ]
  },
  {
   "cell_type": "markdown",
   "metadata": {
    "id": "N1Zi_AwI8OvG"
   },
   "source": [
    "##Melted"
   ]
  },
  {
   "cell_type": "code",
   "execution_count": 38,
   "metadata": {
    "executionInfo": {
     "elapsed": 260,
     "status": "ok",
     "timestamp": 1652872574871,
     "user": {
      "displayName": "Alicia B",
      "userId": "06999555192288788568"
     },
     "user_tz": -120
    },
    "id": "ewA2qBNhHN22"
   },
   "outputs": [],
   "source": [
    "# melt matches\n",
    "matches_melted = (new_matches.melt(['match_id', 'timestamp'], \n",
    "                       var_name='player_number',\n",
    "                       value_name='player_puuid'))\n",
    "#len(matches_melted)"
   ]
  },
  {
   "cell_type": "code",
   "execution_count": 39,
   "metadata": {
    "executionInfo": {
     "elapsed": 12,
     "status": "ok",
     "timestamp": 1652872574872,
     "user": {
      "displayName": "Alicia B",
      "userId": "06999555192288788568"
     },
     "user_tz": -120
    },
    "id": "RtOJHZRpfA4_"
   },
   "outputs": [],
   "source": [
    "#remove empty cells (empty puuids, empty matches in general)\n",
    "matches_melted['player_puuid'].replace(' ', np.nan, inplace=True)\n",
    "matches_melted['player_puuid'].isna().sum()\n",
    "matches_melted = matches_melted[matches_melted['player_puuid'].notna()]"
   ]
  },
  {
   "cell_type": "code",
   "execution_count": 40,
   "metadata": {
    "colab": {
     "base_uri": "https://localhost:8080/",
     "height": 353
    },
    "executionInfo": {
     "elapsed": 272,
     "status": "ok",
     "timestamp": 1652872575136,
     "user": {
      "displayName": "Alicia B",
      "userId": "06999555192288788568"
     },
     "user_tz": -120
    },
    "id": "n5MCYu3Xd9-g",
    "outputId": "81d6746b-d3b7-445a-dec8-cf0e54566a81"
   },
   "outputs": [
    {
     "data": {
      "text/html": [
       "\n",
       "  <div id=\"df-38492734-596a-47b2-8cce-e65d91124a8f\">\n",
       "    <div class=\"colab-df-container\">\n",
       "      <div>\n",
       "<style scoped>\n",
       "    .dataframe tbody tr th:only-of-type {\n",
       "        vertical-align: middle;\n",
       "    }\n",
       "\n",
       "    .dataframe tbody tr th {\n",
       "        vertical-align: top;\n",
       "    }\n",
       "\n",
       "    .dataframe thead th {\n",
       "        text-align: right;\n",
       "    }\n",
       "</style>\n",
       "<table border=\"1\" class=\"dataframe\">\n",
       "  <thead>\n",
       "    <tr style=\"text-align: right;\">\n",
       "      <th></th>\n",
       "      <th>match_id</th>\n",
       "      <th>timestamp</th>\n",
       "      <th>player_number</th>\n",
       "      <th>player_puuid</th>\n",
       "    </tr>\n",
       "  </thead>\n",
       "  <tbody>\n",
       "    <tr>\n",
       "      <th>0</th>\n",
       "      <td>5857231455</td>\n",
       "      <td>2022-05-05 13:18:51+00:00</td>\n",
       "      <td>player1</td>\n",
       "      <td>ATaIws30cj0UfWN179fxT95zfYUrAAWNPhJHRh6h8_IIYR...</td>\n",
       "    </tr>\n",
       "    <tr>\n",
       "      <th>1</th>\n",
       "      <td>5857099343</td>\n",
       "      <td>2022-05-05 12:47:24+00:00</td>\n",
       "      <td>player1</td>\n",
       "      <td>qxzKB-XDos1g8BVytNYaxzC5QvaXnJ2FHPkMtv0rWG_wmv...</td>\n",
       "    </tr>\n",
       "    <tr>\n",
       "      <th>2</th>\n",
       "      <td>5856620450</td>\n",
       "      <td>2022-05-04 23:45:01+00:00</td>\n",
       "      <td>player1</td>\n",
       "      <td>YEFUr568ruap9KJSRAeT29Fkb34anUma7sX9OeYRxs0-Pi...</td>\n",
       "    </tr>\n",
       "    <tr>\n",
       "      <th>3</th>\n",
       "      <td>5856716446</td>\n",
       "      <td>2022-05-04 23:09:33+00:00</td>\n",
       "      <td>player1</td>\n",
       "      <td>NFuiAvF0C9YMCBBfgJpDYAaaZqS8IFhnKX5_02QBeZIREl...</td>\n",
       "    </tr>\n",
       "    <tr>\n",
       "      <th>4</th>\n",
       "      <td>5855943984</td>\n",
       "      <td>2022-05-04 18:04:03+00:00</td>\n",
       "      <td>player1</td>\n",
       "      <td>J87wGe7JHWF07jC521xbEiFuRnHFqC5NPbwM_IUEjOgfzj...</td>\n",
       "    </tr>\n",
       "  </tbody>\n",
       "</table>\n",
       "</div>\n",
       "      <button class=\"colab-df-convert\" onclick=\"convertToInteractive('df-38492734-596a-47b2-8cce-e65d91124a8f')\"\n",
       "              title=\"Convert this dataframe to an interactive table.\"\n",
       "              style=\"display:none;\">\n",
       "        \n",
       "  <svg xmlns=\"http://www.w3.org/2000/svg\" height=\"24px\"viewBox=\"0 0 24 24\"\n",
       "       width=\"24px\">\n",
       "    <path d=\"M0 0h24v24H0V0z\" fill=\"none\"/>\n",
       "    <path d=\"M18.56 5.44l.94 2.06.94-2.06 2.06-.94-2.06-.94-.94-2.06-.94 2.06-2.06.94zm-11 1L8.5 8.5l.94-2.06 2.06-.94-2.06-.94L8.5 2.5l-.94 2.06-2.06.94zm10 10l.94 2.06.94-2.06 2.06-.94-2.06-.94-.94-2.06-.94 2.06-2.06.94z\"/><path d=\"M17.41 7.96l-1.37-1.37c-.4-.4-.92-.59-1.43-.59-.52 0-1.04.2-1.43.59L10.3 9.45l-7.72 7.72c-.78.78-.78 2.05 0 2.83L4 21.41c.39.39.9.59 1.41.59.51 0 1.02-.2 1.41-.59l7.78-7.78 2.81-2.81c.8-.78.8-2.07 0-2.86zM5.41 20L4 18.59l7.72-7.72 1.47 1.35L5.41 20z\"/>\n",
       "  </svg>\n",
       "      </button>\n",
       "      \n",
       "  <style>\n",
       "    .colab-df-container {\n",
       "      display:flex;\n",
       "      flex-wrap:wrap;\n",
       "      gap: 12px;\n",
       "    }\n",
       "\n",
       "    .colab-df-convert {\n",
       "      background-color: #E8F0FE;\n",
       "      border: none;\n",
       "      border-radius: 50%;\n",
       "      cursor: pointer;\n",
       "      display: none;\n",
       "      fill: #1967D2;\n",
       "      height: 32px;\n",
       "      padding: 0 0 0 0;\n",
       "      width: 32px;\n",
       "    }\n",
       "\n",
       "    .colab-df-convert:hover {\n",
       "      background-color: #E2EBFA;\n",
       "      box-shadow: 0px 1px 2px rgba(60, 64, 67, 0.3), 0px 1px 3px 1px rgba(60, 64, 67, 0.15);\n",
       "      fill: #174EA6;\n",
       "    }\n",
       "\n",
       "    [theme=dark] .colab-df-convert {\n",
       "      background-color: #3B4455;\n",
       "      fill: #D2E3FC;\n",
       "    }\n",
       "\n",
       "    [theme=dark] .colab-df-convert:hover {\n",
       "      background-color: #434B5C;\n",
       "      box-shadow: 0px 1px 3px 1px rgba(0, 0, 0, 0.15);\n",
       "      filter: drop-shadow(0px 1px 2px rgba(0, 0, 0, 0.3));\n",
       "      fill: #FFFFFF;\n",
       "    }\n",
       "  </style>\n",
       "\n",
       "      <script>\n",
       "        const buttonEl =\n",
       "          document.querySelector('#df-38492734-596a-47b2-8cce-e65d91124a8f button.colab-df-convert');\n",
       "        buttonEl.style.display =\n",
       "          google.colab.kernel.accessAllowed ? 'block' : 'none';\n",
       "\n",
       "        async function convertToInteractive(key) {\n",
       "          const element = document.querySelector('#df-38492734-596a-47b2-8cce-e65d91124a8f');\n",
       "          const dataTable =\n",
       "            await google.colab.kernel.invokeFunction('convertToInteractive',\n",
       "                                                     [key], {});\n",
       "          if (!dataTable) return;\n",
       "\n",
       "          const docLinkHtml = 'Like what you see? Visit the ' +\n",
       "            '<a target=\"_blank\" href=https://colab.research.google.com/notebooks/data_table.ipynb>data table notebook</a>'\n",
       "            + ' to learn more about interactive tables.';\n",
       "          element.innerHTML = '';\n",
       "          dataTable['output_type'] = 'display_data';\n",
       "          await google.colab.output.renderOutput(dataTable, element);\n",
       "          const docLink = document.createElement('div');\n",
       "          docLink.innerHTML = docLinkHtml;\n",
       "          element.appendChild(docLink);\n",
       "        }\n",
       "      </script>\n",
       "    </div>\n",
       "  </div>\n",
       "  "
      ],
      "text/plain": [
       "     match_id                  timestamp player_number  \\\n",
       "0  5857231455  2022-05-05 13:18:51+00:00       player1   \n",
       "1  5857099343  2022-05-05 12:47:24+00:00       player1   \n",
       "2  5856620450  2022-05-04 23:45:01+00:00       player1   \n",
       "3  5856716446  2022-05-04 23:09:33+00:00       player1   \n",
       "4  5855943984  2022-05-04 18:04:03+00:00       player1   \n",
       "\n",
       "                                        player_puuid  \n",
       "0  ATaIws30cj0UfWN179fxT95zfYUrAAWNPhJHRh6h8_IIYR...  \n",
       "1  qxzKB-XDos1g8BVytNYaxzC5QvaXnJ2FHPkMtv0rWG_wmv...  \n",
       "2  YEFUr568ruap9KJSRAeT29Fkb34anUma7sX9OeYRxs0-Pi...  \n",
       "3  NFuiAvF0C9YMCBBfgJpDYAaaZqS8IFhnKX5_02QBeZIREl...  \n",
       "4  J87wGe7JHWF07jC521xbEiFuRnHFqC5NPbwM_IUEjOgfzj...  "
      ]
     },
     "execution_count": 40,
     "metadata": {},
     "output_type": "execute_result"
    }
   ],
   "source": [
    "#get rid of BOTs\n",
    "#bots = matches_melted[matches_melted['player_puuid'].str.len()<5]\n",
    "#len(bots)\n",
    "matches_melted = matches_melted[matches_melted['player_puuid'].str.len()>5]\n",
    "matches_melted.head()"
   ]
  },
  {
   "cell_type": "code",
   "execution_count": 41,
   "metadata": {
    "colab": {
     "base_uri": "https://localhost:8080/",
     "height": 271
    },
    "executionInfo": {
     "elapsed": 781,
     "status": "ok",
     "timestamp": 1652872575913,
     "user": {
      "displayName": "Alicia B",
      "userId": "06999555192288788568"
     },
     "user_tz": -120
    },
    "id": "62b48GPykkyL",
    "outputId": "ad14c737-a897-4eea-fc8f-8e7054ec493e"
   },
   "outputs": [
    {
     "data": {
      "text/html": [
       "\n",
       "  <div id=\"df-cbca9188-3474-4144-9b95-b0c0e18ca36e\">\n",
       "    <div class=\"colab-df-container\">\n",
       "      <div>\n",
       "<style scoped>\n",
       "    .dataframe tbody tr th:only-of-type {\n",
       "        vertical-align: middle;\n",
       "    }\n",
       "\n",
       "    .dataframe tbody tr th {\n",
       "        vertical-align: top;\n",
       "    }\n",
       "\n",
       "    .dataframe thead th {\n",
       "        text-align: right;\n",
       "    }\n",
       "</style>\n",
       "<table border=\"1\" class=\"dataframe\">\n",
       "  <thead>\n",
       "    <tr style=\"text-align: right;\">\n",
       "      <th></th>\n",
       "      <th>match_id</th>\n",
       "      <th>timestamp</th>\n",
       "      <th>player_number</th>\n",
       "      <th>player_puuid</th>\n",
       "    </tr>\n",
       "  </thead>\n",
       "  <tbody>\n",
       "    <tr>\n",
       "      <th>count</th>\n",
       "      <td>376015</td>\n",
       "      <td>376015</td>\n",
       "      <td>376015</td>\n",
       "      <td>376015</td>\n",
       "    </tr>\n",
       "    <tr>\n",
       "      <th>unique</th>\n",
       "      <td>33870</td>\n",
       "      <td>32657</td>\n",
       "      <td>10</td>\n",
       "      <td>217702</td>\n",
       "    </tr>\n",
       "    <tr>\n",
       "      <th>top</th>\n",
       "      <td>5857231455</td>\n",
       "      <td>2022-05-06 17:20:28+00:00</td>\n",
       "      <td>player1</td>\n",
       "      <td>jue-VFnXs4CIrR0kAfkU3dd8voN7im5Z7nJprRX-ELuJJH...</td>\n",
       "    </tr>\n",
       "    <tr>\n",
       "      <th>freq</th>\n",
       "      <td>20</td>\n",
       "      <td>50</td>\n",
       "      <td>37662</td>\n",
       "      <td>93</td>\n",
       "    </tr>\n",
       "  </tbody>\n",
       "</table>\n",
       "</div>\n",
       "      <button class=\"colab-df-convert\" onclick=\"convertToInteractive('df-cbca9188-3474-4144-9b95-b0c0e18ca36e')\"\n",
       "              title=\"Convert this dataframe to an interactive table.\"\n",
       "              style=\"display:none;\">\n",
       "        \n",
       "  <svg xmlns=\"http://www.w3.org/2000/svg\" height=\"24px\"viewBox=\"0 0 24 24\"\n",
       "       width=\"24px\">\n",
       "    <path d=\"M0 0h24v24H0V0z\" fill=\"none\"/>\n",
       "    <path d=\"M18.56 5.44l.94 2.06.94-2.06 2.06-.94-2.06-.94-.94-2.06-.94 2.06-2.06.94zm-11 1L8.5 8.5l.94-2.06 2.06-.94-2.06-.94L8.5 2.5l-.94 2.06-2.06.94zm10 10l.94 2.06.94-2.06 2.06-.94-2.06-.94-.94-2.06-.94 2.06-2.06.94z\"/><path d=\"M17.41 7.96l-1.37-1.37c-.4-.4-.92-.59-1.43-.59-.52 0-1.04.2-1.43.59L10.3 9.45l-7.72 7.72c-.78.78-.78 2.05 0 2.83L4 21.41c.39.39.9.59 1.41.59.51 0 1.02-.2 1.41-.59l7.78-7.78 2.81-2.81c.8-.78.8-2.07 0-2.86zM5.41 20L4 18.59l7.72-7.72 1.47 1.35L5.41 20z\"/>\n",
       "  </svg>\n",
       "      </button>\n",
       "      \n",
       "  <style>\n",
       "    .colab-df-container {\n",
       "      display:flex;\n",
       "      flex-wrap:wrap;\n",
       "      gap: 12px;\n",
       "    }\n",
       "\n",
       "    .colab-df-convert {\n",
       "      background-color: #E8F0FE;\n",
       "      border: none;\n",
       "      border-radius: 50%;\n",
       "      cursor: pointer;\n",
       "      display: none;\n",
       "      fill: #1967D2;\n",
       "      height: 32px;\n",
       "      padding: 0 0 0 0;\n",
       "      width: 32px;\n",
       "    }\n",
       "\n",
       "    .colab-df-convert:hover {\n",
       "      background-color: #E2EBFA;\n",
       "      box-shadow: 0px 1px 2px rgba(60, 64, 67, 0.3), 0px 1px 3px 1px rgba(60, 64, 67, 0.15);\n",
       "      fill: #174EA6;\n",
       "    }\n",
       "\n",
       "    [theme=dark] .colab-df-convert {\n",
       "      background-color: #3B4455;\n",
       "      fill: #D2E3FC;\n",
       "    }\n",
       "\n",
       "    [theme=dark] .colab-df-convert:hover {\n",
       "      background-color: #434B5C;\n",
       "      box-shadow: 0px 1px 3px 1px rgba(0, 0, 0, 0.15);\n",
       "      filter: drop-shadow(0px 1px 2px rgba(0, 0, 0, 0.3));\n",
       "      fill: #FFFFFF;\n",
       "    }\n",
       "  </style>\n",
       "\n",
       "      <script>\n",
       "        const buttonEl =\n",
       "          document.querySelector('#df-cbca9188-3474-4144-9b95-b0c0e18ca36e button.colab-df-convert');\n",
       "        buttonEl.style.display =\n",
       "          google.colab.kernel.accessAllowed ? 'block' : 'none';\n",
       "\n",
       "        async function convertToInteractive(key) {\n",
       "          const element = document.querySelector('#df-cbca9188-3474-4144-9b95-b0c0e18ca36e');\n",
       "          const dataTable =\n",
       "            await google.colab.kernel.invokeFunction('convertToInteractive',\n",
       "                                                     [key], {});\n",
       "          if (!dataTable) return;\n",
       "\n",
       "          const docLinkHtml = 'Like what you see? Visit the ' +\n",
       "            '<a target=\"_blank\" href=https://colab.research.google.com/notebooks/data_table.ipynb>data table notebook</a>'\n",
       "            + ' to learn more about interactive tables.';\n",
       "          element.innerHTML = '';\n",
       "          dataTable['output_type'] = 'display_data';\n",
       "          await google.colab.output.renderOutput(dataTable, element);\n",
       "          const docLink = document.createElement('div');\n",
       "          docLink.innerHTML = docLinkHtml;\n",
       "          element.appendChild(docLink);\n",
       "        }\n",
       "      </script>\n",
       "    </div>\n",
       "  </div>\n",
       "  "
      ],
      "text/plain": [
       "          match_id                  timestamp player_number  \\\n",
       "count       376015                     376015        376015   \n",
       "unique       33870                      32657            10   \n",
       "top     5857231455  2022-05-06 17:20:28+00:00       player1   \n",
       "freq            20                         50         37662   \n",
       "\n",
       "                                             player_puuid  \n",
       "count                                              376015  \n",
       "unique                                             217702  \n",
       "top     jue-VFnXs4CIrR0kAfkU3dd8voN7im5Z7nJprRX-ELuJJH...  \n",
       "freq                                                   93  "
      ]
     },
     "execution_count": 41,
     "metadata": {},
     "output_type": "execute_result"
    }
   ],
   "source": [
    "matches_melted.describe()"
   ]
  },
  {
   "cell_type": "code",
   "execution_count": 42,
   "metadata": {
    "colab": {
     "base_uri": "https://localhost:8080/"
    },
    "executionInfo": {
     "elapsed": 1541,
     "status": "ok",
     "timestamp": 1652872577449,
     "user": {
      "displayName": "Alicia B",
      "userId": "06999555192288788568"
     },
     "user_tz": -120
    },
    "id": "ZdyV8ZCjqO59",
    "outputId": "e3149f76-9dbf-4140-e406-4d3ce16f17e2"
   },
   "outputs": [
    {
     "data": {
      "text/plain": [
       "match_id    timestamp                  player_number  player_puuid                                                                  \n",
       "5860226427  2022-05-07 13:56:17+00:00  player4        8VQLq6pnmGRKzzUuHDPCC1IOyq3y7oobY1qa2L6G3MXukJsAVFkK6DfKipwuReqtzWjri85WDhC_8w    2\n",
       "5848185381  2022-04-29 22:42:18+00:00  player3        Ss3ixu8NGFLA6nbA4nd7xYdIxuscnpvCwf2tdUgMi87conqVP-HdB6CDaO_iv684S3NJD3IwrUeNeQ    2\n",
       "5861648114  2022-05-08 13:17:37+00:00  player3        P5qpEHIQ151X9TRluAQ9JNLzR-r0F3EEw52y0n0EX-biCFIUi6w3otwQ_72QhGrLPwknbHlMssT-_A    2\n",
       "                                       player2        9OF6KLutzMIfqb7m27kefiw3Yi48PtpfTtstjQ8PmWbN7XZvFHlvKOkArrYVZuL1IhV70HnB4gc8Bg    2\n",
       "                                       player10       gMo9xm7Sg98pmh3tYGaJSIUBfAF3qp1JZpJEtOZJaf_0H3-EeiSMZmG4Bxr7a5gKE0KQOdwSrwhulg    2\n",
       "                                                                                                                                       ..\n",
       "5857035214  2022-05-05 10:11:47+00:00  player5        HBeNqxWeZHN_YtAI_YaqoZL2S23gSy2XqPgLoON15Rh7iYbeUmgtlFTFFyiYoizghUNmR8sVZjde1g    1\n",
       "                                       player6        bjs9dnMfMKL7kF21QHQKsUQKgK2eAKtqYEHzZ7RSeSX1uXHSS1XgWEEFiil0MbzktuxcgSX9PahczQ    1\n",
       "                                       player7        3T0hs9YSIO8Pj0QGzqoIVrLpWg2SCH5THzfvthCV3BlKC4tmFGlBSO5v-43VuedVOmb20yCSKWF7TA    1\n",
       "                                       player8        LNrV5_56ui8yOG-hsS-lvPZqWQcgF9y5TWVKEq8lJkKhko5NjKa-qG_i674mk5yd6WHQs9vt-h4oiA    1\n",
       "5862952319  2022-05-09 01:08:00+00:00  player9        -F290UryKmh7Qd6Alc0Y19b1dx2ci7-uujqRggO0nqtIfnVTxpbpjK8RxoIn06ZUNrflXUcoRXAXPw    1\n",
       "Length: 308023, dtype: int64"
      ]
     },
     "execution_count": 42,
     "metadata": {},
     "output_type": "execute_result"
    }
   ],
   "source": [
    "# check for duplicates\n",
    "matches_melted[matches_melted.duplicated(subset=['match_id','timestamp'])].value_counts()"
   ]
  },
  {
   "cell_type": "code",
   "execution_count": 43,
   "metadata": {
    "colab": {
     "base_uri": "https://localhost:8080/",
     "height": 271
    },
    "executionInfo": {
     "elapsed": 895,
     "status": "ok",
     "timestamp": 1652872578337,
     "user": {
      "displayName": "Alicia B",
      "userId": "06999555192288788568"
     },
     "user_tz": -120
    },
    "id": "3jF-r8B1q825",
    "outputId": "0d590c36-7ae2-421c-cac6-91b414b79255"
   },
   "outputs": [
    {
     "data": {
      "text/html": [
       "\n",
       "  <div id=\"df-17ff8e67-1f25-4371-8ee8-85608b4a80b0\">\n",
       "    <div class=\"colab-df-container\">\n",
       "      <div>\n",
       "<style scoped>\n",
       "    .dataframe tbody tr th:only-of-type {\n",
       "        vertical-align: middle;\n",
       "    }\n",
       "\n",
       "    .dataframe tbody tr th {\n",
       "        vertical-align: top;\n",
       "    }\n",
       "\n",
       "    .dataframe thead th {\n",
       "        text-align: right;\n",
       "    }\n",
       "</style>\n",
       "<table border=\"1\" class=\"dataframe\">\n",
       "  <thead>\n",
       "    <tr style=\"text-align: right;\">\n",
       "      <th></th>\n",
       "      <th>match_id</th>\n",
       "      <th>timestamp</th>\n",
       "      <th>player_number</th>\n",
       "      <th>player_puuid</th>\n",
       "    </tr>\n",
       "  </thead>\n",
       "  <tbody>\n",
       "    <tr>\n",
       "      <th>count</th>\n",
       "      <td>338101</td>\n",
       "      <td>338101</td>\n",
       "      <td>338101</td>\n",
       "      <td>338101</td>\n",
       "    </tr>\n",
       "    <tr>\n",
       "      <th>unique</th>\n",
       "      <td>33870</td>\n",
       "      <td>32657</td>\n",
       "      <td>10</td>\n",
       "      <td>217702</td>\n",
       "    </tr>\n",
       "    <tr>\n",
       "      <th>top</th>\n",
       "      <td>5857231455</td>\n",
       "      <td>2022-05-07 11:44:39+00:00</td>\n",
       "      <td>player1</td>\n",
       "      <td>jue-VFnXs4CIrR0kAfkU3dd8voN7im5Z7nJprRX-ELuJJH...</td>\n",
       "    </tr>\n",
       "    <tr>\n",
       "      <th>freq</th>\n",
       "      <td>10</td>\n",
       "      <td>40</td>\n",
       "      <td>33870</td>\n",
       "      <td>58</td>\n",
       "    </tr>\n",
       "  </tbody>\n",
       "</table>\n",
       "</div>\n",
       "      <button class=\"colab-df-convert\" onclick=\"convertToInteractive('df-17ff8e67-1f25-4371-8ee8-85608b4a80b0')\"\n",
       "              title=\"Convert this dataframe to an interactive table.\"\n",
       "              style=\"display:none;\">\n",
       "        \n",
       "  <svg xmlns=\"http://www.w3.org/2000/svg\" height=\"24px\"viewBox=\"0 0 24 24\"\n",
       "       width=\"24px\">\n",
       "    <path d=\"M0 0h24v24H0V0z\" fill=\"none\"/>\n",
       "    <path d=\"M18.56 5.44l.94 2.06.94-2.06 2.06-.94-2.06-.94-.94-2.06-.94 2.06-2.06.94zm-11 1L8.5 8.5l.94-2.06 2.06-.94-2.06-.94L8.5 2.5l-.94 2.06-2.06.94zm10 10l.94 2.06.94-2.06 2.06-.94-2.06-.94-.94-2.06-.94 2.06-2.06.94z\"/><path d=\"M17.41 7.96l-1.37-1.37c-.4-.4-.92-.59-1.43-.59-.52 0-1.04.2-1.43.59L10.3 9.45l-7.72 7.72c-.78.78-.78 2.05 0 2.83L4 21.41c.39.39.9.59 1.41.59.51 0 1.02-.2 1.41-.59l7.78-7.78 2.81-2.81c.8-.78.8-2.07 0-2.86zM5.41 20L4 18.59l7.72-7.72 1.47 1.35L5.41 20z\"/>\n",
       "  </svg>\n",
       "      </button>\n",
       "      \n",
       "  <style>\n",
       "    .colab-df-container {\n",
       "      display:flex;\n",
       "      flex-wrap:wrap;\n",
       "      gap: 12px;\n",
       "    }\n",
       "\n",
       "    .colab-df-convert {\n",
       "      background-color: #E8F0FE;\n",
       "      border: none;\n",
       "      border-radius: 50%;\n",
       "      cursor: pointer;\n",
       "      display: none;\n",
       "      fill: #1967D2;\n",
       "      height: 32px;\n",
       "      padding: 0 0 0 0;\n",
       "      width: 32px;\n",
       "    }\n",
       "\n",
       "    .colab-df-convert:hover {\n",
       "      background-color: #E2EBFA;\n",
       "      box-shadow: 0px 1px 2px rgba(60, 64, 67, 0.3), 0px 1px 3px 1px rgba(60, 64, 67, 0.15);\n",
       "      fill: #174EA6;\n",
       "    }\n",
       "\n",
       "    [theme=dark] .colab-df-convert {\n",
       "      background-color: #3B4455;\n",
       "      fill: #D2E3FC;\n",
       "    }\n",
       "\n",
       "    [theme=dark] .colab-df-convert:hover {\n",
       "      background-color: #434B5C;\n",
       "      box-shadow: 0px 1px 3px 1px rgba(0, 0, 0, 0.15);\n",
       "      filter: drop-shadow(0px 1px 2px rgba(0, 0, 0, 0.3));\n",
       "      fill: #FFFFFF;\n",
       "    }\n",
       "  </style>\n",
       "\n",
       "      <script>\n",
       "        const buttonEl =\n",
       "          document.querySelector('#df-17ff8e67-1f25-4371-8ee8-85608b4a80b0 button.colab-df-convert');\n",
       "        buttonEl.style.display =\n",
       "          google.colab.kernel.accessAllowed ? 'block' : 'none';\n",
       "\n",
       "        async function convertToInteractive(key) {\n",
       "          const element = document.querySelector('#df-17ff8e67-1f25-4371-8ee8-85608b4a80b0');\n",
       "          const dataTable =\n",
       "            await google.colab.kernel.invokeFunction('convertToInteractive',\n",
       "                                                     [key], {});\n",
       "          if (!dataTable) return;\n",
       "\n",
       "          const docLinkHtml = 'Like what you see? Visit the ' +\n",
       "            '<a target=\"_blank\" href=https://colab.research.google.com/notebooks/data_table.ipynb>data table notebook</a>'\n",
       "            + ' to learn more about interactive tables.';\n",
       "          element.innerHTML = '';\n",
       "          dataTable['output_type'] = 'display_data';\n",
       "          await google.colab.output.renderOutput(dataTable, element);\n",
       "          const docLink = document.createElement('div');\n",
       "          docLink.innerHTML = docLinkHtml;\n",
       "          element.appendChild(docLink);\n",
       "        }\n",
       "      </script>\n",
       "    </div>\n",
       "  </div>\n",
       "  "
      ],
      "text/plain": [
       "          match_id                  timestamp player_number  \\\n",
       "count       338101                     338101        338101   \n",
       "unique       33870                      32657            10   \n",
       "top     5857231455  2022-05-07 11:44:39+00:00       player1   \n",
       "freq            10                         40         33870   \n",
       "\n",
       "                                             player_puuid  \n",
       "count                                              338101  \n",
       "unique                                             217702  \n",
       "top     jue-VFnXs4CIrR0kAfkU3dd8voN7im5Z7nJprRX-ELuJJH...  \n",
       "freq                                                   58  "
      ]
     },
     "execution_count": 43,
     "metadata": {},
     "output_type": "execute_result"
    }
   ],
   "source": [
    "# get rid of duplicates\n",
    "avg_matches = matches_melted.drop_duplicates(subset=[\"match_id\", \"timestamp\", \"player_number\"])\n",
    "avg_matches.describe()"
   ]
  },
  {
   "cell_type": "markdown",
   "metadata": {
    "id": "rqa5doa4kjfk"
   },
   "source": [
    "## Ranks"
   ]
  },
  {
   "cell_type": "code",
   "execution_count": 44,
   "metadata": {
    "executionInfo": {
     "elapsed": 254,
     "status": "ok",
     "timestamp": 1652872583811,
     "user": {
      "displayName": "Alicia B",
      "userId": "06999555192288788568"
     },
     "user_tz": -120
    },
    "id": "JbB6PfGI79kb"
   },
   "outputs": [],
   "source": [
    "# ranks\n",
    "ranks = pd.read_csv('./data/fullyMinedSumonerPUUID_RankAvgPlayers.csv', header= None)\n",
    "ranks.columns = ['player_puuid','rank']"
   ]
  },
  {
   "cell_type": "code",
   "execution_count": 45,
   "metadata": {
    "colab": {
     "base_uri": "https://localhost:8080/"
    },
    "executionInfo": {
     "elapsed": 10,
     "status": "ok",
     "timestamp": 1652872584142,
     "user": {
      "displayName": "Alicia B",
      "userId": "06999555192288788568"
     },
     "user_tz": -120
    },
    "id": "XF-GgZGtNqc_",
    "outputId": "9827ebef-b9a6-4068-b393-48e1f6826df8"
   },
   "outputs": [
    {
     "name": "stdout",
     "output_type": "stream",
     "text": [
      "player_puuid    0\n",
      "rank            0\n",
      "dtype: int64\n",
      "player_puuid    0\n",
      "rank            0\n",
      "dtype: int64\n"
     ]
    }
   ],
   "source": [
    "# check for na and null values\n",
    "print(ranks.isna().sum())\n",
    "print(ranks.isnull().sum())"
   ]
  },
  {
   "cell_type": "code",
   "execution_count": 46,
   "metadata": {
    "colab": {
     "base_uri": "https://localhost:8080/",
     "height": 302
    },
    "executionInfo": {
     "elapsed": 7,
     "status": "ok",
     "timestamp": 1652872584143,
     "user": {
      "displayName": "Alicia B",
      "userId": "06999555192288788568"
     },
     "user_tz": -120
    },
    "id": "0RQ-5bI9HxqQ",
    "outputId": "20a01cbc-bf8a-44a6-a731-ee850b90266d"
   },
   "outputs": [
    {
     "name": "stderr",
     "output_type": "stream",
     "text": [
      "/usr/local/lib/python3.7/dist-packages/ipykernel_launcher.py:3: FutureWarning: The default value of regex will change from True to False in a future version.\n",
      "  This is separate from the ipykernel package so we can avoid doing imports until\n"
     ]
    },
    {
     "data": {
      "text/html": [
       "\n",
       "  <div id=\"df-3625bfd4-ba1a-4d6d-88c7-0d89e512e386\">\n",
       "    <div class=\"colab-df-container\">\n",
       "      <div>\n",
       "<style scoped>\n",
       "    .dataframe tbody tr th:only-of-type {\n",
       "        vertical-align: middle;\n",
       "    }\n",
       "\n",
       "    .dataframe tbody tr th {\n",
       "        vertical-align: top;\n",
       "    }\n",
       "\n",
       "    .dataframe thead th {\n",
       "        text-align: right;\n",
       "    }\n",
       "</style>\n",
       "<table border=\"1\" class=\"dataframe\">\n",
       "  <thead>\n",
       "    <tr style=\"text-align: right;\">\n",
       "      <th></th>\n",
       "      <th>player_puuid</th>\n",
       "      <th>rank</th>\n",
       "    </tr>\n",
       "  </thead>\n",
       "  <tbody>\n",
       "    <tr>\n",
       "      <th>0</th>\n",
       "      <td>NFuiAvF0C9YMCBBfgJpDYAaaZqS8IFhnKX5_02QBeZIREl...</td>\n",
       "      <td>Gold</td>\n",
       "    </tr>\n",
       "    <tr>\n",
       "      <th>1</th>\n",
       "      <td>ATaIws30cj0UfWN179fxT95zfYUrAAWNPhJHRh6h8_IIYR...</td>\n",
       "      <td>Gold</td>\n",
       "    </tr>\n",
       "    <tr>\n",
       "      <th>2</th>\n",
       "      <td>-q5TqZRmRLTIBcRfX9EPDjksLEReE7qtm7i4rplVd6BoGk...</td>\n",
       "      <td>Gold</td>\n",
       "    </tr>\n",
       "    <tr>\n",
       "      <th>3</th>\n",
       "      <td>2skPefI2lAflL18iJ3KCyb5fZ7OmIKI-d7iaI0Tc1e3Sjn...</td>\n",
       "      <td>Gold</td>\n",
       "    </tr>\n",
       "    <tr>\n",
       "      <th>4</th>\n",
       "      <td>jue-VFnXs4CIrR0kAfkU3dd8voN7im5Z7nJprRX-ELuJJH...</td>\n",
       "      <td>Gold</td>\n",
       "    </tr>\n",
       "  </tbody>\n",
       "</table>\n",
       "</div>\n",
       "      <button class=\"colab-df-convert\" onclick=\"convertToInteractive('df-3625bfd4-ba1a-4d6d-88c7-0d89e512e386')\"\n",
       "              title=\"Convert this dataframe to an interactive table.\"\n",
       "              style=\"display:none;\">\n",
       "        \n",
       "  <svg xmlns=\"http://www.w3.org/2000/svg\" height=\"24px\"viewBox=\"0 0 24 24\"\n",
       "       width=\"24px\">\n",
       "    <path d=\"M0 0h24v24H0V0z\" fill=\"none\"/>\n",
       "    <path d=\"M18.56 5.44l.94 2.06.94-2.06 2.06-.94-2.06-.94-.94-2.06-.94 2.06-2.06.94zm-11 1L8.5 8.5l.94-2.06 2.06-.94-2.06-.94L8.5 2.5l-.94 2.06-2.06.94zm10 10l.94 2.06.94-2.06 2.06-.94-2.06-.94-.94-2.06-.94 2.06-2.06.94z\"/><path d=\"M17.41 7.96l-1.37-1.37c-.4-.4-.92-.59-1.43-.59-.52 0-1.04.2-1.43.59L10.3 9.45l-7.72 7.72c-.78.78-.78 2.05 0 2.83L4 21.41c.39.39.9.59 1.41.59.51 0 1.02-.2 1.41-.59l7.78-7.78 2.81-2.81c.8-.78.8-2.07 0-2.86zM5.41 20L4 18.59l7.72-7.72 1.47 1.35L5.41 20z\"/>\n",
       "  </svg>\n",
       "      </button>\n",
       "      \n",
       "  <style>\n",
       "    .colab-df-container {\n",
       "      display:flex;\n",
       "      flex-wrap:wrap;\n",
       "      gap: 12px;\n",
       "    }\n",
       "\n",
       "    .colab-df-convert {\n",
       "      background-color: #E8F0FE;\n",
       "      border: none;\n",
       "      border-radius: 50%;\n",
       "      cursor: pointer;\n",
       "      display: none;\n",
       "      fill: #1967D2;\n",
       "      height: 32px;\n",
       "      padding: 0 0 0 0;\n",
       "      width: 32px;\n",
       "    }\n",
       "\n",
       "    .colab-df-convert:hover {\n",
       "      background-color: #E2EBFA;\n",
       "      box-shadow: 0px 1px 2px rgba(60, 64, 67, 0.3), 0px 1px 3px 1px rgba(60, 64, 67, 0.15);\n",
       "      fill: #174EA6;\n",
       "    }\n",
       "\n",
       "    [theme=dark] .colab-df-convert {\n",
       "      background-color: #3B4455;\n",
       "      fill: #D2E3FC;\n",
       "    }\n",
       "\n",
       "    [theme=dark] .colab-df-convert:hover {\n",
       "      background-color: #434B5C;\n",
       "      box-shadow: 0px 1px 3px 1px rgba(0, 0, 0, 0.15);\n",
       "      filter: drop-shadow(0px 1px 2px rgba(0, 0, 0, 0.3));\n",
       "      fill: #FFFFFF;\n",
       "    }\n",
       "  </style>\n",
       "\n",
       "      <script>\n",
       "        const buttonEl =\n",
       "          document.querySelector('#df-3625bfd4-ba1a-4d6d-88c7-0d89e512e386 button.colab-df-convert');\n",
       "        buttonEl.style.display =\n",
       "          google.colab.kernel.accessAllowed ? 'block' : 'none';\n",
       "\n",
       "        async function convertToInteractive(key) {\n",
       "          const element = document.querySelector('#df-3625bfd4-ba1a-4d6d-88c7-0d89e512e386');\n",
       "          const dataTable =\n",
       "            await google.colab.kernel.invokeFunction('convertToInteractive',\n",
       "                                                     [key], {});\n",
       "          if (!dataTable) return;\n",
       "\n",
       "          const docLinkHtml = 'Like what you see? Visit the ' +\n",
       "            '<a target=\"_blank\" href=https://colab.research.google.com/notebooks/data_table.ipynb>data table notebook</a>'\n",
       "            + ' to learn more about interactive tables.';\n",
       "          element.innerHTML = '';\n",
       "          dataTable['output_type'] = 'display_data';\n",
       "          await google.colab.output.renderOutput(dataTable, element);\n",
       "          const docLink = document.createElement('div');\n",
       "          docLink.innerHTML = docLinkHtml;\n",
       "          element.appendChild(docLink);\n",
       "        }\n",
       "      </script>\n",
       "    </div>\n",
       "  </div>\n",
       "  "
      ],
      "text/plain": [
       "                                        player_puuid  rank\n",
       "0  NFuiAvF0C9YMCBBfgJpDYAaaZqS8IFhnKX5_02QBeZIREl...  Gold\n",
       "1  ATaIws30cj0UfWN179fxT95zfYUrAAWNPhJHRh6h8_IIYR...  Gold\n",
       "2  -q5TqZRmRLTIBcRfX9EPDjksLEReE7qtm7i4rplVd6BoGk...  Gold\n",
       "3  2skPefI2lAflL18iJ3KCyb5fZ7OmIKI-d7iaI0Tc1e3Sjn...  Gold\n",
       "4  jue-VFnXs4CIrR0kAfkU3dd8voN7im5Z7nJprRX-ELuJJH...  Gold"
      ]
     },
     "execution_count": 46,
     "metadata": {},
     "output_type": "execute_result"
    }
   ],
   "source": [
    "# get rid of brackets \n",
    "for col in ranks:\n",
    "    ranks[col] = ranks[col].astype(str).str.replace(\"[\\]\\{\\}\\'\\(\\)\\ \\[]\",\"\")\n",
    "ranks.head()"
   ]
  },
  {
   "cell_type": "code",
   "execution_count": 47,
   "metadata": {
    "executionInfo": {
     "elapsed": 6,
     "status": "ok",
     "timestamp": 1652872584144,
     "user": {
      "displayName": "Alicia B",
      "userId": "06999555192288788568"
     },
     "user_tz": -120
    },
    "id": "8V5YdD59sIAX"
   },
   "outputs": [],
   "source": [
    "# check for duplicates\n",
    "ranks.describe()\n",
    "ranks = ranks.drop_duplicates()"
   ]
  },
  {
   "cell_type": "markdown",
   "metadata": {
    "id": "Q7oIQIXLklwv"
   },
   "source": [
    "## Full dataset"
   ]
  },
  {
   "cell_type": "code",
   "execution_count": 48,
   "metadata": {
    "colab": {
     "base_uri": "https://localhost:8080/",
     "height": 653
    },
    "executionInfo": {
     "elapsed": 284,
     "status": "ok",
     "timestamp": 1652872586709,
     "user": {
      "displayName": "Alicia B",
      "userId": "06999555192288788568"
     },
     "user_tz": -120
    },
    "id": "XLy1cqECDV9_",
    "outputId": "f70e3086-dd07-464c-abb8-af49414439b4"
   },
   "outputs": [
    {
     "data": {
      "text/html": [
       "\n",
       "  <div id=\"df-f4f5f374-70da-401e-ae02-0bff7108f7ff\">\n",
       "    <div class=\"colab-df-container\">\n",
       "      <div>\n",
       "<style scoped>\n",
       "    .dataframe tbody tr th:only-of-type {\n",
       "        vertical-align: middle;\n",
       "    }\n",
       "\n",
       "    .dataframe tbody tr th {\n",
       "        vertical-align: top;\n",
       "    }\n",
       "\n",
       "    .dataframe thead th {\n",
       "        text-align: right;\n",
       "    }\n",
       "</style>\n",
       "<table border=\"1\" class=\"dataframe\">\n",
       "  <thead>\n",
       "    <tr style=\"text-align: right;\">\n",
       "      <th></th>\n",
       "      <th>match_id</th>\n",
       "      <th>timestamp</th>\n",
       "      <th>player_number</th>\n",
       "      <th>player_puuid</th>\n",
       "      <th>rank</th>\n",
       "    </tr>\n",
       "  </thead>\n",
       "  <tbody>\n",
       "    <tr>\n",
       "      <th>0</th>\n",
       "      <td>5857231455</td>\n",
       "      <td>2022-05-05 13:18:51+00:00</td>\n",
       "      <td>player1</td>\n",
       "      <td>ATaIws30cj0UfWN179fxT95zfYUrAAWNPhJHRh6h8_IIYR...</td>\n",
       "      <td>Gold</td>\n",
       "    </tr>\n",
       "    <tr>\n",
       "      <th>1</th>\n",
       "      <td>5857099343</td>\n",
       "      <td>2022-05-05 12:47:24+00:00</td>\n",
       "      <td>player1</td>\n",
       "      <td>qxzKB-XDos1g8BVytNYaxzC5QvaXnJ2FHPkMtv0rWG_wmv...</td>\n",
       "      <td>Gold</td>\n",
       "    </tr>\n",
       "    <tr>\n",
       "      <th>2</th>\n",
       "      <td>5856620450</td>\n",
       "      <td>2022-05-04 23:45:01+00:00</td>\n",
       "      <td>player1</td>\n",
       "      <td>YEFUr568ruap9KJSRAeT29Fkb34anUma7sX9OeYRxs0-Pi...</td>\n",
       "      <td>Bronze</td>\n",
       "    </tr>\n",
       "    <tr>\n",
       "      <th>3</th>\n",
       "      <td>5856716446</td>\n",
       "      <td>2022-05-04 23:09:33+00:00</td>\n",
       "      <td>player1</td>\n",
       "      <td>NFuiAvF0C9YMCBBfgJpDYAaaZqS8IFhnKX5_02QBeZIREl...</td>\n",
       "      <td>Gold</td>\n",
       "    </tr>\n",
       "    <tr>\n",
       "      <th>4</th>\n",
       "      <td>5855943984</td>\n",
       "      <td>2022-05-04 18:04:03+00:00</td>\n",
       "      <td>player1</td>\n",
       "      <td>J87wGe7JHWF07jC521xbEiFuRnHFqC5NPbwM_IUEjOgfzj...</td>\n",
       "      <td>Silver</td>\n",
       "    </tr>\n",
       "    <tr>\n",
       "      <th>...</th>\n",
       "      <td>...</td>\n",
       "      <td>...</td>\n",
       "      <td>...</td>\n",
       "      <td>...</td>\n",
       "      <td>...</td>\n",
       "    </tr>\n",
       "    <tr>\n",
       "      <th>338154</th>\n",
       "      <td>5849195925</td>\n",
       "      <td>2022-04-30 14:08:21+00:00</td>\n",
       "      <td>player10</td>\n",
       "      <td>izgmY6eI5K23lBVVKFBY1F6FAsTnTLeFitB8nVctdtSgzP...</td>\n",
       "      <td>NaN</td>\n",
       "    </tr>\n",
       "    <tr>\n",
       "      <th>338155</th>\n",
       "      <td>5847764157</td>\n",
       "      <td>2022-04-29 18:41:38+00:00</td>\n",
       "      <td>player10</td>\n",
       "      <td>4WFU18gcKnX1ZgYxtrLgxNGDwECbazQhoTFTSNtRIScc8p...</td>\n",
       "      <td>NaN</td>\n",
       "    </tr>\n",
       "    <tr>\n",
       "      <th>338156</th>\n",
       "      <td>5846127974</td>\n",
       "      <td>2022-04-28 19:52:38+00:00</td>\n",
       "      <td>player10</td>\n",
       "      <td>4roZgIWXMIVWKcqnQtzfKL7kYDcTCBOccV9sCi8ZJ3gpfE...</td>\n",
       "      <td>NaN</td>\n",
       "    </tr>\n",
       "    <tr>\n",
       "      <th>338157</th>\n",
       "      <td>5846141732</td>\n",
       "      <td>2022-04-28 19:17:30+00:00</td>\n",
       "      <td>player10</td>\n",
       "      <td>4roZgIWXMIVWKcqnQtzfKL7kYDcTCBOccV9sCi8ZJ3gpfE...</td>\n",
       "      <td>NaN</td>\n",
       "    </tr>\n",
       "    <tr>\n",
       "      <th>338158</th>\n",
       "      <td>5844794354</td>\n",
       "      <td>2022-04-27 19:08:03+00:00</td>\n",
       "      <td>player10</td>\n",
       "      <td>thyQTSEKTaHyaAZqycOB9VXQQwB8rVK6lSuiaZXj7zjnLb...</td>\n",
       "      <td>NaN</td>\n",
       "    </tr>\n",
       "  </tbody>\n",
       "</table>\n",
       "<p>338159 rows × 5 columns</p>\n",
       "</div>\n",
       "      <button class=\"colab-df-convert\" onclick=\"convertToInteractive('df-f4f5f374-70da-401e-ae02-0bff7108f7ff')\"\n",
       "              title=\"Convert this dataframe to an interactive table.\"\n",
       "              style=\"display:none;\">\n",
       "        \n",
       "  <svg xmlns=\"http://www.w3.org/2000/svg\" height=\"24px\"viewBox=\"0 0 24 24\"\n",
       "       width=\"24px\">\n",
       "    <path d=\"M0 0h24v24H0V0z\" fill=\"none\"/>\n",
       "    <path d=\"M18.56 5.44l.94 2.06.94-2.06 2.06-.94-2.06-.94-.94-2.06-.94 2.06-2.06.94zm-11 1L8.5 8.5l.94-2.06 2.06-.94-2.06-.94L8.5 2.5l-.94 2.06-2.06.94zm10 10l.94 2.06.94-2.06 2.06-.94-2.06-.94-.94-2.06-.94 2.06-2.06.94z\"/><path d=\"M17.41 7.96l-1.37-1.37c-.4-.4-.92-.59-1.43-.59-.52 0-1.04.2-1.43.59L10.3 9.45l-7.72 7.72c-.78.78-.78 2.05 0 2.83L4 21.41c.39.39.9.59 1.41.59.51 0 1.02-.2 1.41-.59l7.78-7.78 2.81-2.81c.8-.78.8-2.07 0-2.86zM5.41 20L4 18.59l7.72-7.72 1.47 1.35L5.41 20z\"/>\n",
       "  </svg>\n",
       "      </button>\n",
       "      \n",
       "  <style>\n",
       "    .colab-df-container {\n",
       "      display:flex;\n",
       "      flex-wrap:wrap;\n",
       "      gap: 12px;\n",
       "    }\n",
       "\n",
       "    .colab-df-convert {\n",
       "      background-color: #E8F0FE;\n",
       "      border: none;\n",
       "      border-radius: 50%;\n",
       "      cursor: pointer;\n",
       "      display: none;\n",
       "      fill: #1967D2;\n",
       "      height: 32px;\n",
       "      padding: 0 0 0 0;\n",
       "      width: 32px;\n",
       "    }\n",
       "\n",
       "    .colab-df-convert:hover {\n",
       "      background-color: #E2EBFA;\n",
       "      box-shadow: 0px 1px 2px rgba(60, 64, 67, 0.3), 0px 1px 3px 1px rgba(60, 64, 67, 0.15);\n",
       "      fill: #174EA6;\n",
       "    }\n",
       "\n",
       "    [theme=dark] .colab-df-convert {\n",
       "      background-color: #3B4455;\n",
       "      fill: #D2E3FC;\n",
       "    }\n",
       "\n",
       "    [theme=dark] .colab-df-convert:hover {\n",
       "      background-color: #434B5C;\n",
       "      box-shadow: 0px 1px 3px 1px rgba(0, 0, 0, 0.15);\n",
       "      filter: drop-shadow(0px 1px 2px rgba(0, 0, 0, 0.3));\n",
       "      fill: #FFFFFF;\n",
       "    }\n",
       "  </style>\n",
       "\n",
       "      <script>\n",
       "        const buttonEl =\n",
       "          document.querySelector('#df-f4f5f374-70da-401e-ae02-0bff7108f7ff button.colab-df-convert');\n",
       "        buttonEl.style.display =\n",
       "          google.colab.kernel.accessAllowed ? 'block' : 'none';\n",
       "\n",
       "        async function convertToInteractive(key) {\n",
       "          const element = document.querySelector('#df-f4f5f374-70da-401e-ae02-0bff7108f7ff');\n",
       "          const dataTable =\n",
       "            await google.colab.kernel.invokeFunction('convertToInteractive',\n",
       "                                                     [key], {});\n",
       "          if (!dataTable) return;\n",
       "\n",
       "          const docLinkHtml = 'Like what you see? Visit the ' +\n",
       "            '<a target=\"_blank\" href=https://colab.research.google.com/notebooks/data_table.ipynb>data table notebook</a>'\n",
       "            + ' to learn more about interactive tables.';\n",
       "          element.innerHTML = '';\n",
       "          dataTable['output_type'] = 'display_data';\n",
       "          await google.colab.output.renderOutput(dataTable, element);\n",
       "          const docLink = document.createElement('div');\n",
       "          docLink.innerHTML = docLinkHtml;\n",
       "          element.appendChild(docLink);\n",
       "        }\n",
       "      </script>\n",
       "    </div>\n",
       "  </div>\n",
       "  "
      ],
      "text/plain": [
       "          match_id                  timestamp player_number  \\\n",
       "0       5857231455  2022-05-05 13:18:51+00:00       player1   \n",
       "1       5857099343  2022-05-05 12:47:24+00:00       player1   \n",
       "2       5856620450  2022-05-04 23:45:01+00:00       player1   \n",
       "3       5856716446  2022-05-04 23:09:33+00:00       player1   \n",
       "4       5855943984  2022-05-04 18:04:03+00:00       player1   \n",
       "...            ...                        ...           ...   \n",
       "338154  5849195925  2022-04-30 14:08:21+00:00      player10   \n",
       "338155  5847764157  2022-04-29 18:41:38+00:00      player10   \n",
       "338156  5846127974  2022-04-28 19:52:38+00:00      player10   \n",
       "338157  5846141732  2022-04-28 19:17:30+00:00      player10   \n",
       "338158  5844794354  2022-04-27 19:08:03+00:00      player10   \n",
       "\n",
       "                                             player_puuid    rank  \n",
       "0       ATaIws30cj0UfWN179fxT95zfYUrAAWNPhJHRh6h8_IIYR...    Gold  \n",
       "1       qxzKB-XDos1g8BVytNYaxzC5QvaXnJ2FHPkMtv0rWG_wmv...    Gold  \n",
       "2       YEFUr568ruap9KJSRAeT29Fkb34anUma7sX9OeYRxs0-Pi...  Bronze  \n",
       "3       NFuiAvF0C9YMCBBfgJpDYAaaZqS8IFhnKX5_02QBeZIREl...    Gold  \n",
       "4       J87wGe7JHWF07jC521xbEiFuRnHFqC5NPbwM_IUEjOgfzj...  Silver  \n",
       "...                                                   ...     ...  \n",
       "338154  izgmY6eI5K23lBVVKFBY1F6FAsTnTLeFitB8nVctdtSgzP...     NaN  \n",
       "338155  4WFU18gcKnX1ZgYxtrLgxNGDwECbazQhoTFTSNtRIScc8p...     NaN  \n",
       "338156  4roZgIWXMIVWKcqnQtzfKL7kYDcTCBOccV9sCi8ZJ3gpfE...     NaN  \n",
       "338157  4roZgIWXMIVWKcqnQtzfKL7kYDcTCBOccV9sCi8ZJ3gpfE...     NaN  \n",
       "338158  thyQTSEKTaHyaAZqycOB9VXQQwB8rVK6lSuiaZXj7zjnLb...     NaN  \n",
       "\n",
       "[338159 rows x 5 columns]"
      ]
     },
     "execution_count": 48,
     "metadata": {},
     "output_type": "execute_result"
    }
   ],
   "source": [
    "# merge matches_melted and ranks\n",
    "df_full = avg_matches.merge(ranks, on= 'player_puuid', how='left')\n",
    "df_full"
   ]
  },
  {
   "cell_type": "code",
   "execution_count": 49,
   "metadata": {
    "colab": {
     "base_uri": "https://localhost:8080/"
    },
    "executionInfo": {
     "elapsed": 8,
     "status": "ok",
     "timestamp": 1652872586709,
     "user": {
      "displayName": "Alicia B",
      "userId": "06999555192288788568"
     },
     "user_tz": -120
    },
    "id": "B2Bek40_kG37",
    "outputId": "7d8ca8bd-a7b6-461b-b81c-4f87167581f5"
   },
   "outputs": [
    {
     "data": {
      "text/plain": [
       "338159"
      ]
     },
     "execution_count": 49,
     "metadata": {},
     "output_type": "execute_result"
    }
   ],
   "source": [
    "len(df_full)"
   ]
  },
  {
   "cell_type": "code",
   "execution_count": 50,
   "metadata": {
    "colab": {
     "base_uri": "https://localhost:8080/"
    },
    "executionInfo": {
     "elapsed": 6,
     "status": "ok",
     "timestamp": 1652872586710,
     "user": {
      "displayName": "Alicia B",
      "userId": "06999555192288788568"
     },
     "user_tz": -120
    },
    "id": "b93q8xZWuJ3k",
    "outputId": "f67e7313-88cb-4ad1-8608-b02488717546"
   },
   "outputs": [
    {
     "data": {
      "text/plain": [
       "338101"
      ]
     },
     "execution_count": 50,
     "metadata": {},
     "output_type": "execute_result"
    }
   ],
   "source": [
    "len(avg_matches)"
   ]
  },
  {
   "cell_type": "markdown",
   "metadata": {
    "id": "Rp1tAGhH4Akj"
   },
   "source": [
    "## Fully mined AVG players with rank"
   ]
  },
  {
   "cell_type": "code",
   "execution_count": 51,
   "metadata": {
    "colab": {
     "base_uri": "https://localhost:8080/",
     "height": 204
    },
    "executionInfo": {
     "elapsed": 252,
     "status": "ok",
     "timestamp": 1652872589216,
     "user": {
      "displayName": "Alicia B",
      "userId": "06999555192288788568"
     },
     "user_tz": -120
    },
    "id": "Tt6LbeAN3-JP",
    "outputId": "2bce5f0e-0675-46c6-8d5c-3543932f472a"
   },
   "outputs": [
    {
     "data": {
      "text/html": [
       "\n",
       "  <div id=\"df-c85f0e14-d2f5-4019-82b2-0692b3fe4d4f\">\n",
       "    <div class=\"colab-df-container\">\n",
       "      <div>\n",
       "<style scoped>\n",
       "    .dataframe tbody tr th:only-of-type {\n",
       "        vertical-align: middle;\n",
       "    }\n",
       "\n",
       "    .dataframe tbody tr th {\n",
       "        vertical-align: top;\n",
       "    }\n",
       "\n",
       "    .dataframe thead th {\n",
       "        text-align: right;\n",
       "    }\n",
       "</style>\n",
       "<table border=\"1\" class=\"dataframe\">\n",
       "  <thead>\n",
       "    <tr style=\"text-align: right;\">\n",
       "      <th></th>\n",
       "      <th>match_id</th>\n",
       "      <th>timestamp</th>\n",
       "      <th>player_number</th>\n",
       "      <th>player_puuid</th>\n",
       "      <th>rank</th>\n",
       "    </tr>\n",
       "  </thead>\n",
       "  <tbody>\n",
       "    <tr>\n",
       "      <th>0</th>\n",
       "      <td>5857231455</td>\n",
       "      <td>2022-05-05 13:18:51+00:00</td>\n",
       "      <td>player1</td>\n",
       "      <td>ATaIws30cj0UfWN179fxT95zfYUrAAWNPhJHRh6h8_IIYR...</td>\n",
       "      <td>Gold</td>\n",
       "    </tr>\n",
       "    <tr>\n",
       "      <th>1</th>\n",
       "      <td>5857099343</td>\n",
       "      <td>2022-05-05 12:47:24+00:00</td>\n",
       "      <td>player1</td>\n",
       "      <td>qxzKB-XDos1g8BVytNYaxzC5QvaXnJ2FHPkMtv0rWG_wmv...</td>\n",
       "      <td>Gold</td>\n",
       "    </tr>\n",
       "    <tr>\n",
       "      <th>2</th>\n",
       "      <td>5856620450</td>\n",
       "      <td>2022-05-04 23:45:01+00:00</td>\n",
       "      <td>player1</td>\n",
       "      <td>YEFUr568ruap9KJSRAeT29Fkb34anUma7sX9OeYRxs0-Pi...</td>\n",
       "      <td>Bronze</td>\n",
       "    </tr>\n",
       "    <tr>\n",
       "      <th>3</th>\n",
       "      <td>5856716446</td>\n",
       "      <td>2022-05-04 23:09:33+00:00</td>\n",
       "      <td>player1</td>\n",
       "      <td>NFuiAvF0C9YMCBBfgJpDYAaaZqS8IFhnKX5_02QBeZIREl...</td>\n",
       "      <td>Gold</td>\n",
       "    </tr>\n",
       "    <tr>\n",
       "      <th>4</th>\n",
       "      <td>5855943984</td>\n",
       "      <td>2022-05-04 18:04:03+00:00</td>\n",
       "      <td>player1</td>\n",
       "      <td>J87wGe7JHWF07jC521xbEiFuRnHFqC5NPbwM_IUEjOgfzj...</td>\n",
       "      <td>Silver</td>\n",
       "    </tr>\n",
       "  </tbody>\n",
       "</table>\n",
       "</div>\n",
       "      <button class=\"colab-df-convert\" onclick=\"convertToInteractive('df-c85f0e14-d2f5-4019-82b2-0692b3fe4d4f')\"\n",
       "              title=\"Convert this dataframe to an interactive table.\"\n",
       "              style=\"display:none;\">\n",
       "        \n",
       "  <svg xmlns=\"http://www.w3.org/2000/svg\" height=\"24px\"viewBox=\"0 0 24 24\"\n",
       "       width=\"24px\">\n",
       "    <path d=\"M0 0h24v24H0V0z\" fill=\"none\"/>\n",
       "    <path d=\"M18.56 5.44l.94 2.06.94-2.06 2.06-.94-2.06-.94-.94-2.06-.94 2.06-2.06.94zm-11 1L8.5 8.5l.94-2.06 2.06-.94-2.06-.94L8.5 2.5l-.94 2.06-2.06.94zm10 10l.94 2.06.94-2.06 2.06-.94-2.06-.94-.94-2.06-.94 2.06-2.06.94z\"/><path d=\"M17.41 7.96l-1.37-1.37c-.4-.4-.92-.59-1.43-.59-.52 0-1.04.2-1.43.59L10.3 9.45l-7.72 7.72c-.78.78-.78 2.05 0 2.83L4 21.41c.39.39.9.59 1.41.59.51 0 1.02-.2 1.41-.59l7.78-7.78 2.81-2.81c.8-.78.8-2.07 0-2.86zM5.41 20L4 18.59l7.72-7.72 1.47 1.35L5.41 20z\"/>\n",
       "  </svg>\n",
       "      </button>\n",
       "      \n",
       "  <style>\n",
       "    .colab-df-container {\n",
       "      display:flex;\n",
       "      flex-wrap:wrap;\n",
       "      gap: 12px;\n",
       "    }\n",
       "\n",
       "    .colab-df-convert {\n",
       "      background-color: #E8F0FE;\n",
       "      border: none;\n",
       "      border-radius: 50%;\n",
       "      cursor: pointer;\n",
       "      display: none;\n",
       "      fill: #1967D2;\n",
       "      height: 32px;\n",
       "      padding: 0 0 0 0;\n",
       "      width: 32px;\n",
       "    }\n",
       "\n",
       "    .colab-df-convert:hover {\n",
       "      background-color: #E2EBFA;\n",
       "      box-shadow: 0px 1px 2px rgba(60, 64, 67, 0.3), 0px 1px 3px 1px rgba(60, 64, 67, 0.15);\n",
       "      fill: #174EA6;\n",
       "    }\n",
       "\n",
       "    [theme=dark] .colab-df-convert {\n",
       "      background-color: #3B4455;\n",
       "      fill: #D2E3FC;\n",
       "    }\n",
       "\n",
       "    [theme=dark] .colab-df-convert:hover {\n",
       "      background-color: #434B5C;\n",
       "      box-shadow: 0px 1px 3px 1px rgba(0, 0, 0, 0.15);\n",
       "      filter: drop-shadow(0px 1px 2px rgba(0, 0, 0, 0.3));\n",
       "      fill: #FFFFFF;\n",
       "    }\n",
       "  </style>\n",
       "\n",
       "      <script>\n",
       "        const buttonEl =\n",
       "          document.querySelector('#df-c85f0e14-d2f5-4019-82b2-0692b3fe4d4f button.colab-df-convert');\n",
       "        buttonEl.style.display =\n",
       "          google.colab.kernel.accessAllowed ? 'block' : 'none';\n",
       "\n",
       "        async function convertToInteractive(key) {\n",
       "          const element = document.querySelector('#df-c85f0e14-d2f5-4019-82b2-0692b3fe4d4f');\n",
       "          const dataTable =\n",
       "            await google.colab.kernel.invokeFunction('convertToInteractive',\n",
       "                                                     [key], {});\n",
       "          if (!dataTable) return;\n",
       "\n",
       "          const docLinkHtml = 'Like what you see? Visit the ' +\n",
       "            '<a target=\"_blank\" href=https://colab.research.google.com/notebooks/data_table.ipynb>data table notebook</a>'\n",
       "            + ' to learn more about interactive tables.';\n",
       "          element.innerHTML = '';\n",
       "          dataTable['output_type'] = 'display_data';\n",
       "          await google.colab.output.renderOutput(dataTable, element);\n",
       "          const docLink = document.createElement('div');\n",
       "          docLink.innerHTML = docLinkHtml;\n",
       "          element.appendChild(docLink);\n",
       "        }\n",
       "      </script>\n",
       "    </div>\n",
       "  </div>\n",
       "  "
      ],
      "text/plain": [
       "     match_id                  timestamp player_number  \\\n",
       "0  5857231455  2022-05-05 13:18:51+00:00       player1   \n",
       "1  5857099343  2022-05-05 12:47:24+00:00       player1   \n",
       "2  5856620450  2022-05-04 23:45:01+00:00       player1   \n",
       "3  5856716446  2022-05-04 23:09:33+00:00       player1   \n",
       "4  5855943984  2022-05-04 18:04:03+00:00       player1   \n",
       "\n",
       "                                        player_puuid    rank  \n",
       "0  ATaIws30cj0UfWN179fxT95zfYUrAAWNPhJHRh6h8_IIYR...    Gold  \n",
       "1  qxzKB-XDos1g8BVytNYaxzC5QvaXnJ2FHPkMtv0rWG_wmv...    Gold  \n",
       "2  YEFUr568ruap9KJSRAeT29Fkb34anUma7sX9OeYRxs0-Pi...  Bronze  \n",
       "3  NFuiAvF0C9YMCBBfgJpDYAaaZqS8IFhnKX5_02QBeZIREl...    Gold  \n",
       "4  J87wGe7JHWF07jC521xbEiFuRnHFqC5NPbwM_IUEjOgfzj...  Silver  "
      ]
     },
     "execution_count": 51,
     "metadata": {},
     "output_type": "execute_result"
    }
   ],
   "source": [
    "df=df_full[df_full['rank'].notnull()]\n",
    "df.head()"
   ]
  },
  {
   "cell_type": "code",
   "execution_count": 52,
   "metadata": {
    "colab": {
     "base_uri": "https://localhost:8080/"
    },
    "executionInfo": {
     "elapsed": 214,
     "status": "ok",
     "timestamp": 1652872598030,
     "user": {
      "displayName": "Alicia B",
      "userId": "06999555192288788568"
     },
     "user_tz": -120
    },
    "id": "tEPSTbmV4j5m",
    "outputId": "1c3f10d0-dd4f-4a98-c8e7-3358eb7a2f57"
   },
   "outputs": [
    {
     "data": {
      "text/plain": [
       "43133"
      ]
     },
     "execution_count": 52,
     "metadata": {},
     "output_type": "execute_result"
    }
   ],
   "source": [
    "len(df)"
   ]
  },
  {
   "cell_type": "code",
   "execution_count": 53,
   "metadata": {
    "executionInfo": {
     "elapsed": 545,
     "status": "ok",
     "timestamp": 1652872623800,
     "user": {
      "displayName": "Alicia B",
      "userId": "06999555192288788568"
     },
     "user_tz": -120
    },
    "id": "SSCEWRCb4ols"
   },
   "outputs": [],
   "source": [
    "df.to_csv('data/df_melted_fullymined_avg.csv', sep='|')"
   ]
  },
  {
   "cell_type": "markdown",
   "metadata": {
    "id": "eHttm6Yqx6XV"
   },
   "source": [
    "Questions to answer in Network Analysis:\n",
    "\n",
    "- Why are they popular?\n",
    "- Why has this node high degree centrality?\n",
    "- Why this node has high proximity prestige?"
   ]
  }
 ],
 "metadata": {
  "colab": {
   "authorship_tag": "ABX9TyObe4GjC0Uh4mYhcGCEJTWs",
   "collapsed_sections": [],
   "name": "Preprocessing_avg_players.ipynb",
   "provenance": []
  },
  "kernelspec": {
   "display_name": "Python 3 (ipykernel)",
   "language": "python",
   "name": "python3"
  },
  "language_info": {
   "codemirror_mode": {
    "name": "ipython",
    "version": 3
   },
   "file_extension": ".py",
   "mimetype": "text/x-python",
   "name": "python",
   "nbconvert_exporter": "python",
   "pygments_lexer": "ipython3",
   "version": "3.10.4"
  }
 },
 "nbformat": 4,
 "nbformat_minor": 1
}
