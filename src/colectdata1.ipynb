{
 "cells": [
  {
   "cell_type": "code",
   "execution_count": 4,
   "metadata": {},
   "outputs": [],
   "source": [
    "import cassiopeia as cass\n",
    "from cassiopeia import Summoner, Match\n",
    "from cassiopeia.data import Season, Queue\n",
    "from collections import Counter\n",
    "import arrow\n",
    "import csv\n"
   ]
  },
  {
   "cell_type": "code",
   "execution_count": 5,
   "metadata": {},
   "outputs": [],
   "source": [
    "\n",
    "cass.set_riot_api_key(\"RGAPI-08c1e315-008c-46e2-909f-cedbb30421f5\") #Get it from Riot Dev Portal https://developer.riotgames.com/"
   ]
  },
  {
   "cell_type": "code",
   "execution_count": 6,
   "metadata": {},
   "outputs": [],
   "source": [
    "unpulled_summoners = []\n",
    "pulled_matches = []\n",
    "match_player_dict = {} \n",
    "matchcounter = 0"
   ]
  },
  {
   "cell_type": "code",
   "execution_count": 7,
   "metadata": {},
   "outputs": [
    {
     "name": "stdout",
     "output_type": "stream",
     "text": [
      "Making call: https://euw1.api.riotgames.com/lol/summoner/v4/summoners/by-name/Hubba22\n"
     ]
    },
    {
     "ename": "NameError",
     "evalue": "name 'new_puuid' is not defined",
     "output_type": "error",
     "traceback": [
      "\u001b[1;31m---------------------------------------------------------------------------\u001b[0m",
      "\u001b[1;31mNameError\u001b[0m                                 Traceback (most recent call last)",
      "\u001b[1;32mg:\\OneDrive - Universität Mannheim\\Semester 1\\Web Mining Proj\\LolAnalytics.gg\\src\\colectdata1.ipynb Cell 4'\u001b[0m in \u001b[0;36m<cell line: 4>\u001b[1;34m()\u001b[0m\n\u001b[0;32m     <a href='vscode-notebook-cell:/g%3A/OneDrive%20-%20Universit%C3%A4t%20Mannheim/Semester%201/Web%20Mining%20Proj/LolAnalytics.gg/src/colectdata1.ipynb#ch0000003?line=10'>11</a>\u001b[0m match_player_dict\u001b[39m.\u001b[39mclear() \n\u001b[0;32m     <a href='vscode-notebook-cell:/g%3A/OneDrive%20-%20Universit%C3%A4t%20Mannheim/Semester%201/Web%20Mining%20Proj/LolAnalytics.gg/src/colectdata1.ipynb#ch0000003?line=12'>13</a>\u001b[0m \u001b[39mwith\u001b[39;00m \u001b[39mopen\u001b[39m(\u001b[39m\"\u001b[39m\u001b[39mfullyMinedSumonerPUUID_Rank.csv\u001b[39m\u001b[39m\"\u001b[39m,\u001b[39m\"\u001b[39m\u001b[39ma\u001b[39m\u001b[39m\"\u001b[39m) \u001b[39mas\u001b[39;00m file:\n\u001b[1;32m---> <a href='vscode-notebook-cell:/g%3A/OneDrive%20-%20Universit%C3%A4t%20Mannheim/Semester%201/Web%20Mining%20Proj/LolAnalytics.gg/src/colectdata1.ipynb#ch0000003?line=13'>14</a>\u001b[0m         line \u001b[39m=\u001b[39m \u001b[39mf\u001b[39m\u001b[39m\"\u001b[39m\u001b[39m{\u001b[39;00mnew_puuid\u001b[39m}\u001b[39;00m\u001b[39m,\u001b[39m\u001b[39m{\u001b[39;00mtier\u001b[39m}\u001b[39;00m\u001b[39m\\n\u001b[39;00m\u001b[39m\"\u001b[39m\n\u001b[0;32m     <a href='vscode-notebook-cell:/g%3A/OneDrive%20-%20Universit%C3%A4t%20Mannheim/Semester%201/Web%20Mining%20Proj/LolAnalytics.gg/src/colectdata1.ipynb#ch0000003?line=14'>15</a>\u001b[0m         file\u001b[39m.\u001b[39mwrite(line)\n\u001b[0;32m     <a href='vscode-notebook-cell:/g%3A/OneDrive%20-%20Universit%C3%A4t%20Mannheim/Semester%201/Web%20Mining%20Proj/LolAnalytics.gg/src/colectdata1.ipynb#ch0000003?line=18'>19</a>\u001b[0m \u001b[39mwith\u001b[39;00m \u001b[39mopen\u001b[39m(\u001b[39m\"\u001b[39m\u001b[39munpulled_summoners.csv\u001b[39m\u001b[39m\"\u001b[39m,\u001b[39m\"\u001b[39m\u001b[39mw\u001b[39m\u001b[39m\"\u001b[39m) \u001b[39mas\u001b[39;00m file:\n",
      "\u001b[1;31mNameError\u001b[0m: name 'new_puuid' is not defined"
     ]
    }
   ],
   "source": [
    "start_summoner = Summoner(name=\"Hubba22\", region=\"EUW\")\n",
    "unpulled_summoners.append(start_summoner.puuid)\n",
    "# A MatchHistory is a lazy list, meaning it's elements only get loaded as-needed.\n",
    "while unpulled_summoners:\n",
    "\n",
    "    \n",
    "    with open(\"match_playerPUUIDs_timestamp.csv\",\"a\") as file:\n",
    "        for key, value in match_player_dict:\n",
    "            line = f\"{key}, {value}\\n\"\n",
    "            file.write(line)\n",
    "\n",
    "    match_player_dict.clear() \n",
    "\n",
    "    with open(\"fullyMinedSumonerPUUID_Rank.csv\",\"a\") as file:\n",
    "            line = f\"{new_puuid},{tier}\\n\"\n",
    "            file.write(line)\n",
    "\n",
    "\n",
    "\n",
    "    with open(\"unpulled_summoners.csv\",\"w\") as file:\n",
    "        wr = csv.writer(file, delimiter=\"\\n\")\n",
    "        wr.writerow()\n",
    "\n",
    "\n",
    "\n",
    "    new_puuid = unpulled_summoners[0]\n",
    "    new_summoner = Summoner(puuid=new_puuid, region=\"EUW\")\n",
    "    tier = str(new_summoner.league_entries.fives.tier)\n",
    "\n",
    "    match_history = cass.get_match_history(\n",
    "        continent=new_summoner.region.continent,\n",
    "        puuid=new_summoner.puuid,\n",
    "        begin_index = 0,\n",
    "        end_index = 100)\n",
    "\n",
    "\n",
    "    for match in match_history:\n",
    "        if match.id not in pulled_matches:\n",
    "            pulled_matches.append(match.id)\n",
    "            participant_ids = []\n",
    "            matchcounter += 1\n",
    "            print(matchcounter, match.creation)        \n",
    "\n",
    "            \n",
    "\n",
    "            for p in match.participants:\n",
    "                #if (not p.is_bot) and p.summoner.exists:\n",
    "                  if len(participant_ids) >= 10:\n",
    "                    break\n",
    "                                   \n",
    "                  if p.summoner is not None and p.summoner.puuid is not None:\n",
    "                    if p.summoner.puuid not in unpulled_summoners:\n",
    "                        unpulled_summoners.append(p.summoner.puuid)\n",
    "\n",
    "\n",
    "                    participant_ids.append(p.summoner.puuid)\n",
    "                #entries, rank_last_season, ranks\n",
    "            timestamp = str(match.creation)\n",
    "            match_player_dict[match.id] = (participant_ids, timestamp)\n",
    "        \n",
    "    unpulled_summoners.remove(new_summoner.puuid)"
   ]
  },
  {
   "cell_type": "markdown",
   "metadata": {},
   "source": []
  },
  {
   "cell_type": "code",
   "execution_count": 5,
   "metadata": {},
   "outputs": [
    {
     "name": "stdout",
     "output_type": "stream",
     "text": [
      "51\n"
     ]
    }
   ],
   "source": [
    "print(len(match_player_dict))"
   ]
  },
  {
   "cell_type": "code",
   "execution_count": 9,
   "metadata": {},
   "outputs": [
    {
     "name": "stdout",
     "output_type": "stream",
     "text": [
      "5846005280 (['b3m8FtWaOV9RTL6EL16KnwyfN8Uvxgrzu0kt1RFZRA0OuFhfzI2WL3XZ2SVC26WG43DWp1sORKLPEg', 'IiC6jy4fxvf3qiA6vPIFjJ57KLgIzydeX1hXy8bseYDwqq5Vr5ZpTQUwqc_zD96ju-fAgaJFIEkmsg', 'bsRmJj-JhGKjPgJIKIDhtKmRmHtw8AEDbtfs4ypwLr65bvzZOiY2PZ4QGAEtnWjeQRsYpBvZ-gPuFA', 'EsiYGe2O7c2WQuyinxKixQXaQ52xdSyMVzdMQ6Uj5cPsgaOVoDPHBsPaFidp0bAsW3GUI1MKjVxGTA', 'GwyWTqkR5hfu1ZwOAL2LXyXwOxd2vFS-5dxoYk1-5qrj-ONF8E1nynscOaVkHb5FEA-4yGOjWDc3AA', 'AsOHEhnYzpvrADPrKvpzhvf_x3GXtNVL5FrY-KFcWGHxX43zI1LjwxkVDKODPQLu1gWF0Z6wP68llg', 'LhLcSIe-tXg6E9I66e0TSI5-yCMo4hIvhC1yQlIZnB86T6I-R1Ern7xrEuKSjiWxULnGfW-TS-uSmg', 'DUi-xPkeFKUDiT0EqfJoPlhs1gXXavbsVIhJO15XqQLUrqvOKChSys7qE0ighnFzjJtFPD-hqbaPmQ', 'SEwkgutzWJG8UZOb0TY4xcRqw1pwa7L7jKMX1GIam1EMKT7w-Fq-ne_ivsAFFGXvRLEXkugqHEn0hA', 'ykODW8V-LFKuYSTMx2HgGKkOc6Mettha9KPChSbPgvkCBY_eS5vOn_2Ppkn3ZRJpaSqdyJGhjY_spg'], '2022-04-28T18:37:23+00:00')\n",
      "5845927224 (['KxhKe3A7R-wyHlnczR5hY_HaGcVOsEq2KpAQkcYFtUOOcrGQclN9Abbnh3xLpQt7rb8ejQHMNSnNGg', 'LhLcSIe-tXg6E9I66e0TSI5-yCMo4hIvhC1yQlIZnB86T6I-R1Ern7xrEuKSjiWxULnGfW-TS-uSmg', 'DUi-xPkeFKUDiT0EqfJoPlhs1gXXavbsVIhJO15XqQLUrqvOKChSys7qE0ighnFzjJtFPD-hqbaPmQ', 'mIvj8r0ywJm_m9w8Tp7mgBUM_Z5MyQwmrkSInexJ7VgG-XIgd-GvL9cYV7RhoGRH5BxHjj8YHJjgcA', '-vkc3vfY52dhM9-MELHvM1SJH8fk5aGo-9UCqidetPRMVLMjNNKSlZCi2L0qpujNyGFqz2CuMVeWgA', 'AsOHEhnYzpvrADPrKvpzhvf_x3GXtNVL5FrY-KFcWGHxX43zI1LjwxkVDKODPQLu1gWF0Z6wP68llg', 'AyIv8kR4U9v64VWvAjVZ3axy1SDCbOH-srI_riJ9pHB7QWKs-Fv0SudDc8PgE3WhOQ-ZS4zNY37nCA', 'SVmP93fLIhQtyXfkW8w4KP8Igi0QnaL9KbpAXaVuy5Jcgy3WeVIMX22XvVL76l-FQl_W9Nto37YK1g', 'dfEYgHQkLmnsWWOD7_nOdgmwL5bi7NBzTbYSZ4XWxP4Kyhf5S5BruzIXkym9XYdN36HemAsPtq_2dw', 'Bs0HN3M81RQlH3TqOZH9r5NsMTDMNSgM4zA45vrzJdz9NUf5lGTf-DcFG_G3OoDXjm9DS4Ol7nhabw'], '2022-04-28T17:47:25+00:00')\n",
      "5844842885 (['R_o3L0JyknlbLy6Y_g_AFgy7UEymzixfkXx23QNRrOvvEYSQmunHlW7z4NXeV-8xpKUfo0syM0InqA', 'P_aznvFCpap8AK8pjjxHSkK8drYo4fAfWUj4OJ_CiGesrAaDg6E2FeCvHt6rCPmDbwIQR2qi9bt0zQ', 'DUi-xPkeFKUDiT0EqfJoPlhs1gXXavbsVIhJO15XqQLUrqvOKChSys7qE0ighnFzjJtFPD-hqbaPmQ', 'yrEmomUNXmJ1T0AaXDbLw5vED6KC1EDb_giyoT0iDPbMtZU_haFJ7eNcUAGhlLzJYFs0Fkp1XvN7SA', 'qU5njbDxMqXGu_EYYe5bLtvb9AAoUBLVj7s1Q81Cp7BItqN6_ZM9P254ap0GM9001uRj7x4rFSXNzg', 'CrmJBv24csLGMgFmRF7OSAiHSiXjLbua3h5ZjvGrkk7MQ01iFM5KQFhY4dQstGK-WFb3Rm7xRfKZDQ', 'YQN6uf9hcmfP31oZ_r0Xf6mMmpGErjRxwclDmnWQGiZC6rmRxgNw1Q6ULFTcm2emO4RgDaLabx6APQ', '6OquEshhh0isYCchh1dDfDOTzAFxiu_Czr62G7_Gxq671Rh6gdm-hsPM64mqPiCBpluepPTIDXrluw', 'pb1m30hlNBc_OSrLcFNyxovx9Q7aZLyFNCC0X7WVmkuUewdU8hzfGMUnvA4DRwlHxJa2Rodg6niIog', '1NVKV7gsrm8Rptc2CKK-QCPI0W5EFZ2qL7OS-lG4WYG2TX0fF25TC5Ky9wbUgT4elsNsqx_KaiSgvg'], '2022-04-27T19:56:12+00:00')\n",
      "5844816140 (['WDyepf8wc7qAPSXLuwmlg2KOwozdcnUDGk1HKSFuOpUNpXLuFgtjRqNP5AptoyXphzDKD7HL159frQ', 'YQN6uf9hcmfP31oZ_r0Xf6mMmpGErjRxwclDmnWQGiZC6rmRxgNw1Q6ULFTcm2emO4RgDaLabx6APQ', 'B7MuhVjXcgEAhBOl1iAv47TAVFFedgC7kL7guM8bJWQEFfExeE5fchkI4yvaFP84ns2HV91jYpuLIg', 'ZwtCdiYcQeL4-L1v9GXJNiuRNJPTvmWuuhGGf4StgbMED7ZIkYyb9xi16lqbzw4C07_QU5otNuaLgA', 'laapIhzDuc8o5uMd6RUcR202aFXBJJHcnnFxrGz9mF03RYvQ9d8ViQg5E-5yNINvpUSGneZ8PLoX8A', 'aon0KdjjrT5l9VuaOIOgxTaHuKSDHIBnPujEBxpXjbeoMH_dRVT_yzZKsWCDtVOUoEs-UBHckEqjDw', 'ELCDwNCSByMBNvLHpuEmsrFFLkPcj8ocM7ivGnvxpj9MPTUUYaecup_teGFJBE6-vsCTVRuF0qQjmg', 'OAz0lKsyFM7qIuNXSsucpz0Y87frx6KKFkG7WwZTxf7QbtyNjmgm2wqX1qu9bVdsPzGWUjhFagEDag', 'DUi-xPkeFKUDiT0EqfJoPlhs1gXXavbsVIhJO15XqQLUrqvOKChSys7qE0ighnFzjJtFPD-hqbaPmQ', 'OrNNmOBO_LnZNkwbQekqwsKCVDK258gMopGhzQyPTna2S-q7lO_RS_EaMc8sUd2xbY37AgmognCdeA'], '2022-04-27T19:19:20+00:00')\n",
      "5844678006 (['F3W_uZkReedJGACcTI2LTSAy9Na3vyeJGnR318hRDNi93JqoFyLSATXFR2qrd2Jnz067lMovQUyWGA', 'CD_7BEy6eElIaRDCpUdccUVVSR_yRqHKqDlRSEW7To6iR82s58HHmWgjy41t36VpA2sjrIfkczj7fw', 'nNyoQmPTIfFg9z2M8eG4dTdPsoe-c4t2TXVRk03Szk9shA9dC_FGW1FtaF2yIMRa8LJrD5IiH3EZ4Q', 'HSR1mur4H___1RPOvgayW5Z8TTyojfcCK31FDTNRADT-BEkXTTylFJrGFsXLdvuPMoFrlqAVioTtxQ', 'QRKCOdbguFgnV08C-lDrRDZDtIebvb0wgvSHiRuWf-7NEJG_V9zaOyRD9wUubNbNs3-BwVtjvu5vyA', 'AYXj4Z7GTWg10ybvKsxXl4zU0y50vInEiczdTpUCQE-dzS6uqbbAm8NM8ZUeflpvQfH_BItLp9YfIw', 'XMdI7bbIdq8ieOsOVJGU23cCUuTGXbH-OzfxUpvOcotyVxHdGed5yRlp3BK05V6vC0ZgoVkGLMGXUA', 'DUi-xPkeFKUDiT0EqfJoPlhs1gXXavbsVIhJO15XqQLUrqvOKChSys7qE0ighnFzjJtFPD-hqbaPmQ', 'ZwtCdiYcQeL4-L1v9GXJNiuRNJPTvmWuuhGGf4StgbMED7ZIkYyb9xi16lqbzw4C07_QU5otNuaLgA', '2DUmeGAodkt2et9Socmgmf8wqJsBWC8gt9ITdE35sY_Aq7PHRgAIQki22m9W3g-oclGasNsYeat6iw'], '2022-04-27T18:29:23+00:00')\n",
      "5844600296 (['hD08TmXZl8GfJjtkfGQzvMLSQNGcKkVtnc_TH6uQwYfzjYx9ETAZN_QYaK3ApRXSSBC7CQS5WmNHdg', 'XMdI7bbIdq8ieOsOVJGU23cCUuTGXbH-OzfxUpvOcotyVxHdGed5yRlp3BK05V6vC0ZgoVkGLMGXUA', 'DUi-xPkeFKUDiT0EqfJoPlhs1gXXavbsVIhJO15XqQLUrqvOKChSys7qE0ighnFzjJtFPD-hqbaPmQ', 'tmuElgDWwlVdps_r5YxFSVvUiIkA4Pvx-rBYyOqGfPAIRy36ISqmqM1tRY86XAp8lOpXOj1urgnsVA', 'AjPdzOgc1f3tUWGIi0-bk17axgN4aNDKNjrb977snqlxc3Pt6_xx0OC6oLQNjXrRVKJMuiHfmn50Kw', 'F3W_uZkReedJGACcTI2LTSAy9Na3vyeJGnR318hRDNi93JqoFyLSATXFR2qrd2Jnz067lMovQUyWGA', 'ByPknbl-1ejGDqS4mTyQhkI6mYr2IG4sIu5bK53Up8PR6krvhvwB9pt3_nsoOFfdl961lsVY0Xqnbw', '-lfpLNT68dANiGOP9OJf7Hq9J9tT4VoMj4CPdDX0ybbnT7FhPPSuBjoa2k3qBnx1N4Df-JZJ9Rd-tQ', 'GxzXwDuZ4mNlGqREUnHEW2q36sVBB5EdtOc59-q8AdBPqwxMZrbFiAW7DdS9A3MnnV1gbB0y-8YO8w', 'QRKCOdbguFgnV08C-lDrRDZDtIebvb0wgvSHiRuWf-7NEJG_V9zaOyRD9wUubNbNs3-BwVtjvu5vyA'], '2022-04-27T17:41:00+00:00')\n",
      "5844613980 (['hD08TmXZl8GfJjtkfGQzvMLSQNGcKkVtnc_TH6uQwYfzjYx9ETAZN_QYaK3ApRXSSBC7CQS5WmNHdg', '78gF34STmDfCyWqu5F71qP2jp6WTT80pHxR8zHaYjy3-vggMJ77HfwaUHuAH82Q2Xr4IKS-JIKSu6w', 'tlmGBmsbdCAY3EQrGNT5Nv0o_laSU08vD6td2xtTIVYTh9pLFeEgJKmn0G9guDGMjjPDBAhHe_x_YQ', 'tI8ob4T1Ar3zUg8XyoFGlUJ2-TfDq2w-QqHatbPbrbZhglvrFIkPMQZUcjTIAtNUzZtLAzIzyL-3Uw', '-7JfEHbP_ml9fYSTuXhAH0VIifyOqsnZzWIUMeBmLwsmqXZmot-9Mpeu_AIUlYBS8SCKbNjR43JKdA', 'F3W_uZkReedJGACcTI2LTSAy9Na3vyeJGnR318hRDNi93JqoFyLSATXFR2qrd2Jnz067lMovQUyWGA', 'CHN5IbLlPNonR3f_Y5_BEmAzLxDWD19GYpuUVJ7kopK9kEFftbMHNceIE3sHVzv3NKv7vGnKLdNupQ', 'TQsApiCtMeaWpCemDrPl4fgjdkEMuqapfHeCg7tG-X4oD1xceYpmuuHiR1MCbySUbopLceGILWz4vA', 'DUi-xPkeFKUDiT0EqfJoPlhs1gXXavbsVIhJO15XqQLUrqvOKChSys7qE0ighnFzjJtFPD-hqbaPmQ', '8Ak2_yfWpch07CVxyDBQ3v_S10UXPPu6wfmFNgHscTDs7rOUCwUM64Zlh4WZc2jWa1Mjkx-UMqIcaw'], '2022-04-27T17:00:14+00:00')\n",
      "5844537878 (['F3W_uZkReedJGACcTI2LTSAy9Na3vyeJGnR318hRDNi93JqoFyLSATXFR2qrd2Jnz067lMovQUyWGA', 'BqJAojfEglj6feB4U8Oumez23xS36_b55t_rAz4-sHeL6cnasss482dolnX_3GDKxKgLiBc2RNJWVA', '-lfpLNT68dANiGOP9OJf7Hq9J9tT4VoMj4CPdDX0ybbnT7FhPPSuBjoa2k3qBnx1N4Df-JZJ9Rd-tQ', '1pyoSDCd8PJt-cexO9YdK20CUXQ6sWWj5raeEO6i4y9fD49yYHIVJHSpivmPA3LA9xArY97Ssk0otA', 'Tgk3g-DNrZH2qmYVaPWuM1d4H0aDf9GTNwh6b5f_ngenuzc27IocTfi_-ABD2Ic--6fB1AnxixjYag', 'ueN-_pnb2Sb8-wfvn8GKWSwsgFtXK6O7SmZ-HSYkfJEIY8BdhNM51pQxrJdzUnBRL2e6uPVIQB1L6Q', 'ck4SaLNvVdvYDm30TxeJ5Kz_tzo8MX7m4RrJ5SiQnazzk1l3ZCRUW0LLIbrUcfD7XpDKs-Ow60mFPg', 'iL4wyhztevl4i0-3dOOKgpIkVLd7AiIWght2ItWnhSAnrC97n6tRYR_wWDpsmC1V-VJ125JtFzU93A', 'DUi-xPkeFKUDiT0EqfJoPlhs1gXXavbsVIhJO15XqQLUrqvOKChSys7qE0ighnFzjJtFPD-hqbaPmQ', 'OCNipYfKxBrBXMhQnuKtryBvTUdKJgyRYEiMlJ1QptyMb66fNVDFSdEemAo8z22128HhrqG8LcLPhw'], '2022-04-27T16:18:12+00:00')\n",
      "5844482466 (['aj5fGEjBy_t_bKrvEiM3YX6-N373xG55IFtDdmJEQPYw4RRvDHfgfZsgnDAr5je0vMP3z8VMuToYSA', 'hYIck-ZKj3UQg3MMI0CbAbxft4NllTlewMO8EE83mdGXF_ykVZ-wm7V3NxyJoVdilFiFLzMLawqzIg', 'JiLBMZFPHH-rF5A2yC3UawEQfRaXfuthLHlVXB8IaaBiXciqS2oQgzmiPx0ewHG-DrnlbpecGIPmNg', '25o9JKBKqgdJSrYEt57ZiaSC33ah95k-qklw7Mo5vyK_Hl2HuQ5grGHroH6OGbBgu3_kUGle5qyxZQ', 'LtsYH9Xu5LAKh8ZeCFBbwWdV9oGV0HEyaV4gDLwq3Gr-1-Vm0TxeQ19slpTk5l0J0J-UN9GroGmIlw', 'yQkw6ngARl_I1VWoCc5qB8zCJKUhLa4We7CANVrd7Na0quxh2I2os86DzPWG2cxkQRbQVeZVqwII7A', '-j8-SaPBYzCO8YoAwVQ6w4qThvwWyNz9478vMY5ZmNN3zGkfFuTRzxIOaFJEOXI_e0sTPRPt9XJTeg', 'DUi-xPkeFKUDiT0EqfJoPlhs1gXXavbsVIhJO15XqQLUrqvOKChSys7qE0ighnFzjJtFPD-hqbaPmQ', '9IVilbr2yS0DzSL4A1lOARO3GtFOcYPV-oYOBEHADnR510ghprB5sFhIOY-J01of6WJmc5neMw1ljw', 'SyC8kMNbVfomh5iqVi6NvOTtxw2TDIow5uC9xKW4kk4ZpIAkPP3eFShb42fFNTbN8BQ97TElPwt66w'], '2022-04-27T15:36:28+00:00')\n",
      "5844436051 (['XPnu8CKuETzq-wWTYbIMrxbOQpLs82xO2LHUP19ZrkBWbKCHoICBARAPmXQVCHSlDv4TdIozOOO6AQ', 'pYUfmoYyGo2r6nh6dCFLNYoWmZD4Wyc7o_MB4IEcuewRY_ftQjyTNAyd8yoWHm16C-FDui9gQiRhyg', 'p1689LoBK7bnwTPrcRe6kvSKYMWp0V6YDAJBKevN25zt2tzNBLQcWPgH4MfOIBAXyziUS4piTrZP0w', 'QfSlRbINM9cXqVqD117mUTi9qYBi4Tuvalr9aEwhCkt0BmbQwXBDL4F2WEn0HhQ1QHlUWgcEpvjZlg', 'Uhe03T9d1rXClkSPYxKZisH3Iza6uP9tWVr9nSf4KQdEB63dSNirWHjizpUnyinYvYlqtIbetyMc3w', 'Y5qIOS2vvEZQF7G2nBKF0itvlCF2UFILpcj71BVFW5MTq7wn-KL7i7QIOxQRqAuZxgxIvd-Y8SsCwA', '4R661GNcouPt9FhmcqZkANwabdWr6Sk3kTMSYDJ4P6QPHL1rNQdDEi8WK04noEB9MOqsyD3w5YlGGA', 'DUi-xPkeFKUDiT0EqfJoPlhs1gXXavbsVIhJO15XqQLUrqvOKChSys7qE0ighnFzjJtFPD-hqbaPmQ', 'vK7iyaVODZE5cd3Xf_bjC4USx5iHyEcPy7PdFz7NybIe3niuCFg3xKXIAFp5sD7_rtAvYvW9qwG3xg', '1NVKV7gsrm8Rptc2CKK-QCPI0W5EFZ2qL7OS-lG4WYG2TX0fF25TC5Ky9wbUgT4elsNsqx_KaiSgvg'], '2022-04-27T14:47:10+00:00')\n",
      "5844411564 (['4_KWPvIIT9j5bdvGyqfhXtJSdnZ-AqZ_cH7pkQR3bawFTUn31CYJeZXW96zC9tKsGsKv1aHfp7YG8Q', 'Y3XWOaGZ8zbGZW_Y-Lc28JoXocrd9tEuEOWuJu0m6DAZ3jojIssvXtJHuFGICuqR8tKHcA23AeG-6w', 'd8GkOQmacVFw4zZTaSlIupm6nO5uA2UDrwZxHfNCbY3AhE1GJWjEM5RG6fpZdfsQhQRGx76E0Ytr2Q', 'QfSlRbINM9cXqVqD117mUTi9qYBi4Tuvalr9aEwhCkt0BmbQwXBDL4F2WEn0HhQ1QHlUWgcEpvjZlg', 'cp214Rzr11QmDi321GJxyPlGg_YT4GxaAsQ_J_3MH7V8mcAzmgWv11dVGd3KYqaKx3sgijbGLGqhrw', '71z61a5UPDRX-q7NNqLY-P9ZsNpo6JPc9qVKHvURcWm_LrEBBDF6soghRDeDdASfCyHVc62O8qXOxw', 'bpjl7fmV1mImuybzDLG5bB5GajkcqyqPiwVgrJwKoqfHZ5kO-4YRMZHyBFG6K9kT3L_j6_qbgWIymg', 'DUi-xPkeFKUDiT0EqfJoPlhs1gXXavbsVIhJO15XqQLUrqvOKChSys7qE0ighnFzjJtFPD-hqbaPmQ', 'xHFpe4cnaCu-NMNrdY4cg8qSAdtn-8E7f-x3_000MslrnTwco86yiGtkGP2zUwu00Ng66nv8pRyfKQ', 'Knx4lhgxbQlH-nSxDj01XLzZRVBd2svFWjidx_FyLsihKEEsI6kWHfQPI4iDaYZhfTr5ISslvjCxbQ'], '2022-04-27T14:07:53+00:00')\n",
      "5844277852 (['odEAid_-wfO2bNqTHcfeOW4dNyxUGlC9_WXXu67kQ_oH8VZYP2ZYpv6BKsUQg84dXI6eYnOzDjkhuw', 'bpjl7fmV1mImuybzDLG5bB5GajkcqyqPiwVgrJwKoqfHZ5kO-4YRMZHyBFG6K9kT3L_j6_qbgWIymg', 'H0hZS9cmcfFVENJSZkIewNeQODUH49PnM7Rr5dh2I0_rWSQcvm0DIAmmn6_BsaA1CT5SszVUHjZZFQ', '9IVilbr2yS0DzSL4A1lOARO3GtFOcYPV-oYOBEHADnR510ghprB5sFhIOY-J01of6WJmc5neMw1ljw', 'O1Y8tWEJJtBpy3cdlBL3eYTsr7shmNEJeytV9Un1ZzXhCrgxGshQ4IMHtdOzMw3wLsf18sBluCAacg', 'aB6GeMU1oBV9nryplCjopoOOy9NtUFOvXxOvuaICAiLkJZk5S-bn2HHJIJefg7dus8CDpvPSQtEAng', '-8HPgUyvZ-2T0AvtIEDJjVNJDFN9Fa6ovRV316VRlsxCLCC7Uf_GfcK1P79CiNhyvmLB_b4dGcyF_A', 'DUi-xPkeFKUDiT0EqfJoPlhs1gXXavbsVIhJO15XqQLUrqvOKChSys7qE0ighnFzjJtFPD-hqbaPmQ', 'vK7iyaVODZE5cd3Xf_bjC4USx5iHyEcPy7PdFz7NybIe3niuCFg3xKXIAFp5sD7_rtAvYvW9qwG3xg', 'k60tgznamhExX-Sm_EH6wy-jzA8ijJi3y-2K1aM38896Zgzq7r_HzHkdKBsWQ-Fe-YkRN5e-wr0yvg'], '2022-04-27T13:33:02+00:00')\n",
      "5844284286 (['_wPUDp2tbr31qwcxKnyQrkNCTZwTecY0cNren4CYzlSKZY8dXGQN2SHSfThXZTsnkkJ5aUngn7EFyw', 'fud9pAd_wgafgJdq08baIYVDymr9ntjlX8sRvhfUf9vCajXxrsRZLrS9lPJhnlH4WPcOmFVih1g0Hw', 'DUi-xPkeFKUDiT0EqfJoPlhs1gXXavbsVIhJO15XqQLUrqvOKChSys7qE0ighnFzjJtFPD-hqbaPmQ', 'yQkw6ngARl_I1VWoCc5qB8zCJKUhLa4We7CANVrd7Na0quxh2I2os86DzPWG2cxkQRbQVeZVqwII7A', 'EKceK9hhgVfIdKl9pqqA5rB820D4Ozr6CnrOcxSneg6vjZLjbwEldlAZtz0NKszdrsi5SUmRJi2w-g', 'nUPcrQxqrqsrCdZM4oV-s-DPqLnWLfXn5MPhs8KoFtsy-csFElp9awkIyFTNv31C4JEg_ZHS3jelgw', 'aB6GeMU1oBV9nryplCjopoOOy9NtUFOvXxOvuaICAiLkJZk5S-bn2HHJIJefg7dus8CDpvPSQtEAng', 'Po8cb86QEwP0IYAqkpbSv6HoSiW3zgyet7ztn3vtFgm0_rQbYY3zXtvQOZM6n15vfw29OFl9Fhxa5A', 'ZDvUI8OCRkFE6aeHrfqPuBQxNamCqKTSJ4UpeXAidhk1Z_LZSZ3DqiZLzppXJQi8WkeiBSRmfb1jcQ', 'iArvS7DOiOcaxybFm3bERMIuG5VjulubqbGk1fZ_hFZ48EjFhbLhUze2OU39NhwLKJZ-Yn3H8mZe4A'], '2022-04-27T12:56:47+00:00')\n",
      "5844270561 (['SuavcFcU5b7lSxh1fnU37KdYdindngHXcTMPyfsPV_FN_8vy4MIAL2O4S2ZKItxrBS0N8IZbOLHLSA', 'ByPknbl-1ejGDqS4mTyQhkI6mYr2IG4sIu5bK53Up8PR6krvhvwB9pt3_nsoOFfdl961lsVY0Xqnbw', 'DUi-xPkeFKUDiT0EqfJoPlhs1gXXavbsVIhJO15XqQLUrqvOKChSys7qE0ighnFzjJtFPD-hqbaPmQ', 'vK7iyaVODZE5cd3Xf_bjC4USx5iHyEcPy7PdFz7NybIe3niuCFg3xKXIAFp5sD7_rtAvYvW9qwG3xg', 'lqwozFjOyaBCiY3NVaFr62ARFRx7zy8X_se1uBLcFyckZlgPJajFhGDWga8XylgX3mxaKNXeleXoug', 'dIiF9QqaHBlTK93T57IdWkc1ptExaFkvV37VPp9iCwbgmtNrn_05xA61Lu7-F43Z4lAObC5kTO6Tfg', 'yiXhEmwGjxOjZ4tKjTTiAiukUH9LiB36mCocF2CpH5dCxp05ltorq7XyqH8BNz1GktE3adlSqxKbmw', '-rho7Gm5rfl8Ux6IuxY-pj27Rj58oDOZOMxkTlgIZY94Ng7bm6RKxqD2TE9gNX44qMXpkZTsZKjXTQ', '12q5OCa04XpRY3-WgpfXavKfIvNEYaLuSdng4YpQAyic3k1YbzoFNIUdf6hkG8XYPScpWkhPG7j-qw', 'B3Nl5LpiJ2X9FQZhfdJYYm9SZ1_3ILvAsZYRJl5uDMUo9BbeuQPMi38MnaJc-lZujQZsdD_ZfBctrA'], '2022-04-27T12:15:17+00:00')\n",
      "5844216290 (['TnGLqNQPi1qDE5vs9QIQV9VFD7lRWczRYobszJJWeWEjlXFqqQHIt7WpBeEpX5FWm3WQ9cIbmPihLw', 'dsvKa0MjqNYkhNdQ7OWpkCKjKTJhxbKgmDwOFLeWBsnmO3Qz3l0vH86xOi_RB5C5_CPkh-_H7wglxQ', 'DUi-xPkeFKUDiT0EqfJoPlhs1gXXavbsVIhJO15XqQLUrqvOKChSys7qE0ighnFzjJtFPD-hqbaPmQ', 'Ba1nCoBBYPfb8kIT4ybWMRe-TPz1ll6KTKDo26pZQI1R2I8i1tJfUeEtqPFYRrv1D63E_stYG6wbUg', 'hTApBbqQIzsBOlKw_VBchQJzaP60x8LbzVC1AftbSwpM5Gs0kS9AtPQS6tz3BmKUcWoLAxsxaV-Gqw', 'Y5qIOS2vvEZQF7G2nBKF0itvlCF2UFILpcj71BVFW5MTq7wn-KL7i7QIOxQRqAuZxgxIvd-Y8SsCwA', 'NpfZ1AL3PFa601TH8EbGSoY5d0hM5E-u1pKv0FjvQKcur4jGemFMfAhVlMdAvCZ9qRPYnEKSb5ESRg', 'MoWJCf_prNSqKPkLi1cZoHpCH335kBQLs09DvxDzjU19ocDx3Xvjjkq3MUD_2r22LhtUC0asiJbJbw', '_oLUHjyNLcCIohlTHYyryS7kzrypbAk3vSjU1nZC7SvIjo3H1uzRyozGI_mdT4HAcDM5ngK3XfeW9g', '1Ob1uK3rDPG5OzR_e-8gi1jJG_Z98Ft7udy4h_tGp1_I3d1MlXtbu9gfn1pwDptJwUltXnh_ta1Org'], '2022-04-27T11:22:00+00:00')\n",
      "5844164291 (['TnGLqNQPi1qDE5vs9QIQV9VFD7lRWczRYobszJJWeWEjlXFqqQHIt7WpBeEpX5FWm3WQ9cIbmPihLw', 'dsvKa0MjqNYkhNdQ7OWpkCKjKTJhxbKgmDwOFLeWBsnmO3Qz3l0vH86xOi_RB5C5_CPkh-_H7wglxQ', 'JQOMyJg4t9qoRszH2i-_XGa2l7hq951bdexCajESvZmocEc2cPJ1i2n9qlju3v5SxVhdRwaNx65vww', 'R-ayI6OIrGorfsSMq7w09O4VAkHJwgWdwU9z1TJlZCbGa5u7U5FMCFhA87DOkQtyE8r1v5gcN91jjQ', 'lqwozFjOyaBCiY3NVaFr62ARFRx7zy8X_se1uBLcFyckZlgPJajFhGDWga8XylgX3mxaKNXeleXoug', 'QiE67d6vTMJcDEL5Uelm50O3_uHbd8JCJBv0nh1SVwewu8JauHX_u2sjMlVn6x1yKunL1TDkFr30lA', 'AyIv8kR4U9v64VWvAjVZ3axy1SDCbOH-srI_riJ9pHB7QWKs-Fv0SudDc8PgE3WhOQ-ZS4zNY37nCA', 'DUi-xPkeFKUDiT0EqfJoPlhs1gXXavbsVIhJO15XqQLUrqvOKChSys7qE0ighnFzjJtFPD-hqbaPmQ', 'RdJPCJzq_1qz2YMJu5rwZZT3EE6Nl3UGJwqhMDtIbN4oFEmu_oDnFog--ZZ0KrbN-HxmZexaaMnp2g', 'OCNipYfKxBrBXMhQnuKtryBvTUdKJgyRYEiMlJ1QptyMb66fNVDFSdEemAo8z22128HhrqG8LcLPhw'], '2022-04-27T10:52:34+00:00')\n",
      "5844212297 (['iSAyIqrLKjn9ZIDlI6p5YdKzp8TPtl9csHcY-jF11W11L-nbf5aSCuLV16ugC3DqzDVGk_fPFDIbQQ', 'BENbW289QUzAm-LSIEa55mKC1fDQgFTQAo0kQwj6YCFx7Y3vidXLKZskUR3h3PsjCwhO0oQhIzrgdQ', '-rho7Gm5rfl8Ux6IuxY-pj27Rj58oDOZOMxkTlgIZY94Ng7bm6RKxqD2TE9gNX44qMXpkZTsZKjXTQ', 'BjPJt_P2rQbzcjnwWXSCrKzc-e5yyDpHBefJx0S_rMBGdSevA2TyLFcuHzzcY1UGPOuYupQ9j5sgcA', '1OmxvhfA976jjP4sIQF0aRWXe7nlvUhOmBh2FLC_4nIX9pyJGIyAXocon_DcpZrQOH9izaYO4Pl9bA', 'uCgLseUzJR3V8vTYPQWOva-2KCpJr3gqSedxDsAdMQ7i52fF6JW9dc8_ZV0JgzDiqeG4nAxK3rgDEg', 'aWs3OEod4yNv-xLp5wminI1Vif7LzIPxluRiV-sS9_gknJVyzavT2lteqHApO0TgbV0-Fr9DcCGt8Q', 'DUi-xPkeFKUDiT0EqfJoPlhs1gXXavbsVIhJO15XqQLUrqvOKChSys7qE0ighnFzjJtFPD-hqbaPmQ', 'QzVXZL9xsZbZj7Pws66PxAlkjvHBwpkkXvrkZyTUwp8onkMwCDDtBbX25Buzr-d96Mi2nmZ0Ybn6Bw', 'Bpo5Hk87sMUlP5Zj2z8AeszoweFNK0pVZQGommHo7VfzLe5eSK1Wj76wzgLe_mL4HgknBEbpNJROMw'], '2022-04-27T10:24:32+00:00')\n",
      "5835025906 (['o_1ooQVO2gBvfdMSOZL0xqcjGueDP-CqfzUN7AKEhuvmNpFHrWZfqv-H9Ws90ZNRlTcQFMMTH8-iSw', 'gtooQqTwWYaCb428P57ltvb2b2KyM3WOJbJUL1v1CVv3-LYD66k93XnKjQa2Cn0zEem5IZMS5NAvFA', 'YCPVXZ9-VQ_xmWoIEazGA_cF126CaEFY9FB3sdNUA0isCjcUCl-9-OppHMdJyOSymwwHE-PiscAq7Q', 'DUi-xPkeFKUDiT0EqfJoPlhs1gXXavbsVIhJO15XqQLUrqvOKChSys7qE0ighnFzjJtFPD-hqbaPmQ', 'HD9KArB1G6JHd34lbStSwavHguwzW2jIo-LOskaB1lB0NavZIty0CJY-KN5Wstp2d_eFrn7rd2m0uw', 'DwWCTs5VOsinkylYHtI9YOVqbcn8mkSlD8QwsWxM6jeaH-C8i69IjvBawyWxh1F6DhG8nAPiGqDvhw', '-m9C2JN6aKoaRivCd6EK0e8YBwme4qQIKf8PvffsoE2tkwMxqS6A2WIZaJje8Sfgxt1C9mhBu_FxdA', 'CvO50SYaSO1jRYnT29vahA9BNTPkB3VtuaQ7wkliUnCDzaUoev8V0RK0bbuBMEduTM_SvFD4NYjSzA', '5OzxS_0a6VSF4egON2LH7KQPWX3QLXKzv9U3mD2SafOJkoLiskjEM3J7hnlNMDd5xUwG0qdBHB9jhw', 'xwtdFTbgajdjWbym5uN5uu0i9zyE1LNEwqAU6NgJ2oGSxJY1RAK-n3ijZDSm093tX_hiSA2rPeJrhQ'], '2022-04-21T17:21:57+00:00')\n",
      "5834942790 (['WNfCUB_OAU98dNgKyvfEdzqqxTTKSRIGZQNMzHik0I9W-UjDeQdfudG9IRx7D2Y0pw8azhXvHw7yVA', 'yQS7HOdB1dlB1KArxSV8waQv6hUVzGjn16bHrzjU3iRCHQrQlQULO9gvExk9ttArOJrJY2MeTPymyA', '8lwBQ5y52vz-gRiUYX1XyzL3ZMqYFC02pHQkKYtdUk8Bt1MusVyWBqkTe49GtKsQlFVUBMsXsiJN0w', 'XiTdHo6VmQD9aEX-ssZEIRODoqR--qUiCNxmsc8QZtk9PfDlKboRke3IgnWB2Z75ayut915PRiQTfA', 'bl8CPAvFKNwzxasr3zORjT-p01mxCO2BtfBaW13KDwaoIn6qXcWxzvOZJLBUn9aN2yqEUP7uYhnxfQ', 'SuavcFcU5b7lSxh1fnU37KdYdindngHXcTMPyfsPV_FN_8vy4MIAL2O4S2ZKItxrBS0N8IZbOLHLSA', 'euxs1bpUVj_f6VglkzLELj8QqEwz2op-eJu7rbOg5SQGwMAmfa6JUFbALZ0U7ir1DWXwmojKpWd9Ig', 'DUi-xPkeFKUDiT0EqfJoPlhs1gXXavbsVIhJO15XqQLUrqvOKChSys7qE0ighnFzjJtFPD-hqbaPmQ', 'T7ihX1CY2Tb6MZcFuQJSi1mUbrFIcrefvohGFSH47iXaPidI0erPuBlb4OJBmi6fV9VSYaFGdw3vOg', 'GIut2EjZrfP_MQdZRxwD3k1JNSVzPHvm3FlkgIrXMHxH_HNiQ10Sor8890_DqVrnAo1-718zofKa9Q'], '2022-04-21T15:49:55+00:00')\n",
      "5834788632 (['U4W0loMtRIFpmcnn1Yq2xcg_OYEZH2dY0BqXhzJkTR5SmvQxvsVRSN5OUI6WrJ_oqUMBxNNGenKFBA', 'bpjl7fmV1mImuybzDLG5bB5GajkcqyqPiwVgrJwKoqfHZ5kO-4YRMZHyBFG6K9kT3L_j6_qbgWIymg', 'lVdUjHdAxwdTMYbRGhgMeVkI1xhhRhAwPGq5s1Ls7WzAtsXtGrqzLpjravtx8e9fmOXg6kZJbteS0A', '9IVilbr2yS0DzSL4A1lOARO3GtFOcYPV-oYOBEHADnR510ghprB5sFhIOY-J01of6WJmc5neMw1ljw', 'YVyhVp4tOTR5DJYtd9U025SoASy6ddPPqJzZ5SXvuxpzQBmq3rVUSjjPuHsk0JCt_LWfgRUNoD1KYA', 'QrlN6VQGMhBbgBqDAEkz7MxXNE802Yp9qXpLG8kn7uc8JetUjkYK5ma13EnrfLE1XqwhSHEvFJsQaw', 'Fn-Jd9cay-Wgqb-Reap7VjQPO1ZwC6Jv_uyyFoLAim9RoWJ8sguUppm7F9mLwPUp4JqWJ9z8W8qdbA', 'DUi-xPkeFKUDiT0EqfJoPlhs1gXXavbsVIhJO15XqQLUrqvOKChSys7qE0ighnFzjJtFPD-hqbaPmQ', 'aGjsA0K-yLfP7pEPvwCayHyyBXjy0xmsqrDtxPPF21qWb-NotEt_SElX_9fsXlcVIYhRFgSHpfToJQ', 'Lp7APkv274mR18z6rNaRa8Dq_69UphqoKcQCzW5z0-UT7Ic_goPEcmoXVad1_rdNX4w4xTlPST-6Bw'], '2022-04-21T15:07:58+00:00')\n",
      "5845848532 (['bAKrmJCEB_3y4WGJWuIFmXxC5KFnX_Szoye0opjptZ4H9hcmwVuXElSXq_sZm2LM81rAnB3vcS-umQ', 'H_5VF45ccukjkKEXaSnQ2qz4hQYMHHOX9dq6anJMvpQIIFrsM8AufUoJ5AC25oqhn9XVt0Iu1SefeQ', 'NQOgidMLicXp8lXnXsNXc18RHZCy0XIUJsVw5N9ThylqdSqO4J2d1jYnURXqMIA0vmayZysGSsPpRQ', 'QoUE-Pb25FALyo6nDhOQZB6jPC_N5wexBt6UoqzN_9-G2GsgnWtGd5iUwVpFnmbNtYZTmnvhp1X1lg', 'A04exEoSxYNx3n7432lX-bhMYwH0SR7eza6U0CWELv65WN7EdN2ySuIShXIJfoTpke0LGZtB_OgYHg', 'b3m8FtWaOV9RTL6EL16KnwyfN8Uvxgrzu0kt1RFZRA0OuFhfzI2WL3XZ2SVC26WG43DWp1sORKLPEg', '6AkJ063O4yZTroNeYzcCRXEsRiFkn1pY_upYDeSYvU2rN4FINc_juUpwl06HYFmGXbjKWjhWFoXwOg', 'ouFsNNZv0va9dSvFl3bMs3yJhpF2iuHntoDovkw1r3YNl2mWdNru3pf3vQTOL3BOE8k6XtpWhmssDw', 'DGg3iCn3a67PqGB8YMLK-cPkcj8bru094TUySnq51up2Fed9_e6UN-Tt3AEcfObU167eulOr_1J-Lg', 'nASMQBTC0wkQj_xv6FVb3ITxXPDGGRinzw0AHp9B3_Dp2gPLJQjQvKa_MAhw0_WSldrVPBrKDGKPOg'], '2022-04-28T17:51:37+00:00')\n",
      "5845748358 (['b3m8FtWaOV9RTL6EL16KnwyfN8Uvxgrzu0kt1RFZRA0OuFhfzI2WL3XZ2SVC26WG43DWp1sORKLPEg', 'WYIT3kj_t5zk5bCC4TYLcdIjZGMj3egYEalB4jbKUy2pMu_rW-5_rmq15LGVLi95D6lsiYijO62oyw', '7uBnPxXS36lVb9lww0cGVz6YWUN8u6WpQCx_aipmZ0wYU3xFQqn3mIkUd3f8_hM22HrXreA5XXCWJg', 'F_Ynk6fgztmCXeqAduYYzY-x5wtALfbMq2r08Vgz7jXvqmjxKHEajDYfXiST52pw9Wdd0DpjX7hrGA', 'o0CORE7W03qRpAIO6-CzXT4MGot9YuNrJef1QkkfnIwB3kCHS9KRdvALXkfrcrBOfUcAkQMM251r-Q', 'hmY_ktSCRxh99_Y0uxBfJyeaIIgGY0zeX9y3NSwL32Vtjla2hi_H4ioVbYhdoHxA18GHRo6Mz5ajfw', 'sqKolel3HG1koYYeTD6i7BgfkxCguAkE6kctUDkXL31-JFmDAxFZxkFhNMWzWp69qcdMTbqkENX5Jw', 'cNZbtM_AcB6rSZ3GOqPJrI0FM8dQMVX2OqDBm5AWv6w2sVyE7G3BM_PgYheE7pF3qDicNEQT0AZg6Q', 'm6v2Q2GT49DLIHqOLfOn27sQnP_fE1oHjXnOeiW7euWj-4McMnzc0n-k1pa4el8ppylrRe4tx2NVQw', '0lyjH4tWf6SlKxWPAoTo42QcPrevyYiwA1xi9ZDvd0IeG0TjxlNgcbbSB_pG_uLB_lRuK2mgixCPqg'], '2022-04-28T16:40:28+00:00')\n",
      "5845741114 (['b3m8FtWaOV9RTL6EL16KnwyfN8Uvxgrzu0kt1RFZRA0OuFhfzI2WL3XZ2SVC26WG43DWp1sORKLPEg', 'wLHN8KyHXvPQ2WtbyqMyPm4tJERKmNUKL1yNJgJ3QZ_cS3Xou38-8CF5vGBV5nO5FLDcWGXNXX-4pQ', 'CnOCKS8TWJLeG4756Gg8VkWx0m30kluap816jJoeqvNjc4NvQGa2QKXaOfSlfnKfqAIvH8KOBu-12A', 'nFRxEQXGbbmxtqKFHQ4Lv-h2-236H9_9BotErdTZDFtZkFTrZLI_7PdRQGpmpWa8w5NIymxdtfMebQ', 'ZV51ZPyPzD3kl1seUS1JmD-KWB_F8e08Osk6GsvBkmR_jupxgwu-3nxlpdOt9k4t6nOliLP2zwV_1g', 'netNiSofT5pFpJ62zZlqVshlZeDfcQDvxcn5wYIPWMjD3ZRg9iJeu1yAL50VQJhxtrW9s_E84VvvOg', 'MMeyblVp3ucf9k36qdMor2HN5XVJWk2aRrb4oVwLoc-0HYSVzs4NhrV0AuScNNF1T0FicL9Wx6lXGQ', 'CcTyN9GTwNDqvv1E-THoSOpmGEhBNNVLqqQUx2_Dh3NZqfK0BV_Km-Mw0--kFQi07W2hpnrXyTvvuw', 'GZJdOJ4n-1daxm_p-dusGwCUw14ecrNCIbHKHWwGe2xSg3KdaVWJMI6tdghHEE2bVXt22Mkxxf-lGg', 'eQYXb-bybyabTL3SoEWnaPApXwoTwmRsWSNOPjWNE9lTxxdsNQgoSHqdKbUIvcuGbk3tnFPrptNa2A'], '2022-04-28T15:47:31+00:00')\n",
      "5845685050 (['9MAM1J_vLKn8bTwAw2GWVIO7pvB6pDA9K_fJEKhHsOWzjau4wqchjPJPdW48t8WXoYd8o_OIwHemJQ', '-aNi44PMtLflv9C6oQcWrQE6m7SmNkMqfeRorMr596br6XV1UzZij3CIP6Wr79dlHOIyIKnDfn-qfA', 'H2oqHcCBMSEkAd4q9MQYCttSbZQiGP-W2pt82klucF76s3X4MBb38GoF0H5tyT6BSZE-YD1wbHyGnA', 'XCdHwYXMomB-icVMNKPFuC2E-jx_feIY7CbV50Z-Yr-bs8AUQyEO7-qXq9K1kuxNUHJZpdwqBxZbfw', 'CrT1meoFdntjW9KPk0rMPjohlKVWguyRNmgjnWeSra8poTqp91HFYOfTKuNULfB8VjzAgYX6wBNFzQ', 'b3m8FtWaOV9RTL6EL16KnwyfN8Uvxgrzu0kt1RFZRA0OuFhfzI2WL3XZ2SVC26WG43DWp1sORKLPEg', '2aQRjpo2hqQhhTjz1EUnKNziO9Fv0MGl9UDVwcPb_7cIqN70xdJiGF7sxDll4vLE3sEX5JSqk-s0iw', '2izWpdKdG-LBhySmS2GpVNmiWCJdpj5fnrGB6y0PIpkw7oqJuy-IbODr97-ZmZ7jppja5gttZyyYww', 'QoUE-Pb25FALyo6nDhOQZB6jPC_N5wexBt6UoqzN_9-G2GsgnWtGd5iUwVpFnmbNtYZTmnvhp1X1lg', 'J3eC7X0Ug4H2gjpHNdDWWpGEktIZKdbYKTSZvEeYkgbH4SeSIwsLxUlXQ4NOgagBskrMPqLUhDddPA'], '2022-04-28T15:04:12+00:00')\n",
      "5845600140 (['gQPRL1b4PghHSdMxVC_gyN88rZMLZmWGAKhcFErE_X6Vmj1yAnMiXGdORkTDo4mq22TaDnmeSr3Kkw', '6sYzmhdalYHhzOA9xjJolpeETDaIsIlZrkVnp7-iyWg9leifAA70NcOGrrlRGZCbd0JnvTkizodvpQ', 'B8wAeFhbk6s-bHj5ZNsYkYmFCAxO09ef7tvH-Tlep4nr4UUW5834JHak945y9W7JZEK2tTQlAbfU-Q', 'b3m8FtWaOV9RTL6EL16KnwyfN8Uvxgrzu0kt1RFZRA0OuFhfzI2WL3XZ2SVC26WG43DWp1sORKLPEg', 'EkQTboKv0ZfR4iNlnTFoXCby8iBVr6YrrplmfFZMMiVJ6VkquQv1Scj2Q162Uif-JnRzTH4QwxeLCw', 'iSoxorLXLduwDVCZxqeWJ-UbYjpXtPpEykHK_8T3CWZIMdoglTv7plXL_RFk8JyW3cImN6Kuc2-gFw', 'bc5CPRn6dGGLVR2RwKy30ax4jI2B_RDTb6tGnoiWkYg579AJdB4z27ZB0KOARiRSXZF1QyaZ1TIoEg', 'SgBKuqdJh0tvgRivYhjcSQu-sEYnUQp-GLgzvsWI661vU9BSQvxLW7A70wB5BESEZRJDrmENmaSbnQ', 'yhI2DgWJghmb1sJhIQHUHtU7lsibCYVep0Ior1kuE7X58O32ong4Nc6oR8F4n7JpIKm1nmi0wD-qSg', 'fsrAwHuLrF2p_4J_T4iRNmvX_OsxB_SN0O00Q5pKFVP1EtBo72_IEfpOHmMolZkAKLblJNPVG9xBtQ'], '2022-04-28T14:20:15+00:00')\n",
      "5845192095 (['b3m8FtWaOV9RTL6EL16KnwyfN8Uvxgrzu0kt1RFZRA0OuFhfzI2WL3XZ2SVC26WG43DWp1sORKLPEg', '7KLjNbuBmmTOcdLzupVEh5akADgMNPReEsvpyhms_peEolNDw98aM6-6xfVfja_hvWpMvvS42NLjzg', 'ITc8c-5m-vmjQqLvyEsg_jqktp614cW-hTyfPXj9QfpTASFSmjov41sU8QMfN-H5KS7zYoCxf-tatw', 'hBXg8Fm3YItzbMPaayAllFE-9tYKg3jnMdW41vHGq7uNXe_egXBFi_tQ8PzYMLJhjB6smQZtm6YGdQ', 'WyK7AI3Fz_P2ILQ-L1haQK1odL6FKvpbpTu1q061JJ00BbyevKL0b7WXwZHiAqDqPBRS4jg-9XK8HQ', 'o_1ooQVO2gBvfdMSOZL0xqcjGueDP-CqfzUN7AKEhuvmNpFHrWZfqv-H9Ws90ZNRlTcQFMMTH8-iSw', 'abkHOmcD4FtahTziuSrKz1YrKQ66hvZhYInw8gYDt-5i25hWd7UZ1nPzPSZPGI1Pcu0-TKopzSRNIQ', 'SJZiA8DDscPbLRb9PpTmUnurxJ6OQXT5chHa-YkMfv3UeIuhnwb5A5DmcMxxBAh6T6kr3LxdG6B4fA', 'EcGZpcvEVQ_jWxU7KOpUvHAxPjtxKCUy5-HLB8olhZLxi7Mcoh5qXpkDhs98ZSFgVhpuslZ_f4znbw', 'GlIeCGu-_xHXPHYEvpxDKuKBvKgXlkEJJllDU3utnOuAcVPD1DJYbmYsQwN4BklCOiefX9Gznop8TQ'], '2022-04-27T23:44:44+00:00')\n",
      "5845069058 (['8MzUucS2rJSrIk2KTyaSxx48GZqvKFWSSTTv-0MPeVEF7S2vCthcqG-G6b8kPzZRIgxZvyFlgnrRGg', '-GT-SfMO1dTt5YxOYCTGr8c4LQKkCGo2OkAmUwkyGTqFQ6nhTjX5EWWiLJw8u7r2kEAZYa8DM7muog', 'qpBtPFmzMtn3BRCEyReVfrMEs-4wUSG-CFSB8rVrpwhyqsrj7Yku089m9UNtjtBinhjwLQvmUjh81w', '7Lo02a5qm-heX_eOpt0HDCPXb4OjU8zEPFtU2c68IgS5QXsfEnMKJnxI8TCZJi4AP7c21N9YVebesA', 'g7AG8M7wsyf7mHkw02ijH4ZEXBP4VAYG2sYmvIFirwRLHyKzmjnCTe3eWNbWhxMN_fhpS_DYognXVA', 'b3m8FtWaOV9RTL6EL16KnwyfN8Uvxgrzu0kt1RFZRA0OuFhfzI2WL3XZ2SVC26WG43DWp1sORKLPEg', 'F_pEp_lf8-KuHZQbfGuDgNQNcgwIcg-Q70AgaQY0CbS7F0zLQhDWrQZDp6Z-0xqTEGh5KpbuAHHOrA', 'p7WFPQtr9DqpRyR01e-iVmlsePWPd_sGc9bTEqqPhtCROFqFEBwFgeQMtn1Cq8eA_kIIocRncJF8oA', 'Pvdjy_P2WP5IP_LaPPUgEOV8ML-7USePJjYaREV7H9PIAM-NvT5jhr8oSegCHECSNpQQruanYqmajw', 'vESWJBGmj_CxrhmPbQOOZ8PtXve0EHW7quMJv_Kl3m5sMsA6OPQOY172jvZuA9SXxF4LVSiXXMrVdA'], '2022-04-27T23:04:24+00:00')\n",
      "5845104768 (['k46dBsDpR2l_OPhpi_RBm-u-h4XcG3jZX0cJtv99-kXJuHi8Q6fteC93czluJLe9sOZWOOfoASBmZA', 'zgyXi_OAj7cXfg_PM1cg6BhsA8eyTjRz3mKf5dT8VmLVUMbhH7dMlaZSbGfzGpCzKe_hujc6lFxqBg', 'IFRe29jId5n9xXEA9UHoPPjXLgBNP9TilafqT36B6t6fsa11NChTcDgb5VDyFbxoU8NG1RVp-ICk3A', 'hQWaHSfa5SOvXfu5TFcMgqqs-LnkV265y5GVw4Wy06yAFYY58PI0S1eILlzSf-RF5FZiz_oERBSSdw', 'S2OYLkRIVJdAvB5-UKYo47IOJ6BfsfI-KenNNObQwcVHFmBWsQnW5pZ8Z0IbjpkOKheqAQCuqaG5Vw', 'b3m8FtWaOV9RTL6EL16KnwyfN8Uvxgrzu0kt1RFZRA0OuFhfzI2WL3XZ2SVC26WG43DWp1sORKLPEg', '-GT-SfMO1dTt5YxOYCTGr8c4LQKkCGo2OkAmUwkyGTqFQ6nhTjX5EWWiLJw8u7r2kEAZYa8DM7muog', 'hFKcaNxhYvzOrIgifoTtKlfjIdbDX7Vg01fMuuJJjsWFh_Ngnq72CKOVIG4a0TbigK2p5fPjbvaYjA', '7Lo02a5qm-heX_eOpt0HDCPXb4OjU8zEPFtU2c68IgS5QXsfEnMKJnxI8TCZJi4AP7c21N9YVebesA', 'aR303v1f2H5KAq5rws7Oqha0sI45LQMWzBv8G6g_IavQ_ENe_n5pO2lmxK-rZ8lpybn_K4foCC29RQ'], '2022-04-27T22:24:00+00:00')\n",
      "5845010365 (['b3m8FtWaOV9RTL6EL16KnwyfN8Uvxgrzu0kt1RFZRA0OuFhfzI2WL3XZ2SVC26WG43DWp1sORKLPEg', 'bIik3Nb8n5vnNE0WsPrD5oD01XMbq2NdhtTmIMiOW0ntbaflrioY4-DrIoWsDqNZuiezUvcPNwvr4g', 'RVqe3DWo5CkElvCHBtG_Bgujx1YN3WnEFKpLcV6KbPadxzlNxF6ue_n-gCfHylggizt9G5c3vdgjYw', 'aHSarIcfWJltRCOl9KmHHkEfNmS_H1SjDxIMl4L1FHpUu5oDSaVSu1CNjaLsBOAadUSh907pITmjcQ', 'w_-FIJpM8VTQLnwh_jaaYbUw8MkfQB2A_8WJj0slbBC_2MPkY8gyY30JXfjyb9ORT5-Mvq6BTyW5VA', 'k46dBsDpR2l_OPhpi_RBm-u-h4XcG3jZX0cJtv99-kXJuHi8Q6fteC93czluJLe9sOZWOOfoASBmZA', '2dXjz7nIAZTNWltZriPY4ovqrXlr3q9IU-SG22yXeWkw94MDaB1_H7YBgYgFieq3LC8P7nOshvEZEQ', 'ilNXYBryKTi_aSyshcTU0virWjdFcmdky0D5iG21vTSMeFHaCPceUeCo5CYCFV47n-8f4LVwJs64pg', 'YsWSzqcFpBarwbgIMzngX4qLNbrWbNJGJrPPWb3AsgwM2yr2k0GQvrSlnCy4orSekRaXR7NxglLyaQ', '9WrmN2G0b3dJVGISZ87Xcrs1qNyM8d-9cL6_xvw2EJ1mc6_Am0WzPnApkmR7j0Q_tZv1lAthIpFs9Q'], '2022-04-27T21:48:08+00:00')\n",
      "5844982810 (['y2XQ5gTiwZz-OQeFJDXWibWj1GyhURVlbZ4unOdzLyx1u25yP60PJb_mLjP6CvkR6fYESZI8nuHkUA', 'BgiO_CpeRVLbzBdWxvyKTEI2qY0i51aIpq4wEdWAgkCLZfBCEXT_0V1gFNu-UfqLIhl73kAhdTPOsw', 'nRh8VLFyO1o7nLPIwDYnjqQvIsvZV_lZGrpm3IVRHt6YksBJ93_AqLb9qbF_iYQVPrvfbI6G584I4g', 'bKjPREDpgigbb5DPYcwZaGYhvF0GRbVwClwIA2huzwUVeI-yA1Xnao0cRy6CpEz4XzyBaXReDCvBgA', 'b8x-JLANcbirVN64v4zFKFBsxPefMzOSnF7Ufiei4vPdgULuG5njLnRwZeYpUojEIDN_I199ybzu6A', 'b3m8FtWaOV9RTL6EL16KnwyfN8Uvxgrzu0kt1RFZRA0OuFhfzI2WL3XZ2SVC26WG43DWp1sORKLPEg', '7Jf9n0W5l5Q6zJWwpzW9klRWPsgFJ9XzJhg8zqUxz4Ho5-LLf1bczBad8T2dK6KzNS88IFe57xrwzg', 'Dz8vOLJtWc4MrF6jMXJPMquWAixWQP_fZfoF6YTKd1G8NyLLbvcpshu97sAaYrfUF2nb6L-r0eSW_Q', 'jjp9_FeZXhT7ohGsJfVD5OXRinG7t8gPlbM37mSYSFbyv25FjEKBDfYzXXlYuL_-xNNHPal2BjO6eg', 'lz3Iw7k2dW6XvAaCQZYhAdMRs8KGmNb6CN9IljVRwSRA9ZkxBrH7A2CpkJOjMSkZVlO4HyaT4XTmpQ'], '2022-04-27T20:56:52+00:00')\n",
      "5844889144 (['b3m8FtWaOV9RTL6EL16KnwyfN8Uvxgrzu0kt1RFZRA0OuFhfzI2WL3XZ2SVC26WG43DWp1sORKLPEg', '2hEeiJLIGH5amBnOeFv4zqFiv_NGZ558XMgFzU_Dn4w50DQ4vRFjHaO2492fAKgOuhf4Sdjw4yYixg', '56NqAuSIfIV9s7AFw6nPY5k3nyC2K_4azFRpHylsdO0WFvj_khOihKWBo_n5sOp4dcwpC8vWxY5tTw', 'BWakhgL3IXgPQIfvK9r72mPGTQDRg12_IlixGKGbGEiSsdO-egy4xP9xIn3xFNbmsNKQGKOTwqF-2w', 'bSLbEvmXEHjxFm7yEEtq9K4yvqfJ_-oWuocKQD0PVsxot78-fymLAS6KCLlptfh35TxY0uLf7m20QQ', 'lc6KuqwRkSmC57ZOhzBLdFUMwgXrEBQCQMjBT3dzMYDqLyyWiUzK27GDBl1FB8w_KJaO8YOq1hA4ww', 'xe7LLAc4J5ySGDOVguFYi_4PZQTwRgnAT1dJoUBHnXfAeI_bEwN64IekLdgo-_oBioPChNQA6Epe5A', '-t9eCUUVCnj6BdmrdsiprbSSWN46Ya85SpTVGGOf043iLGJunRbvLCMt8bCoVM_-lt3JO2YQk7XlfQ', 'BtVMSoH_IdT1QCFLaFIy9FzDpNE9ez4LlAoeaZY68lweyxwdpqKXkwcjKyuB321h2mA1jzvRv-9coA', '71XhTDA73X2ERAE9lvTkSyqhz-DaJYmWXbQkCV0HjbMHufovt-g6oBjCco1A_6siwiCn9lyYc9dcfQ'], '2022-04-27T20:34:32+00:00')\n",
      "5844882395 (['b3m8FtWaOV9RTL6EL16KnwyfN8Uvxgrzu0kt1RFZRA0OuFhfzI2WL3XZ2SVC26WG43DWp1sORKLPEg', 'GzLB2vuTTKdN6u5KHghQO87Ckz1WT_HuJQNgvyrt2Q9K2d3V0Tltwnuy7_nFL2gvnzRJWsprnKD68g', '1ErXb3gdnNOSFcTvQ6_IzbVgfiQkhwVGoDK_uo_4jpGENbsR0Sivuvu7XOLbt3EXtTmCLJaUlQKX1g', 'PFBA2JFqBjkA_AsGdlx6slrhWEIn1cD__RPmiMqYveSVWfkRgZ9xc6G0MGRU_PoY1u1ThM3QGuruIQ', 'Lp7APkv274mR18z6rNaRa8Dq_69UphqoKcQCzW5z0-UT7Ic_goPEcmoXVad1_rdNX4w4xTlPST-6Bw', 'A2joeWmlNQyom4DWqt4Hu_rw7kbJL26mRmfcmLLDOsyMj1v-TKyW5mo03Z9-2N2SC4HBrLxllIFgyw', 'ELCDwNCSByMBNvLHpuEmsrFFLkPcj8ocM7ivGnvxpj9MPTUUYaecup_teGFJBE6-vsCTVRuF0qQjmg', 'yisMHcgkeR_YnArLhAAZaPau2fTIo1aB-RHHE9H2FIQOkWuWcL-C8zWKPpGo1CjpF1i0oGF9dJg38A', 'MguCexp8c0HaoPy40-Ifk3HnrdiI_GB57HPzBIn-tfrxPoitEzADXgTHN4o7eLOJwh3UEYUFDwoRSA', 'laapIhzDuc8o5uMd6RUcR202aFXBJJHcnnFxrGz9mF03RYvQ9d8ViQg5E-5yNINvpUSGneZ8PLoX8A'], '2022-04-27T19:54:18+00:00')\n",
      "5844786579 (['b3m8FtWaOV9RTL6EL16KnwyfN8Uvxgrzu0kt1RFZRA0OuFhfzI2WL3XZ2SVC26WG43DWp1sORKLPEg', '6OquEshhh0isYCchh1dDfDOTzAFxiu_Czr62G7_Gxq671Rh6gdm-hsPM64mqPiCBpluepPTIDXrluw', 'pb1m30hlNBc_OSrLcFNyxovx9Q7aZLyFNCC0X7WVmkuUewdU8hzfGMUnvA4DRwlHxJa2Rodg6niIog', 'M8Bg-MiO_R8pUOShHYnNasu-vIhfETwZobz5WVItLevNGw9My0weXuDzp5my4Haj2Geuk4rtBQSN0Q', 'a8PxQttitA6z0EYDwdhW3H53GAM8uuBW9eSu7WF3zZA7q1Rdfpese0cgskP5LJfmtPRHzq3G1oih2g', 'A2joeWmlNQyom4DWqt4Hu_rw7kbJL26mRmfcmLLDOsyMj1v-TKyW5mo03Z9-2N2SC4HBrLxllIFgyw', 'Ir0ADdwN65noo9ZJReEyaT-mgrmfHDv8EZKm7Yg30uWuN4tp4UCABePGxg4G37vt2Sc_Lnal1ZTQDQ', 'FWVoYTMHTql2U0S9vS7U7dXLw2_QRiFpTRhxQVjpqrMJFMvn3eZuevR6aZ2wdDExnkcN8IeBIdYXzg', 'un9U1H6KcxkrzSalJBBPuyWz9LgmaXt5IUu5OW4WptsfK-QNvBtB0b6ZY0YGVgcRSXGx4Kml1ctZTQ', 'i_JbeUZpMCj4drRGB0SMUwPQYwUqQfr0wADizuTqg-a6NPcw8l3-sKrVwo5mzjhK8MqkqG1d5Y3jNg'], '2022-04-27T19:21:09+00:00')\n",
      "5844742316 (['b3m8FtWaOV9RTL6EL16KnwyfN8Uvxgrzu0kt1RFZRA0OuFhfzI2WL3XZ2SVC26WG43DWp1sORKLPEg', '-j8-SaPBYzCO8YoAwVQ6w4qThvwWyNz9478vMY5ZmNN3zGkfFuTRzxIOaFJEOXI_e0sTPRPt9XJTeg', '7DggijQxYX_ryUuWQFAquGwThvvR65pDjW72Soc29_wf_1yyo7V_gENrOS2bJuQt6y91hUbBCfmU-w', 'aGE6YA5pbPyX1xeo7tHgmPesoHSRuzxFUrQkoDjbMp_Jl_RMhCN3XYNpTXfY6ye9M4aN9gk56-V0bw', 'avSvwpdpr8vb49lLeDQ4VHhfLgpessCoOV_kL3_jMM-Z-FojDP2o7df65lOpyHAPwdoqnJrYOb3ZKA', 'CNC6fIjYZiRX1SKPUuXPonl3HPQLrgY5QzRTR9UUfrbvDAegIRjCfcs_idon1NP5iIbih4DOsaJSrA', '0dSKDbRwXs7EnrDznRiX2q4jeUxY7Kx1Y1PalLKM6J9c00p_2a-UfESSsj8CnIZu3gczuIitus192Q', '13aiPAuZz5MgXwhHrNSAYBVgjms6uG_i09vmQgQ2BAgbZIRSnPmfysfLMPtfdapMLp3QPzxARKoVxw', 'osMPs4wfkJzqGrgZZplhytXlWDyHK214NBcM_ofv5RhgfZsZE4Ls3haKlf44wN0AjamLZC8bq7pC1g', '_eXsXqbiki73ME8SHt89QyusNOwvWvixeHsNz5zW84HLN-n2TuAWvfOKJlvRZamnKYDdJ_hlWSIMGQ'], '2022-04-27T18:53:51+00:00')\n",
      "5843555697 (['Vdbt9F-ZezNLT5vwmY-lgKE12qpdjRP6i89ebk94-uQRm8mjarLeGYrtrr0dycHy9V74IR3BVrXCMA', '27rMSahkOAztGx9kIsAR2RI-w-mgzCvOycJChWT5tNvx5T_j7eHCXvb91WRCdPuvy0Gi1OCCD7o3UQ', 'qyPsXJQFgjP3BQZpZ9HakssqsFZgo6c9ri-nNCKIMuchzQsrMGmvG20Wj8nVbeoKL48XW1Y7Y1Xu3Q', '9jd0ZGkUNSB-K1p-IEm37ky7OEXNjyqk2Flxgw9aMly-xBUQH7Qf9DqO0lzSj7-7xXPGRjFLzYJ-3w', 'asURcABb0U2JbX53VuuEzl1KNP7L2oOmnPwpkmXXpAxToY9s0BSo3MRqtYoKqJ5atthXmdv6MubDoA', 'b3m8FtWaOV9RTL6EL16KnwyfN8Uvxgrzu0kt1RFZRA0OuFhfzI2WL3XZ2SVC26WG43DWp1sORKLPEg', 'uo_2G4VwLubfk2h8TeBHrgG649KzbYtvtiqYh-briDULCzcoXSs6S1q9eVpiZRfSSp9HwwGEBj6rFQ', 'Xjazy4VHuJb4BU_gic7BhT1LayXU_Rk85EsITjUQWG3iyXudVDXIUjuxF6p3b6O5lEZmI_AiwP7W6Q', '7Lo02a5qm-heX_eOpt0HDCPXb4OjU8zEPFtU2c68IgS5QXsfEnMKJnxI8TCZJi4AP7c21N9YVebesA', 'OCNipYfKxBrBXMhQnuKtryBvTUdKJgyRYEiMlJ1QptyMb66fNVDFSdEemAo8z22128HhrqG8LcLPhw'], '2022-04-27T01:08:28+00:00')\n",
      "5843475690 (['b3m8FtWaOV9RTL6EL16KnwyfN8Uvxgrzu0kt1RFZRA0OuFhfzI2WL3XZ2SVC26WG43DWp1sORKLPEg', 'GkH4TaKqmpkdIJ6pN1PqCGIIdATiWeS1lw8TIzyEvaOcOIeGHsO982N3EYVCpU5jEhqCpndZIAhRnQ', 'vlfmJWkdqHS9ZQ49Wq2FabMYyOAVJA1gsSGo94duRqyy2rq-CVnpcAnFDupms2HKFgLGn07EpO3NJA', '4XxnltXTKFnVOKPdGhiUz02lIftH3nHx1-wKVuO3NY4zosddpwsuj4PxODFy7tMaPBSG0xxo63gGdA', 'OT-gddoier4rWqus7AsIRJ6v0Z9iSrkTvk8istPtZXcvz4-xwp4CGK8UFRSrMJ2V3emb-kIA84YHjQ', 'rb9u5j-_Cq-15T4xakP3PHGQwmMRsSBaRJIOl6vdx66K2LeH85HuIZVsp4Po2a1C4v6ur_niFAhTkg', 'ET6ZWgW0QFDkWiERq65OdhZNpJEauNxiWG9RMUyh3JNgPyCI9NwnMxTR1OvfnDWsfHJwW--SRX1Ccw', 'vb5K_OM0n3AztEW2SKQXWG7hQj1dk-VX5JBY99xFC_WXq9arKrjdU4L5NmL0o0KRaHgN56azScpKqQ', 'sR0rv4fBdZteNOSsxjovE385ZYZ80ojegjgVLd6ITlyMSIGd9ETstsixMzIyVP9PE_GMb1FhVwwk0Q', 'QbEC3VkOFEfi1rDrdyEzkHtIsihbvr3D_K0c038DwLebFUBbnKBvmjzKQLxRGivVuwaZ_IDkLgJNPg'], '2022-04-27T00:29:28+00:00')\n",
      "5843503016 (['RGnXSCKnEkHUgIUbq5YpZcNqx-IcYJU8H1-o3gpl1qzGu6Z53KKnqhtSVpRjrYa3aeA6IfHG3qQ3EA', '6-2vyozaSttk-IET0qiK3AVhGgCCAZilpdcN7Yc_EZQMiERiy4QX2doqdsGMCt5577v7Y3U-LYVqVw', 'tdRESsh_KsPImMiU_la6_-z_doLx8J16LK39jYaRiP6atSMYZDor4QaOJOkyXtU0HtzUGIg2onyq9Q', 'E81C6v0q4OEqW_UWxuQTddCaVDCL63XA0e9_JMJXQZZJkcLlpn4xoJBSOcRFFA0eTQ2Cd_uZaVNuFw', '3d6bEDVTiU1yStPkwgxSuVo581dr2XYVwgbe0H-vx2rJbaZ7uGWQ4eEbFgRoNzr-y9ydm37GDxuPJQ', 'b3m8FtWaOV9RTL6EL16KnwyfN8Uvxgrzu0kt1RFZRA0OuFhfzI2WL3XZ2SVC26WG43DWp1sORKLPEg', 'CQq_JS3IV78k-f0zgjeoUStR-NubLMZuf4cmNSiwrjiFGN9drFplSUdBzamfRz8S_csN9IEJXfALPw', 'sTQUZ86y8VxgNi0K0jjkVFTd-M_TwOMmruEfzgI-Je3RmBFsIjPxdOHTtt54sn3LSa1XsIvkv4Bzvw', 'IOU1Hej1ToVuUGFfNZ-uYoLNUqK-wlPUECx_wc7ex31kehOuutXLPZuSlDehJ7dcH3MV2HIU9esNxA', 'Y0b3zvuxt4brAIbpIeC5E21Vj-DUUZaxXXG6mkLTt92WWasjBPadE-Q_HLXHM8hle2bgDjMaN4kUhg'], '2022-04-26T23:55:32+00:00')\n",
      "5843434866 (['b3m8FtWaOV9RTL6EL16KnwyfN8Uvxgrzu0kt1RFZRA0OuFhfzI2WL3XZ2SVC26WG43DWp1sORKLPEg', 'GxUex3CiY2sQTkf9YISLGNkaFmB6fKMLmMZ-7XPjF76GdaN6tkvKtan1w7CHOc_kT8uLBXBXEwHtSQ', 'J5I1pM8SVCAF_ptD0j573Td8kVChqc1YCgTbfJlARs-lPAyqIFTaj2NzVwjNsQf9_Jkp0bRGzgaVTw', 'OlO5ZBnQVvcrDw9_Xv_n6RCMULD2pxWxci8eCVB2LCB46b0CJGcvPhPa-LmM7zevrY3vKrIB9WIeCw', '-SHv5piv_yl51VTHHnWiODeC6t4ZQhHfeTTZDJqiNpMk9gBA5nhk5uQX06JohgBI_RKvUT4neD8FGQ', '99vIE3xQMPbhytqzgl1yGk86QdG19FGCDvm91NPDFpipyxCh7DIzEzEvTuvj4DYH40sxkvX-JsFxgA', 'jvC0Lcyf3xzvmpTZCmMDEgqIxgtDb6zc3UWIUHysesyW6I49TAfGqtSAs_nryHqIiGPGLLeo5NguhQ', 'RVqe3DWo5CkElvCHBtG_Bgujx1YN3WnEFKpLcV6KbPadxzlNxF6ue_n-gCfHylggizt9G5c3vdgjYw', '2K8ZetUxHy-n77w_NeD2Gdn6eepzbWZPPLS65_WoEBjNM5nFBm4OvfEFUoNPentf8L4R1kIma6X46Q', '9WrmN2G0b3dJVGISZ87Xcrs1qNyM8d-9cL6_xvw2EJ1mc6_Am0WzPnApkmR7j0Q_tZv1lAthIpFs9Q'], '2022-04-26T22:27:06+00:00')\n",
      "5843329510 (['o_1ooQVO2gBvfdMSOZL0xqcjGueDP-CqfzUN7AKEhuvmNpFHrWZfqv-H9Ws90ZNRlTcQFMMTH8-iSw', 'D-jmnFUXgbUmlMCxAKEdI6zom2oTUETKL2RKdKZbL3qkjDCfDeVEW8Il-CoYk1zyWuqdIfHJPo5yLA', 'Bbzxz1NdFdqzvK2O0JKBppeUHXZBvxJEPKmlvjUKO74VN88SxWn77iS-UHfSvkwZwFNEqNMpFXXttQ', 'uTB2VnpJAuM0i4Ei4gioXEGsjGbXcruTghPNtJC8YM39E7nnyqtyJwLjFmWzkEOu52KEomOTkISpeA', 'FTPRn5wX3WA4NGF7v2U99ENl-2IKSHhHlV5msriTJHtjBlXqWIshw56L6lkwpBGvgBRjRIrqW-4T-Q', 'b3m8FtWaOV9RTL6EL16KnwyfN8Uvxgrzu0kt1RFZRA0OuFhfzI2WL3XZ2SVC26WG43DWp1sORKLPEg', 'dVjoeNwN7GPOMyH4oFQIimwsJh-BJqwiO_UhQnZughCHR1_p-nAT9HSQoU2GEcw4vHhBSUTpY_wl5g', 'hTLu2s6UPf1kytNr5H7Nc2eoXbtFr25afXSzD0tBe0rJSlWmg6yTpCISf5t_eeJn4eKR-biov-WDCw', 'FT8W3jOCSxSL32PwXaruNzSoo5KC75xj2w4xkVWNDrUcU54owu09lxvgeUBya-13FxBUcrkOtUpkDA', 'fdFw82IYdjw6vHYtmUJtMkoi8N6OQ7wDRgqPTl66AC9MJMKogEmCVjbDM1mwHfCvZiea1badv4f7HA'], '2022-04-26T21:43:40+00:00')\n",
      "5845111509 (['cIRmLPm7JzuqH4hKjdqXkYEoJbkFlyymheMUBwZYlAR4Ab_FmDpAndZJe7ldt9lbRlvmTxwBNfFDXg', 'IiC6jy4fxvf3qiA6vPIFjJ57KLgIzydeX1hXy8bseYDwqq5Vr5ZpTQUwqc_zD96ju-fAgaJFIEkmsg', 'woC1hR_rFZVftLeahKUpDRIE_j6bsU8yYd6VUd4HEIvAIcln53Isd4GhWkHsZzxuZ5A4PwAApwIaig', '2K8ZetUxHy-n77w_NeD2Gdn6eepzbWZPPLS65_WoEBjNM5nFBm4OvfEFUoNPentf8L4R1kIma6X46Q', 'in7cpTNHc0zF7HMbpZxlRLV7zto83UViGEg1zm1gyYYp8UrIPeu8NGyF3LFtZ9cWUV9RbL95k5y9Qw', 'K3h9ovwXxtPbJ92kBWBY6VnjZM7quH-MGyc9NRc3d-nDNDxYYoH7-BlWEpCp8USVufF_G9d0hKPd6w', '5gKoIeEjseTitJhyjmsfMZY0r0DrKlLgOhyM9rLaZXyUrylMnpOyjlC1uOHOfCkzDkRy1o2D7dBKnQ', 'aMA1aXv0w48pHbJkbjna3tnHUDKJDVpMqPciI6p6lcB3Na5Crc968VKIfg544qcUacszGhMX3x8F3g', 'wEl6ZY6tynbwlgcTU204CTPCLAOE_qwE_MXYyW9qC0oSRDQ_DLoY0u8pi09yt1SpEM7Ab5PeH_L8kA', 'Wzeui9dpsw3EEqqo1tYsIuGrHT5DyKujjkZCc8Xq-zxvJIoYtf5531z45K4C-NMHJyirgJqneuCUoA'], '2022-04-27T21:56:33+00:00')\n",
      "5844929250 (['mFaLQKyBvg0OzrJPpeH4iQuNzrbJq0FUZag4-kgrs5ug5Z9owja9pNC6VrU5idJkUXJVlvvtQrdl3w', 'inbFg80CToxyskP7oswfPJuvYt1HL8LkIV0kIcieM7ezF8vbLtjjeqYSe7rDDrDI7eD-RYktyHaATQ', 'CZH5mJ1_jsXDSFNAGA9VQ-0U4GoYUGVFtZrSB-CVkzJXmRijkKBekfXWmU3MrbUs-7acNK0eYaum5w', 'UHvw9Gtk4IcbD0IzPdQqOQxnpw3DD2YEfjpa7ZfxTBP6ScJ_tYxM7z9KRh7MKs6SUVfcwOJBuq1LwQ', '70TRAB7LU6mKFqZPx89dI6wjQ40hQDYfMT2D9iGSPjjbMNW6Lc8S5wr-oB1b604VTCTfTY1qU1lM6Q', 'CNC6fIjYZiRX1SKPUuXPonl3HPQLrgY5QzRTR9UUfrbvDAegIRjCfcs_idon1NP5iIbih4DOsaJSrA', 'IiC6jy4fxvf3qiA6vPIFjJ57KLgIzydeX1hXy8bseYDwqq5Vr5ZpTQUwqc_zD96ju-fAgaJFIEkmsg', 's1q-WYLighTWPyQeY8nEM5Sla-quRuaG1LBgZUMOxBKb8305_uVLfzIBg3KO4imkAZOGZzJhI_HWVQ', 'iMb5ZEQPVFg6dMXVu0QT5AKS25kaHlgdfwqhZm1c9Aoqf36UldQOt_uU02cTvAjNJP5IaDr8XJiP1w', 'JoW7YTUHGszJclgnMgrTpNDq4o4xG9GsjPSCyxJaY5D7dZquNd7t1B905VJAytjNRiEg_2gH58oXqw'], '2022-04-27T20:36:21+00:00')\n",
      "5844851971 (['0-g_fi0yAVMk9UNQP5qjGtqSJ6qbOTF6Gaokg-vFSAukkeh8f_twtevE-c8dpsjMYW1iBmTozwBc7w', 'iETbDqpy5zZvVebTyOyh0qXfl9817k5fz9akb9R_mWNCsklTwS4jqfLHeLamFUjCq7-OfVEWZ2AhZg', '_hZcICAl7wzJFAvoDrVYB4NWmgMdb5SLN7WDo2rC6EirFbmlkvETrfBu_jSftlU7ebb0xncVOwKtfw', 'iMb5ZEQPVFg6dMXVu0QT5AKS25kaHlgdfwqhZm1c9Aoqf36UldQOt_uU02cTvAjNJP5IaDr8XJiP1w', 'aTawSWrgmS-k5U35gGuodxLsZqyzVbgmPprQ3blOUQacndpwGFZj8RM-aiCqAK6SF-WL6iFuHUTEag', 'cotLGHs3q7JvX3dKnrsoRRdC9QsTts5wqF48Zu3G5kLPKlIpsvFJ0t2t4oHVAB0thE3jwCFtZx8V2w', 'IiC6jy4fxvf3qiA6vPIFjJ57KLgIzydeX1hXy8bseYDwqq5Vr5ZpTQUwqc_zD96ju-fAgaJFIEkmsg', '7DggijQxYX_ryUuWQFAquGwThvvR65pDjW72Soc29_wf_1yyo7V_gENrOS2bJuQt6y91hUbBCfmU-w', 'YatEtBPOugYQ1Z-n5rIFmJFm-oJJcET8nnzDbA-en0FZTipcYFIdHdo7x6baa4yYhbJVBjvIuQIRWQ', 'JoW7YTUHGszJclgnMgrTpNDq4o4xG9GsjPSCyxJaY5D7dZquNd7t1B905VJAytjNRiEg_2gH58oXqw'], '2022-04-27T19:51:13+00:00')\n"
     ]
    }
   ],
   "source": [
    "for key in match_player_dict:\n",
    "    print(key, match_player_dict[key])"
   ]
  },
  {
   "cell_type": "code",
   "execution_count": null,
   "metadata": {},
   "outputs": [],
   "source": []
  }
 ],
 "metadata": {
  "interpreter": {
   "hash": "220671c30e3884f5542a7062b450e1940f217d06df2f45e34436a78ba1601c98"
  },
  "kernelspec": {
   "display_name": "Python 3.9.12 ('LolAnalytics')",
   "language": "python",
   "name": "python3"
  },
  "language_info": {
   "codemirror_mode": {
    "name": "ipython",
    "version": 3
   },
   "file_extension": ".py",
   "mimetype": "text/x-python",
   "name": "python",
   "nbconvert_exporter": "python",
   "pygments_lexer": "ipython3",
   "version": "3.9.12"
  },
  "orig_nbformat": 4
 },
 "nbformat": 4,
 "nbformat_minor": 2
}
