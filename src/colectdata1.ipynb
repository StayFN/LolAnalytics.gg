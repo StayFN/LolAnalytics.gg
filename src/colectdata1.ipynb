{
 "cells": [
  {
   "cell_type": "code",
   "execution_count": null,
   "metadata": {},
   "outputs": [],
   "source": [
    "import cassiopeia as cass\n",
    "from cassiopeia import Summoner, Match\n",
    "from cassiopeia.data import Season, Queue\n",
    "from collections import Counter\n",
    "\n",
    "\n"
   ]
  },
  {
   "cell_type": "code",
   "execution_count": null,
   "metadata": {},
   "outputs": [],
   "source": [
    "\n",
    "cass.set_riot_api_key(\"RGAPI-1eb69191-50f6-4d96-9f57-feb9831b9706\") #Get it from Riot Dev Portal https://developer.riotgames.com/"
   ]
  },
  {
   "cell_type": "code",
   "execution_count": null,
   "metadata": {},
   "outputs": [],
   "source": [
    "# Notice how this function never makes a call to the summoner endpoint because we provide all the needed data!\n",
    "\n",
    "summoner = Summoner(name=\"Fod Zensei\", region=\"EUW\") \n",
    "\n",
    "# A MatchHistory is a lazy list, meaning it's elements only get loaded as-needed.\n",
    "\n",
    "match_history = cass.get_match_history(\n",
    "    continent=summoner.region.continent,\n",
    "    puuid=summoner.puuid,\n",
    "    begin_index = 0,\n",
    "    end_index = 100)\n"
   ]
  },
  {
   "cell_type": "code",
   "execution_count": null,
   "metadata": {},
   "outputs": [],
   "source": [
    "match_players_dict = {}\n",
    "match_player_list = []\n",
    "matchcount = 0\n",
    "for match in match_history:\n",
    "    print(match.creation)\n",
    "    for p in match.participants:\n",
    "    \n",
    "    # print(p.summoner.name, 'playing', p.champion.name)\n",
    "        name = p.summoner.name\n",
    "        match_player_list.append(p.summoner.puuid)\n",
    "        print(f\"Matchid: {match.id} Matchcount: {matchcount} Name: {p.summoner.name} Puuid: {p.summoner.puuid}\")\n",
    "\n",
    "    matchcount += 1\n",
    "    "
   ]
  }
 ],
 "metadata": {
  "language_info": {
   "name": "python"
  },
  "orig_nbformat": 4
 },
 "nbformat": 4,
 "nbformat_minor": 2
}
