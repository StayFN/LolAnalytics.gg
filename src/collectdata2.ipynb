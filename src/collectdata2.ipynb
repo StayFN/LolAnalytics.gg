{
 "cells": [
  {
   "cell_type": "code",
   "execution_count": null,
   "metadata": {},
   "outputs": [],
   "source": [
    "import random\n",
    "from sortedcontainers import SortedList\n",
    "import arrow\n",
    "\n",
    "from cassiopeia.core import Summoner, MatchHistory, Match\n",
    "from cassiopeia import Queue, Patch\n",
    "import cassiopeia as cass\n"
   ]
  },
  {
   "cell_type": "code",
   "execution_count": null,
   "metadata": {},
   "outputs": [],
   "source": [
    "cass.set_riot_api_key(\"Key\") #Get it from Riot Dev Portal https://developer.riotgames.com/\n"
   ]
  },
  {
   "cell_type": "code",
   "execution_count": null,
   "metadata": {},
   "outputs": [],
   "source": [
    "starting_summoner_name = \"Fod Zensei\" #Can use ID Later\n",
    "starting_summoner_region = \"EUW\"\n",
    "summoner = Summoner(name=starting_summoner_name, region=starting_summoner_region) # Setting Starting Summoner at which we start the Data Collection\n",
    "\n",
    "unpulled_summoner_ids = SortedList([summoner.id])\n",
    "pulled_summoner_ids = SortedList()\n",
    "\n",
    "unpulled_match_ids = SortedList()\n",
    "pulled_match_ids = SortedList()"
   ]
  },
  {
   "cell_type": "code",
   "execution_count": null,
   "metadata": {},
   "outputs": [],
   "source": [
    "#Data Collection Loop\n",
    "\n",
    "while unpulled_summoner_ids:\n",
    "    # Get a random summoner from our list of unpulled summoners and pull their match history\n",
    "    new_summoner_id = random.choice(unpulled_summoner_ids)\n",
    "    new_summoner = Summoner(id=new_summoner_id, region=\"EUW\")\n",
    "\n",
    "    matches = MatchHistory(summoner=summoner)\n",
    "\n",
    "    unpulled_match_ids.update([match.id for match in matches])\n",
    "    unpulled_summoner_ids.remove(new_summoner_id)\n",
    "    pulled_summoner_ids.add(new_summoner_id)\n",
    "\n",
    "    \n",
    "    while unpulled_match_ids:\n",
    "        # Get a random match from our list of matches\n",
    "        new_match_id = random.choice(unpulled_match_ids)\n",
    "        new_match = Match(id=new_match_id, region=region)\n",
    "        for participant in new_match.participants:\n",
    "            if (\n",
    "                participant.summoner.id not in pulled_summoner_ids\n",
    "                and participant.summoner.id not in unpulled_summoner_ids\n",
    "            ):\n",
    "                unpulled_summoner_ids.add(participant.summoner.id)\n",
    "        \n",
    "        # The above lines will trigger the match to load its data by iterating over all the participants.\n",
    "        # If you have a database in your datapipeline, the match will automatically be stored in it.\n",
    "        unpulled_match_ids.remove(new_match_id)\n",
    "        pulled_match_ids.add(new_match_id)\n",
    "        "
   ]
  }
 ],
 "metadata": {
  "interpreter": {
   "hash": "220671c30e3884f5542a7062b450e1940f217d06df2f45e34436a78ba1601c98"
  },
  "kernelspec": {
   "display_name": "Python 3.9.12 ('LolAnalytics')",
   "language": "python",
   "name": "python3"
  },
  "language_info": {
   "name": "python",
   "version": "3.9.12"
  },
  "orig_nbformat": 4
 },
 "nbformat": 4,
 "nbformat_minor": 2
}
