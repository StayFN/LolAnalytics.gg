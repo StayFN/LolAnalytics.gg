{
 "cells": [
  {
   "cell_type": "code",
   "execution_count": 134,
   "metadata": {},
   "outputs": [],
   "source": [
    "import pandas as pd\n",
    "import matplotlib.pyplot as plt\n",
    "%matplotlib inline "
   ]
  },
  {
   "cell_type": "code",
   "execution_count": 135,
   "metadata": {},
   "outputs": [],
   "source": [
    "fully_mined_pro = pd.read_csv(\"./data/fullyMinedSumonerPUUID_ProPlayers_Rank.csv\", header=None)\n",
    "fully_mind_avg = pd.read_csv(\"./data/fullyMinedSumonerPUUID_RankAvgPlayers.csv\", header=None)"
   ]
  },
  {
   "cell_type": "code",
   "execution_count": 136,
   "metadata": {},
   "outputs": [],
   "source": [
    "fully_mined_pro.columns = [\"PUUID\", \"Rank\"]\n",
    "fully_mind_avg.columns = [\"PUUID\", \"Rank\"]"
   ]
  },
  {
   "cell_type": "code",
   "execution_count": 137,
   "metadata": {},
   "outputs": [],
   "source": [
    "RanksPro = fully_mined_pro[\"Rank\"]\n",
    "RanksAvg = fully_mind_avg[\"Rank\"]"
   ]
  },
  {
   "cell_type": "code",
   "execution_count": 138,
   "metadata": {},
   "outputs": [],
   "source": [
    "Pro_Rank_Grouped = fully_mined_pro.groupby(\"Rank\").size()\n",
    "Avg_Rank_Grouped = fully_mind_avg.groupby(\"Rank\").size()"
   ]
  },
  {
   "cell_type": "code",
   "execution_count": 139,
   "metadata": {},
   "outputs": [
    {
     "data": {
      "text/html": [
       "<div>\n",
       "<style scoped>\n",
       "    .dataframe tbody tr th:only-of-type {\n",
       "        vertical-align: middle;\n",
       "    }\n",
       "\n",
       "    .dataframe tbody tr th {\n",
       "        vertical-align: top;\n",
       "    }\n",
       "\n",
       "    .dataframe thead th {\n",
       "        text-align: right;\n",
       "    }\n",
       "</style>\n",
       "<table border=\"1\" class=\"dataframe\">\n",
       "  <thead>\n",
       "    <tr style=\"text-align: right;\">\n",
       "      <th></th>\n",
       "      <th>PUUID</th>\n",
       "      <th>Rank</th>\n",
       "    </tr>\n",
       "  </thead>\n",
       "  <tbody>\n",
       "    <tr>\n",
       "      <th>0</th>\n",
       "      <td>NFuiAvF0C9YMCBBfgJpDYAaaZqS8IFhnKX5_02QBeZIREl...</td>\n",
       "      <td>Gold</td>\n",
       "    </tr>\n",
       "    <tr>\n",
       "      <th>1</th>\n",
       "      <td>ATaIws30cj0UfWN179fxT95zfYUrAAWNPhJHRh6h8_IIYR...</td>\n",
       "      <td>Gold</td>\n",
       "    </tr>\n",
       "    <tr>\n",
       "      <th>2</th>\n",
       "      <td>-q5TqZRmRLTIBcRfX9EPDjksLEReE7qtm7i4rplVd6BoGk...</td>\n",
       "      <td>Gold</td>\n",
       "    </tr>\n",
       "    <tr>\n",
       "      <th>3</th>\n",
       "      <td>2skPefI2lAflL18iJ3KCyb5fZ7OmIKI-d7iaI0Tc1e3Sjn...</td>\n",
       "      <td>Gold</td>\n",
       "    </tr>\n",
       "    <tr>\n",
       "      <th>4</th>\n",
       "      <td>jue-VFnXs4CIrR0kAfkU3dd8voN7im5Z7nJprRX-ELuJJH...</td>\n",
       "      <td>Gold</td>\n",
       "    </tr>\n",
       "    <tr>\n",
       "      <th>...</th>\n",
       "      <td>...</td>\n",
       "      <td>...</td>\n",
       "    </tr>\n",
       "    <tr>\n",
       "      <th>1977</th>\n",
       "      <td>bZU6IE3Udr7m7bR_Qf_lzvoYnckgQmzy6hzF0yI5xiUYqF...</td>\n",
       "      <td>Silver</td>\n",
       "    </tr>\n",
       "    <tr>\n",
       "      <th>1978</th>\n",
       "      <td>7UMjG4DUUDhdZ0q_wr1yOZ-h9jOy6Cziz8f67mWiyBzw_i...</td>\n",
       "      <td>Gold</td>\n",
       "    </tr>\n",
       "    <tr>\n",
       "      <th>1979</th>\n",
       "      <td>yMNhkwPWHW-1hFIDvwcnNuT6Ts2lJ_c_RORZ3rwxTaBPtj...</td>\n",
       "      <td>Silver</td>\n",
       "    </tr>\n",
       "    <tr>\n",
       "      <th>1980</th>\n",
       "      <td>3ja85h0qB7sQdMmFxD_t83EuUQlVUupHxK4d4Z4xfWK2IE...</td>\n",
       "      <td>Gold</td>\n",
       "    </tr>\n",
       "    <tr>\n",
       "      <th>1981</th>\n",
       "      <td>s2ReplqdYhYY8VzbOYYOOyuIx6ajvCn5Uy_GZddTvHzw9U...</td>\n",
       "      <td>Silver</td>\n",
       "    </tr>\n",
       "  </tbody>\n",
       "</table>\n",
       "<p>1982 rows × 2 columns</p>\n",
       "</div>"
      ],
      "text/plain": [
       "                                                  PUUID    Rank\n",
       "0     NFuiAvF0C9YMCBBfgJpDYAaaZqS8IFhnKX5_02QBeZIREl...    Gold\n",
       "1     ATaIws30cj0UfWN179fxT95zfYUrAAWNPhJHRh6h8_IIYR...    Gold\n",
       "2     -q5TqZRmRLTIBcRfX9EPDjksLEReE7qtm7i4rplVd6BoGk...    Gold\n",
       "3     2skPefI2lAflL18iJ3KCyb5fZ7OmIKI-d7iaI0Tc1e3Sjn...    Gold\n",
       "4     jue-VFnXs4CIrR0kAfkU3dd8voN7im5Z7nJprRX-ELuJJH...    Gold\n",
       "...                                                 ...     ...\n",
       "1977  bZU6IE3Udr7m7bR_Qf_lzvoYnckgQmzy6hzF0yI5xiUYqF...  Silver\n",
       "1978  7UMjG4DUUDhdZ0q_wr1yOZ-h9jOy6Cziz8f67mWiyBzw_i...    Gold\n",
       "1979  yMNhkwPWHW-1hFIDvwcnNuT6Ts2lJ_c_RORZ3rwxTaBPtj...  Silver\n",
       "1980  3ja85h0qB7sQdMmFxD_t83EuUQlVUupHxK4d4Z4xfWK2IE...    Gold\n",
       "1981  s2ReplqdYhYY8VzbOYYOOyuIx6ajvCn5Uy_GZddTvHzw9U...  Silver\n",
       "\n",
       "[1982 rows x 2 columns]"
      ]
     },
     "execution_count": 139,
     "metadata": {},
     "output_type": "execute_result"
    }
   ],
   "source": [
    "fully_mind_avg"
   ]
  },
  {
   "cell_type": "code",
   "execution_count": 130,
   "metadata": {},
   "outputs": [
    {
     "data": {
      "text/html": [
       "<div>\n",
       "<style scoped>\n",
       "    .dataframe tbody tr th:only-of-type {\n",
       "        vertical-align: middle;\n",
       "    }\n",
       "\n",
       "    .dataframe tbody tr th {\n",
       "        vertical-align: top;\n",
       "    }\n",
       "\n",
       "    .dataframe thead th {\n",
       "        text-align: right;\n",
       "    }\n",
       "</style>\n",
       "<table border=\"1\" class=\"dataframe\">\n",
       "  <thead>\n",
       "    <tr style=\"text-align: right;\">\n",
       "      <th></th>\n",
       "      <th>PUUID</th>\n",
       "      <th>Rank</th>\n",
       "    </tr>\n",
       "  </thead>\n",
       "  <tbody>\n",
       "    <tr>\n",
       "      <th>0</th>\n",
       "      <td>NFuiAvF0C9YMCBBfgJpDYAaaZqS8IFhnKX5_02QBeZIREl...</td>\n",
       "      <td>GoldMaster</td>\n",
       "    </tr>\n",
       "    <tr>\n",
       "      <th>1</th>\n",
       "      <td>ATaIws30cj0UfWN179fxT95zfYUrAAWNPhJHRh6h8_IIYR...</td>\n",
       "      <td>GoldMaster</td>\n",
       "    </tr>\n",
       "    <tr>\n",
       "      <th>2</th>\n",
       "      <td>-q5TqZRmRLTIBcRfX9EPDjksLEReE7qtm7i4rplVd6BoGk...</td>\n",
       "      <td>GoldMaster</td>\n",
       "    </tr>\n",
       "    <tr>\n",
       "      <th>3</th>\n",
       "      <td>2skPefI2lAflL18iJ3KCyb5fZ7OmIKI-d7iaI0Tc1e3Sjn...</td>\n",
       "      <td>GoldMaster</td>\n",
       "    </tr>\n",
       "    <tr>\n",
       "      <th>4</th>\n",
       "      <td>jue-VFnXs4CIrR0kAfkU3dd8voN7im5Z7nJprRX-ELuJJH...</td>\n",
       "      <td>GoldMaster</td>\n",
       "    </tr>\n",
       "    <tr>\n",
       "      <th>...</th>\n",
       "      <td>...</td>\n",
       "      <td>...</td>\n",
       "    </tr>\n",
       "    <tr>\n",
       "      <th>1977</th>\n",
       "      <td>bZU6IE3Udr7m7bR_Qf_lzvoYnckgQmzy6hzF0yI5xiUYqF...</td>\n",
       "      <td>SilverMaster</td>\n",
       "    </tr>\n",
       "    <tr>\n",
       "      <th>1978</th>\n",
       "      <td>7UMjG4DUUDhdZ0q_wr1yOZ-h9jOy6Cziz8f67mWiyBzw_i...</td>\n",
       "      <td>GoldMaster</td>\n",
       "    </tr>\n",
       "    <tr>\n",
       "      <th>1979</th>\n",
       "      <td>yMNhkwPWHW-1hFIDvwcnNuT6Ts2lJ_c_RORZ3rwxTaBPtj...</td>\n",
       "      <td>SilverMaster</td>\n",
       "    </tr>\n",
       "    <tr>\n",
       "      <th>1980</th>\n",
       "      <td>3ja85h0qB7sQdMmFxD_t83EuUQlVUupHxK4d4Z4xfWK2IE...</td>\n",
       "      <td>GoldMaster</td>\n",
       "    </tr>\n",
       "    <tr>\n",
       "      <th>1981</th>\n",
       "      <td>s2ReplqdYhYY8VzbOYYOOyuIx6ajvCn5Uy_GZddTvHzw9U...</td>\n",
       "      <td>SilverMaster</td>\n",
       "    </tr>\n",
       "  </tbody>\n",
       "</table>\n",
       "<p>1982 rows × 2 columns</p>\n",
       "</div>"
      ],
      "text/plain": [
       "                                                  PUUID          Rank\n",
       "0     NFuiAvF0C9YMCBBfgJpDYAaaZqS8IFhnKX5_02QBeZIREl...    GoldMaster\n",
       "1     ATaIws30cj0UfWN179fxT95zfYUrAAWNPhJHRh6h8_IIYR...    GoldMaster\n",
       "2     -q5TqZRmRLTIBcRfX9EPDjksLEReE7qtm7i4rplVd6BoGk...    GoldMaster\n",
       "3     2skPefI2lAflL18iJ3KCyb5fZ7OmIKI-d7iaI0Tc1e3Sjn...    GoldMaster\n",
       "4     jue-VFnXs4CIrR0kAfkU3dd8voN7im5Z7nJprRX-ELuJJH...    GoldMaster\n",
       "...                                                 ...           ...\n",
       "1977  bZU6IE3Udr7m7bR_Qf_lzvoYnckgQmzy6hzF0yI5xiUYqF...  SilverMaster\n",
       "1978  7UMjG4DUUDhdZ0q_wr1yOZ-h9jOy6Cziz8f67mWiyBzw_i...    GoldMaster\n",
       "1979  yMNhkwPWHW-1hFIDvwcnNuT6Ts2lJ_c_RORZ3rwxTaBPtj...  SilverMaster\n",
       "1980  3ja85h0qB7sQdMmFxD_t83EuUQlVUupHxK4d4Z4xfWK2IE...    GoldMaster\n",
       "1981  s2ReplqdYhYY8VzbOYYOOyuIx6ajvCn5Uy_GZddTvHzw9U...  SilverMaster\n",
       "\n",
       "[1982 rows x 2 columns]"
      ]
     },
     "execution_count": 130,
     "metadata": {},
     "output_type": "execute_result"
    }
   ],
   "source": [
    "fully_mind_avg.loc[len(fully_mind_avg.index)] = [\"FillerPUUIDChallenger\" , \"Challenger\"]   #Grandmaster, Challenger, Master Missing\n",
    "fully_mind_avg.loc[len(fully_mind_avg.index)] = [\"FillerPUUIDGrandmaster\" , \"Grandmaster\"]\n",
    "fully_mind_avg.loc[len(fully_mind_avg.index)] = [\"FillerPUUIDMaster\" , \"Master\"]\n",
    "fully_mind_avg.add()\n",
    "fully_mind_avg.add()"
   ]
  },
  {
   "cell_type": "code",
   "execution_count": 133,
   "metadata": {},
   "outputs": [
    {
     "data": {
      "text/plain": [
       "Rank\n",
       "Bronze        77\n",
       "Diamond        5\n",
       "Gold        1289\n",
       "Iron           4\n",
       "Platinum      37\n",
       "Silver       295\n",
       "Unknown      275\n",
       "dtype: int64"
      ]
     },
     "execution_count": 133,
     "metadata": {},
     "output_type": "execute_result"
    }
   ],
   "source": [
    "fully_mind_avg.groupby(\"Rank\").size()"
   ]
  },
  {
   "cell_type": "code",
   "execution_count": 121,
   "metadata": {},
   "outputs": [],
   "source": [
    "\n",
    "Clean_df_avg = fully_mind_avg[fully_mined_pro.Rank != \"Unknown\"]\n",
    "Clean_df_pro = fully_mined_pro[fully_mined_pro.Rank != \"Unknown\"]"
   ]
  },
  {
   "cell_type": "code",
   "execution_count": 122,
   "metadata": {},
   "outputs": [],
   "source": [
    "\n",
    "df_mapping = pd.DataFrame({\n",
    "    'Rank':[\"Challenger\" , \"Grandmaster\" , \"Master\", \"Diamond\" , \"Platinum\", \"Gold\", \"Silver\", \"Bronze\", \"Iron\"],\n",
    "})\n",
    "\n",
    "sort_mapping = df_mapping.reset_index().set_index('Rank')"
   ]
  },
  {
   "cell_type": "code",
   "execution_count": 123,
   "metadata": {},
   "outputs": [
    {
     "name": "stderr",
     "output_type": "stream",
     "text": [
      "C:\\Users\\stefa\\AppData\\Local\\Temp\\ipykernel_14308\\4120131247.py:1: SettingWithCopyWarning: \n",
      "A value is trying to be set on a copy of a slice from a DataFrame.\n",
      "Try using .loc[row_indexer,col_indexer] = value instead\n",
      "\n",
      "See the caveats in the documentation: https://pandas.pydata.org/pandas-docs/stable/user_guide/indexing.html#returning-a-view-versus-a-copy\n",
      "  Clean_df_pro['RankNum'] = Clean_df_pro['Rank'].map(sort_mapping['index'])\n"
     ]
    }
   ],
   "source": [
    "Clean_df_pro['RankNum'] = Clean_df_pro['Rank'].map(sort_mapping['index'])\n",
    "Clean_df_pro = Clean_df_pro.sort_values('RankNum')\n"
   ]
  },
  {
   "cell_type": "code",
   "execution_count": 124,
   "metadata": {},
   "outputs": [
    {
     "data": {
      "text/html": [
       "<div>\n",
       "<style scoped>\n",
       "    .dataframe tbody tr th:only-of-type {\n",
       "        vertical-align: middle;\n",
       "    }\n",
       "\n",
       "    .dataframe tbody tr th {\n",
       "        vertical-align: top;\n",
       "    }\n",
       "\n",
       "    .dataframe thead th {\n",
       "        text-align: right;\n",
       "    }\n",
       "</style>\n",
       "<table border=\"1\" class=\"dataframe\">\n",
       "  <thead>\n",
       "    <tr style=\"text-align: right;\">\n",
       "      <th></th>\n",
       "      <th>PUUID</th>\n",
       "      <th>Rank</th>\n",
       "      <th>RankNum</th>\n",
       "    </tr>\n",
       "  </thead>\n",
       "  <tbody>\n",
       "    <tr>\n",
       "      <th>1310</th>\n",
       "      <td>ecYYvuzy4CSbhp0ZQEuHf7Sm-eqhZuDPw6fhr3n5MpckR8...</td>\n",
       "      <td>Challenger</td>\n",
       "      <td>0</td>\n",
       "    </tr>\n",
       "    <tr>\n",
       "      <th>1207</th>\n",
       "      <td>1gybheTwOx3ElL7PpofPk9D2wsfHOk6T-gTSSgCcEJyOKN...</td>\n",
       "      <td>Grandmaster</td>\n",
       "      <td>1</td>\n",
       "    </tr>\n",
       "    <tr>\n",
       "      <th>3050</th>\n",
       "      <td>_jtLMdbJ6-s95YwSYewiLRDgPnQlSWepv6Qvx_-0ZGEzK0...</td>\n",
       "      <td>Master</td>\n",
       "      <td>2</td>\n",
       "    </tr>\n",
       "    <tr>\n",
       "      <th>984</th>\n",
       "      <td>MyAVszhVsj0fEgY8U9xJ4rwrCHT5nmDHgY5nCWm1LPhUg_...</td>\n",
       "      <td>Master</td>\n",
       "      <td>2</td>\n",
       "    </tr>\n",
       "    <tr>\n",
       "      <th>983</th>\n",
       "      <td>U3vrcVUENWOm-dKF-DGqTzFgF4twPd-bnNk5cw09E06_Dh...</td>\n",
       "      <td>Master</td>\n",
       "      <td>2</td>\n",
       "    </tr>\n",
       "    <tr>\n",
       "      <th>...</th>\n",
       "      <td>...</td>\n",
       "      <td>...</td>\n",
       "      <td>...</td>\n",
       "    </tr>\n",
       "    <tr>\n",
       "      <th>1327</th>\n",
       "      <td>DI2-ImEabbMIJJM2T_xb4YuUQTcyi9r2IfzF1GkWxTwtWT...</td>\n",
       "      <td>Silver</td>\n",
       "      <td>6</td>\n",
       "    </tr>\n",
       "    <tr>\n",
       "      <th>808</th>\n",
       "      <td>9qndFdTQIuLZOT7WSufVnjha8r3pbNqZMKnp6COEcMMM5x...</td>\n",
       "      <td>Silver</td>\n",
       "      <td>6</td>\n",
       "    </tr>\n",
       "    <tr>\n",
       "      <th>49</th>\n",
       "      <td>6_re5a4AK9kWyJpBmZDbUQPHEZPwwCaCk6RSEd3ZAhlmm8...</td>\n",
       "      <td>Silver</td>\n",
       "      <td>6</td>\n",
       "    </tr>\n",
       "    <tr>\n",
       "      <th>1284</th>\n",
       "      <td>Zk4FEJbN_gAp59lGfYtOI_mSodYzUfaJrb_i2dbgZuKQYv...</td>\n",
       "      <td>Bronze</td>\n",
       "      <td>7</td>\n",
       "    </tr>\n",
       "    <tr>\n",
       "      <th>2836</th>\n",
       "      <td>-apuCgiNbiiA9ib0nsXzTRLCGDBAudFD5Hq-vfGufNjA_B...</td>\n",
       "      <td>Iron</td>\n",
       "      <td>8</td>\n",
       "    </tr>\n",
       "  </tbody>\n",
       "</table>\n",
       "<p>2741 rows × 3 columns</p>\n",
       "</div>"
      ],
      "text/plain": [
       "                                                  PUUID         Rank  RankNum\n",
       "1310  ecYYvuzy4CSbhp0ZQEuHf7Sm-eqhZuDPw6fhr3n5MpckR8...   Challenger        0\n",
       "1207  1gybheTwOx3ElL7PpofPk9D2wsfHOk6T-gTSSgCcEJyOKN...  Grandmaster        1\n",
       "3050  _jtLMdbJ6-s95YwSYewiLRDgPnQlSWepv6Qvx_-0ZGEzK0...       Master        2\n",
       "984   MyAVszhVsj0fEgY8U9xJ4rwrCHT5nmDHgY5nCWm1LPhUg_...       Master        2\n",
       "983   U3vrcVUENWOm-dKF-DGqTzFgF4twPd-bnNk5cw09E06_Dh...       Master        2\n",
       "...                                                 ...          ...      ...\n",
       "1327  DI2-ImEabbMIJJM2T_xb4YuUQTcyi9r2IfzF1GkWxTwtWT...       Silver        6\n",
       "808   9qndFdTQIuLZOT7WSufVnjha8r3pbNqZMKnp6COEcMMM5x...       Silver        6\n",
       "49    6_re5a4AK9kWyJpBmZDbUQPHEZPwwCaCk6RSEd3ZAhlmm8...       Silver        6\n",
       "1284  Zk4FEJbN_gAp59lGfYtOI_mSodYzUfaJrb_i2dbgZuKQYv...       Bronze        7\n",
       "2836  -apuCgiNbiiA9ib0nsXzTRLCGDBAudFD5Hq-vfGufNjA_B...         Iron        8\n",
       "\n",
       "[2741 rows x 3 columns]"
      ]
     },
     "execution_count": 124,
     "metadata": {},
     "output_type": "execute_result"
    }
   ],
   "source": [
    "Clean_df_pro"
   ]
  },
  {
   "cell_type": "code",
   "execution_count": null,
   "metadata": {},
   "outputs": [],
   "source": []
  }
 ],
 "metadata": {
  "interpreter": {
   "hash": "4f523f7c76dd18e7ed336217f32f6f704c23c323644912475b9d3570cf04b060"
  },
  "kernelspec": {
   "display_name": "Python 3.9.7 ('base')",
   "language": "python",
   "name": "python3"
  },
  "language_info": {
   "codemirror_mode": {
    "name": "ipython",
    "version": 3
   },
   "file_extension": ".py",
   "mimetype": "text/x-python",
   "name": "python",
   "nbconvert_exporter": "python",
   "pygments_lexer": "ipython3",
   "version": "3.9.7"
  },
  "orig_nbformat": 4
 },
 "nbformat": 4,
 "nbformat_minor": 2
}
