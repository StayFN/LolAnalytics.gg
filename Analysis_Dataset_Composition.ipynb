{
 "cells": [
  {
   "cell_type": "code",
   "execution_count": 174,
   "metadata": {},
   "outputs": [],
   "source": [
    "import pandas as pd\n",
    "import matplotlib.pyplot as plt\n",
    "%matplotlib inline "
   ]
  },
  {
   "cell_type": "code",
   "execution_count": 175,
   "metadata": {},
   "outputs": [],
   "source": [
    "fully_mined_pro = pd.read_csv(\"./data/fullyMinedSumonerPUUID_ProPlayers_Rank.csv\", header=None)\n",
    "fully_mind_avg = pd.read_csv(\"./data/fullyMinedSumonerPUUID_RankAvgPlayers.csv\", header=None)"
   ]
  },
  {
   "cell_type": "code",
   "execution_count": 176,
   "metadata": {},
   "outputs": [],
   "source": [
    "fully_mined_pro.columns = [\"PUUID\", \"Rank\"]\n",
    "fully_mind_avg.columns = [\"PUUID\", \"Rank\"]"
   ]
  },
  {
   "cell_type": "code",
   "execution_count": 177,
   "metadata": {},
   "outputs": [],
   "source": [
    "RanksPro = fully_mined_pro[\"Rank\"]\n",
    "RanksAvg = fully_mind_avg[\"Rank\"]"
   ]
  },
  {
   "cell_type": "code",
   "execution_count": 178,
   "metadata": {},
   "outputs": [],
   "source": [
    "Pro_Rank_Grouped = fully_mined_pro.groupby(\"Rank\").size()\n",
    "Avg_Rank_Grouped = fully_mind_avg.groupby(\"Rank\").size()"
   ]
  },
  {
   "cell_type": "code",
   "execution_count": 180,
   "metadata": {},
   "outputs": [],
   "source": [
    "fully_mind_avg.loc[len(fully_mind_avg.index)] = [\"FillerPUUIDChallenger\" , \"Challenger\"]   #Grandmaster, Challenger, Master Missing\n",
    "fully_mind_avg.loc[len(fully_mind_avg.index)] = [\"FillerPUUIDGrandmaster\" , \"Grandmaster\"]\n",
    "fully_mind_avg.loc[len(fully_mind_avg.index)] = [\"FillerPUUIDMaster\" , \"Master\"]"
   ]
  },
  {
   "cell_type": "code",
   "execution_count": 182,
   "metadata": {},
   "outputs": [],
   "source": [
    "\n",
    "Clean_df_avg = fully_mind_avg[fully_mind_avg.Rank != \"Unknown\"]\n",
    "Clean_df_pro = fully_mined_pro[fully_mined_pro.Rank != \"Unknown\"]"
   ]
  },
  {
   "cell_type": "code",
   "execution_count": 183,
   "metadata": {},
   "outputs": [],
   "source": [
    "\n",
    "df_mapping = pd.DataFrame({\n",
    "    'Rank':[\"Challenger\" , \"Grandmaster\" , \"Master\", \"Diamond\" , \"Platinum\", \"Gold\", \"Silver\", \"Bronze\", \"Iron\"],\n",
    "})\n",
    "\n",
    "sort_mapping = df_mapping.reset_index().set_index('Rank')"
   ]
  },
  {
   "cell_type": "code",
   "execution_count": 184,
   "metadata": {},
   "outputs": [
    {
     "name": "stderr",
     "output_type": "stream",
     "text": [
      "C:\\Users\\stefa\\AppData\\Local\\Temp\\ipykernel_14308\\2259638034.py:1: SettingWithCopyWarning: \n",
      "A value is trying to be set on a copy of a slice from a DataFrame.\n",
      "Try using .loc[row_indexer,col_indexer] = value instead\n",
      "\n",
      "See the caveats in the documentation: https://pandas.pydata.org/pandas-docs/stable/user_guide/indexing.html#returning-a-view-versus-a-copy\n",
      "  Clean_df_pro['RankNum'] = Clean_df_pro['Rank'].map(sort_mapping['index'])\n",
      "C:\\Users\\stefa\\AppData\\Local\\Temp\\ipykernel_14308\\2259638034.py:4: SettingWithCopyWarning: \n",
      "A value is trying to be set on a copy of a slice from a DataFrame.\n",
      "Try using .loc[row_indexer,col_indexer] = value instead\n",
      "\n",
      "See the caveats in the documentation: https://pandas.pydata.org/pandas-docs/stable/user_guide/indexing.html#returning-a-view-versus-a-copy\n",
      "  Clean_df_avg['RankNum'] = Clean_df_avg['Rank'].map(sort_mapping['index'])\n"
     ]
    }
   ],
   "source": [
    "Clean_df_pro['RankNum'] = Clean_df_pro['Rank'].map(sort_mapping['index'])\n",
    "Clean_df_pro = Clean_df_pro.sort_values('RankNum')\n",
    "\n",
    "Clean_df_avg['RankNum'] = Clean_df_avg['Rank'].map(sort_mapping['index'])\n",
    "Clean_df_avg = Clean_df_avg.sort_values('RankNum')\n",
    "\n"
   ]
  },
  {
   "cell_type": "code",
   "execution_count": 185,
   "metadata": {},
   "outputs": [
    {
     "data": {
      "text/html": [
       "<div>\n",
       "<style scoped>\n",
       "    .dataframe tbody tr th:only-of-type {\n",
       "        vertical-align: middle;\n",
       "    }\n",
       "\n",
       "    .dataframe tbody tr th {\n",
       "        vertical-align: top;\n",
       "    }\n",
       "\n",
       "    .dataframe thead th {\n",
       "        text-align: right;\n",
       "    }\n",
       "</style>\n",
       "<table border=\"1\" class=\"dataframe\">\n",
       "  <thead>\n",
       "    <tr style=\"text-align: right;\">\n",
       "      <th></th>\n",
       "      <th>PUUID</th>\n",
       "      <th>Rank</th>\n",
       "      <th>RankNum</th>\n",
       "    </tr>\n",
       "  </thead>\n",
       "  <tbody>\n",
       "    <tr>\n",
       "      <th>1310</th>\n",
       "      <td>ecYYvuzy4CSbhp0ZQEuHf7Sm-eqhZuDPw6fhr3n5MpckR8...</td>\n",
       "      <td>Challenger</td>\n",
       "      <td>0</td>\n",
       "    </tr>\n",
       "    <tr>\n",
       "      <th>1207</th>\n",
       "      <td>1gybheTwOx3ElL7PpofPk9D2wsfHOk6T-gTSSgCcEJyOKN...</td>\n",
       "      <td>Grandmaster</td>\n",
       "      <td>1</td>\n",
       "    </tr>\n",
       "    <tr>\n",
       "      <th>3050</th>\n",
       "      <td>_jtLMdbJ6-s95YwSYewiLRDgPnQlSWepv6Qvx_-0ZGEzK0...</td>\n",
       "      <td>Master</td>\n",
       "      <td>2</td>\n",
       "    </tr>\n",
       "    <tr>\n",
       "      <th>984</th>\n",
       "      <td>MyAVszhVsj0fEgY8U9xJ4rwrCHT5nmDHgY5nCWm1LPhUg_...</td>\n",
       "      <td>Master</td>\n",
       "      <td>2</td>\n",
       "    </tr>\n",
       "    <tr>\n",
       "      <th>983</th>\n",
       "      <td>U3vrcVUENWOm-dKF-DGqTzFgF4twPd-bnNk5cw09E06_Dh...</td>\n",
       "      <td>Master</td>\n",
       "      <td>2</td>\n",
       "    </tr>\n",
       "    <tr>\n",
       "      <th>...</th>\n",
       "      <td>...</td>\n",
       "      <td>...</td>\n",
       "      <td>...</td>\n",
       "    </tr>\n",
       "    <tr>\n",
       "      <th>1327</th>\n",
       "      <td>DI2-ImEabbMIJJM2T_xb4YuUQTcyi9r2IfzF1GkWxTwtWT...</td>\n",
       "      <td>Silver</td>\n",
       "      <td>6</td>\n",
       "    </tr>\n",
       "    <tr>\n",
       "      <th>808</th>\n",
       "      <td>9qndFdTQIuLZOT7WSufVnjha8r3pbNqZMKnp6COEcMMM5x...</td>\n",
       "      <td>Silver</td>\n",
       "      <td>6</td>\n",
       "    </tr>\n",
       "    <tr>\n",
       "      <th>49</th>\n",
       "      <td>6_re5a4AK9kWyJpBmZDbUQPHEZPwwCaCk6RSEd3ZAhlmm8...</td>\n",
       "      <td>Silver</td>\n",
       "      <td>6</td>\n",
       "    </tr>\n",
       "    <tr>\n",
       "      <th>1284</th>\n",
       "      <td>Zk4FEJbN_gAp59lGfYtOI_mSodYzUfaJrb_i2dbgZuKQYv...</td>\n",
       "      <td>Bronze</td>\n",
       "      <td>7</td>\n",
       "    </tr>\n",
       "    <tr>\n",
       "      <th>2836</th>\n",
       "      <td>-apuCgiNbiiA9ib0nsXzTRLCGDBAudFD5Hq-vfGufNjA_B...</td>\n",
       "      <td>Iron</td>\n",
       "      <td>8</td>\n",
       "    </tr>\n",
       "  </tbody>\n",
       "</table>\n",
       "<p>2741 rows × 3 columns</p>\n",
       "</div>"
      ],
      "text/plain": [
       "                                                  PUUID         Rank  RankNum\n",
       "1310  ecYYvuzy4CSbhp0ZQEuHf7Sm-eqhZuDPw6fhr3n5MpckR8...   Challenger        0\n",
       "1207  1gybheTwOx3ElL7PpofPk9D2wsfHOk6T-gTSSgCcEJyOKN...  Grandmaster        1\n",
       "3050  _jtLMdbJ6-s95YwSYewiLRDgPnQlSWepv6Qvx_-0ZGEzK0...       Master        2\n",
       "984   MyAVszhVsj0fEgY8U9xJ4rwrCHT5nmDHgY5nCWm1LPhUg_...       Master        2\n",
       "983   U3vrcVUENWOm-dKF-DGqTzFgF4twPd-bnNk5cw09E06_Dh...       Master        2\n",
       "...                                                 ...          ...      ...\n",
       "1327  DI2-ImEabbMIJJM2T_xb4YuUQTcyi9r2IfzF1GkWxTwtWT...       Silver        6\n",
       "808   9qndFdTQIuLZOT7WSufVnjha8r3pbNqZMKnp6COEcMMM5x...       Silver        6\n",
       "49    6_re5a4AK9kWyJpBmZDbUQPHEZPwwCaCk6RSEd3ZAhlmm8...       Silver        6\n",
       "1284  Zk4FEJbN_gAp59lGfYtOI_mSodYzUfaJrb_i2dbgZuKQYv...       Bronze        7\n",
       "2836  -apuCgiNbiiA9ib0nsXzTRLCGDBAudFD5Hq-vfGufNjA_B...         Iron        8\n",
       "\n",
       "[2741 rows x 3 columns]"
      ]
     },
     "execution_count": 185,
     "metadata": {},
     "output_type": "execute_result"
    }
   ],
   "source": [
    "Clean_df_pro"
   ]
  },
  {
   "cell_type": "code",
   "execution_count": 186,
   "metadata": {},
   "outputs": [
    {
     "data": {
      "text/html": [
       "<div>\n",
       "<style scoped>\n",
       "    .dataframe tbody tr th:only-of-type {\n",
       "        vertical-align: middle;\n",
       "    }\n",
       "\n",
       "    .dataframe tbody tr th {\n",
       "        vertical-align: top;\n",
       "    }\n",
       "\n",
       "    .dataframe thead th {\n",
       "        text-align: right;\n",
       "    }\n",
       "</style>\n",
       "<table border=\"1\" class=\"dataframe\">\n",
       "  <thead>\n",
       "    <tr style=\"text-align: right;\">\n",
       "      <th></th>\n",
       "      <th>PUUID</th>\n",
       "      <th>Rank</th>\n",
       "      <th>RankNum</th>\n",
       "    </tr>\n",
       "  </thead>\n",
       "  <tbody>\n",
       "    <tr>\n",
       "      <th>1982</th>\n",
       "      <td>FillerPUUIDChallenger</td>\n",
       "      <td>Challenger</td>\n",
       "      <td>0</td>\n",
       "    </tr>\n",
       "    <tr>\n",
       "      <th>1983</th>\n",
       "      <td>FillerPUUIDGrandmaster</td>\n",
       "      <td>Grandmaster</td>\n",
       "      <td>1</td>\n",
       "    </tr>\n",
       "    <tr>\n",
       "      <th>1984</th>\n",
       "      <td>FillerPUUIDMaster</td>\n",
       "      <td>Master</td>\n",
       "      <td>2</td>\n",
       "    </tr>\n",
       "    <tr>\n",
       "      <th>1342</th>\n",
       "      <td>z6BHgvT0EkxhU4oBZE9b_mPY9ixPiH5hxuXryDvOMXS_sy...</td>\n",
       "      <td>Diamond</td>\n",
       "      <td>3</td>\n",
       "    </tr>\n",
       "    <tr>\n",
       "      <th>1308</th>\n",
       "      <td>12TFCB3EIkmn2ewIX-44fCMI4hvtVZNhQDGIwMC5MLAmGX...</td>\n",
       "      <td>Diamond</td>\n",
       "      <td>3</td>\n",
       "    </tr>\n",
       "    <tr>\n",
       "      <th>...</th>\n",
       "      <td>...</td>\n",
       "      <td>...</td>\n",
       "      <td>...</td>\n",
       "    </tr>\n",
       "    <tr>\n",
       "      <th>1375</th>\n",
       "      <td>zbR4CuQmfGvxe-DSKk6x2Mizx6EwViTv9s1NVqUZ8UrDO5...</td>\n",
       "      <td>Bronze</td>\n",
       "      <td>7</td>\n",
       "    </tr>\n",
       "    <tr>\n",
       "      <th>25</th>\n",
       "      <td>ZGh7aJpxZfQbcEAl8tXmR8a7VycscjdUxfu3ujPrmTJ2gJ...</td>\n",
       "      <td>Iron</td>\n",
       "      <td>8</td>\n",
       "    </tr>\n",
       "    <tr>\n",
       "      <th>87</th>\n",
       "      <td>dNwov98f68U1ux79HUCGO4AKf5BWERuwCx0QWq1uzEalZX...</td>\n",
       "      <td>Iron</td>\n",
       "      <td>8</td>\n",
       "    </tr>\n",
       "    <tr>\n",
       "      <th>74</th>\n",
       "      <td>h_57_3MALZjii77O-2LHLOx4YQhKXM6hOI4GZcmqyUnzBz...</td>\n",
       "      <td>Iron</td>\n",
       "      <td>8</td>\n",
       "    </tr>\n",
       "    <tr>\n",
       "      <th>99</th>\n",
       "      <td>oadF02ATDLFfZltjHnfwDLz5EwoT1l292BNxypdYLae38s...</td>\n",
       "      <td>Iron</td>\n",
       "      <td>8</td>\n",
       "    </tr>\n",
       "  </tbody>\n",
       "</table>\n",
       "<p>1710 rows × 3 columns</p>\n",
       "</div>"
      ],
      "text/plain": [
       "                                                  PUUID         Rank  RankNum\n",
       "1982                              FillerPUUIDChallenger   Challenger        0\n",
       "1983                             FillerPUUIDGrandmaster  Grandmaster        1\n",
       "1984                                  FillerPUUIDMaster       Master        2\n",
       "1342  z6BHgvT0EkxhU4oBZE9b_mPY9ixPiH5hxuXryDvOMXS_sy...      Diamond        3\n",
       "1308  12TFCB3EIkmn2ewIX-44fCMI4hvtVZNhQDGIwMC5MLAmGX...      Diamond        3\n",
       "...                                                 ...          ...      ...\n",
       "1375  zbR4CuQmfGvxe-DSKk6x2Mizx6EwViTv9s1NVqUZ8UrDO5...       Bronze        7\n",
       "25    ZGh7aJpxZfQbcEAl8tXmR8a7VycscjdUxfu3ujPrmTJ2gJ...         Iron        8\n",
       "87    dNwov98f68U1ux79HUCGO4AKf5BWERuwCx0QWq1uzEalZX...         Iron        8\n",
       "74    h_57_3MALZjii77O-2LHLOx4YQhKXM6hOI4GZcmqyUnzBz...         Iron        8\n",
       "99    oadF02ATDLFfZltjHnfwDLz5EwoT1l292BNxypdYLae38s...         Iron        8\n",
       "\n",
       "[1710 rows x 3 columns]"
      ]
     },
     "execution_count": 186,
     "metadata": {},
     "output_type": "execute_result"
    }
   ],
   "source": [
    "Clean_df_avg"
   ]
  },
  {
   "cell_type": "code",
   "execution_count": 187,
   "metadata": {},
   "outputs": [
    {
     "data": {
      "image/png": "[encoded data removed]",
      "text/plain": [
       "<Figure size 432x288 with 1 Axes>"
      ]
     },
     "metadata": {
      "needs_background": "light"
     },
     "output_type": "display_data"
    }
   ],
   "source": [
    "plt.hist(Clean_df_avg[\"Rank\"])\n",
    "plt.xticks(rotation=70)\n",
    "\n",
    "plt.show()"
   ]
  },
  {
   "cell_type": "code",
   "execution_count": 188,
   "metadata": {},
   "outputs": [
    {
     "data": {
      "image/png": "[encoded data removed]",
      "text/plain": [
       "<Figure size 432x288 with 1 Axes>"
      ]
     },
     "metadata": {
      "needs_background": "light"
     },
     "output_type": "display_data"
    }
   ],
   "source": [
    "plt.hist(Clean_df_pro[\"Rank\"])\n",
    "plt.xticks(rotation=70)\n",
    "\n",
    "plt.show()"
   ]
  },
  {
   "cell_type": "code",
   "execution_count": null,
   "metadata": {},
   "outputs": [],
   "source": []
  }
 ],
 "metadata": {
  "interpreter": {
   "hash": "4f523f7c76dd18e7ed336217f32f6f704c23c323644912475b9d3570cf04b060"
  },
  "kernelspec": {
   "display_name": "Python 3.9.7 ('base')",
   "language": "python",
   "name": "python3"
  },
  "language_info": {
   "codemirror_mode": {
    "name": "ipython",
    "version": 3
   },
   "file_extension": ".py",
   "mimetype": "text/x-python",
   "name": "python",
   "nbconvert_exporter": "python",
   "pygments_lexer": "ipython3",
   "version": "3.9.7"
  },
  "orig_nbformat": 4
 },
 "nbformat": 4,
 "nbformat_minor": 2
}
